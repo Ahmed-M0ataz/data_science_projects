{
 "cells": [
  {
   "cell_type": "markdown",
   "metadata": {},
   "source": [
    "> # Dear Epsilon Students, \n",
    "> # The More you practice The better You'll Be."
   ]
  },
  {
   "cell_type": "markdown",
   "metadata": {},
   "source": [
    "### Instructions: \n",
    "- Make sure that you understand this topics before you start.\n",
    "- If you found something hard to do, try and try then google it and finally ask someone. \n",
    "- You can divide this work into daily tasks so that you do not feel pressure.\n",
    "- After you finish, go to model answer and rate yourself. \n",
    "- If you find something ambiguous, Try to make a hypothesis to solve a problem. "
   ]
  },
  {
   "cell_type": "markdown",
   "metadata": {},
   "source": [
    "### Question classification: \n",
    "- Green is level 1 \n",
    "- Orange is level 2 \n",
    "- Red is level 3 "
   ]
  },
  {
   "cell_type": "markdown",
   "metadata": {},
   "source": [
    "# <center> Let's start 💪 </center> "
   ]
  },
  {
   "cell_type": "markdown",
   "metadata": {},
   "source": [
    "## <p style=\"color:green;\">Q.01 Open a file, name it 'test.txt' and write 'hello world' for 5 times in it then close it.</p>"
   ]
  },
  {
   "cell_type": "code",
   "execution_count": 1,
   "metadata": {},
   "outputs": [],
   "source": [
    "# Answer here \n",
    "with open('test.txt','w') as my_file:\n",
    "    my_file.write(\"hello world\\n\"*5)\n",
    "    my_file.close()\n",
    "    \n"
   ]
  },
  {
   "cell_type": "markdown",
   "metadata": {},
   "source": [
    "## <p style=\"color:orange;\">Q.02 Read the contents of the file, then make content in upercase then write the result again to the file.</p>\n"
   ]
  },
  {
   "cell_type": "code",
   "execution_count": 2,
   "metadata": {},
   "outputs": [
    {
     "name": "stdout",
     "output_type": "stream",
     "text": [
      "hello world\n",
      "hello world\n",
      "hello world\n",
      "hello world\n",
      "hello world\n",
      "\n",
      "HELLO WORLD\n",
      "HELLO WORLD\n",
      "HELLO WORLD\n",
      "HELLO WORLD\n",
      "HELLO WORLD\n",
      "\n"
     ]
    }
   ],
   "source": [
    "# Answer here \n",
    "with open('test.txt','r+') as my_file:\n",
    "    \n",
    "    print(my_file.read())\n",
    "    my_file.seek(0)\n",
    "    upp = my_file.read()\n",
    "    print(upp.upper())\n",
    "    my_file.seek(0)\n",
    "    my_file.write(upp.upper())\n",
    "    my_file.close()\n",
    "    \n",
    "\n"
   ]
  },
  {
   "cell_type": "markdown",
   "metadata": {},
   "source": [
    "## <p style=\"color:red;\">Q.03 Read the third line of the file then update it to its capital case using `capitalize`.</p>\n"
   ]
  },
  {
   "cell_type": "code",
   "execution_count": 3,
   "metadata": {},
   "outputs": [
    {
     "name": "stdout",
     "output_type": "stream",
     "text": [
      "['HELLO WORLD\\n']\n",
      "['HELLO WORLD\\n', 'HELLO WORLD\\n', 'Hello world\\n', 'HELLO WORLD\\n', 'HELLO WORLD\\n']\n"
     ]
    }
   ],
   "source": [
    "# Answer here \n",
    "with open('test.txt','r+') as my_file:\n",
    "    print(my_file.readlines(3))\n",
    "    my_file.seek(0)\n",
    "    cap = my_file.readlines()\n",
    "    cap[2] = cap[2].capitalize()\n",
    "    print(cap)\n",
    "    my_file.close()\n",
    "    \n",
    "with open('test.txt','w') as my_file:    \n",
    "    my_file.writelines(cap)\n",
    "    #my_file.write(my_file.readlines(3)[0].capitalize())\n",
    "    my_file.close()\n",
    "    \n",
    "    \n",
    "    \n",
    "    "
   ]
  },
  {
   "cell_type": "markdown",
   "metadata": {},
   "source": [
    "## <p style=\"color:green;\">Q.04 Using With Statement open this file and append 'I Love python' to it.</p>\n"
   ]
  },
  {
   "cell_type": "code",
   "execution_count": 4,
   "metadata": {},
   "outputs": [],
   "source": [
    "# Answer here \n",
    "with open('test.txt','a+') as my_file:\n",
    "    my_file.write(\"I Love python\")\n",
    "    my_file.close()\n"
   ]
  },
  {
   "cell_type": "markdown",
   "metadata": {},
   "source": [
    "# <center> Thank's for your effort ❤️ </center> "
   ]
  }
 ],
 "metadata": {
  "kernelspec": {
   "display_name": "Python 3 (ipykernel)",
   "language": "python",
   "name": "python3"
  },
  "language_info": {
   "codemirror_mode": {
    "name": "ipython",
    "version": 3
   },
   "file_extension": ".py",
   "mimetype": "text/x-python",
   "name": "python",
   "nbconvert_exporter": "python",
   "pygments_lexer": "ipython3",
   "version": "3.9.12"
  }
 },
 "nbformat": 4,
 "nbformat_minor": 4
}
