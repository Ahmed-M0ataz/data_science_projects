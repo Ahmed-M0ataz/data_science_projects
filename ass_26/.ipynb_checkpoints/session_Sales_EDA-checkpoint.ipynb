{
 "cells": [
  {
   "cell_type": "code",
   "execution_count": 1,
   "metadata": {
    "id": "cOxXIFy8Uzcd"
   },
   "outputs": [],
   "source": [
    "#importings\n",
    "\n",
    "import numpy as np\n",
    "import pandas as pd\n",
    "import seaborn as sns\n"
   ]
  },
  {
   "cell_type": "markdown",
   "metadata": {
    "id": "2hasxDR9Uzcg"
   },
   "source": [
    "# Questions\n",
    "\n",
    "- Profit = cash - taxes (0.14)\n",
    "- Analyize all sales profit\n",
    "- What is the profit for each weekday\n",
    "- What is the profit from each city"
   ]
  },
  {
   "cell_type": "code",
   "execution_count": 2,
   "metadata": {
    "id": "nlHg3UvhUzck"
   },
   "outputs": [],
   "source": [
    "#read the Sales.csv dataset \n",
    "df = pd.read_csv('Sales.csv')"
   ]
  },
  {
   "cell_type": "markdown",
   "metadata": {
    "id": "W28Vd-hLUzcm"
   },
   "source": [
    "## 1. Distniguesh features"
   ]
  },
  {
   "cell_type": "code",
   "execution_count": 5,
   "metadata": {},
   "outputs": [
    {
     "name": "stdout",
     "output_type": "stream",
     "text": [
      "<class 'pandas.core.frame.DataFrame'>\n",
      "RangeIndex: 25117 entries, 0 to 25116\n",
      "Data columns (total 6 columns):\n",
      " #   Column            Non-Null Count  Dtype \n",
      "---  ------            --------------  ----- \n",
      " 0   Order ID          25037 non-null  object\n",
      " 1   Product           25037 non-null  object\n",
      " 2   Quantity Ordered  25037 non-null  object\n",
      " 3   Price Each        25117 non-null  object\n",
      " 4   Order Date        25037 non-null  object\n",
      " 5   Purchase Address  25037 non-null  object\n",
      "dtypes: object(6)\n",
      "memory usage: 1.1+ MB\n"
     ]
    }
   ],
   "source": [
    "df.info()"
   ]
  },
  {
   "cell_type": "code",
   "execution_count": 7,
   "metadata": {},
   "outputs": [
    {
     "data": {
      "text/plain": [
       "166"
      ]
     },
     "execution_count": 7,
     "metadata": {},
     "output_type": "execute_result"
    }
   ],
   "source": [
    "df.duplicated().sum()"
   ]
  },
  {
   "cell_type": "code",
   "execution_count": 8,
   "metadata": {},
   "outputs": [],
   "source": [
    "df.drop_duplicates(inplace=True)"
   ]
  },
  {
   "cell_type": "code",
   "execution_count": 10,
   "metadata": {},
   "outputs": [],
   "source": [
    "df.reset_index(drop = True,inplace=True)"
   ]
  },
  {
   "cell_type": "code",
   "execution_count": 14,
   "metadata": {},
   "outputs": [
    {
     "data": {
      "text/plain": [
       "array([ 1.,  2.,  4.,  3., nan,  7.,  5.,  6.])"
      ]
     },
     "execution_count": 14,
     "metadata": {},
     "output_type": "execute_result"
    }
   ],
   "source": [
    "df['Quantity Ordered'].unique()"
   ]
  },
  {
   "cell_type": "code",
   "execution_count": 13,
   "metadata": {},
   "outputs": [],
   "source": [
    "df['Quantity Ordered'] = pd.to_numeric(df['Quantity Ordered'],errors='coerce')"
   ]
  },
  {
   "cell_type": "code",
   "execution_count": 15,
   "metadata": {},
   "outputs": [
    {
     "name": "stdout",
     "output_type": "stream",
     "text": [
      "<class 'pandas.core.frame.DataFrame'>\n",
      "RangeIndex: 24951 entries, 0 to 24950\n",
      "Data columns (total 6 columns):\n",
      " #   Column            Non-Null Count  Dtype  \n",
      "---  ------            --------------  -----  \n",
      " 0   Order ID          24950 non-null  object \n",
      " 1   Product           24950 non-null  object \n",
      " 2   Quantity Ordered  24949 non-null  float64\n",
      " 3   Price Each        24951 non-null  object \n",
      " 4   Order Date        24950 non-null  object \n",
      " 5   Purchase Address  24950 non-null  object \n",
      "dtypes: float64(1), object(5)\n",
      "memory usage: 1.1+ MB\n"
     ]
    }
   ],
   "source": [
    "df.info()"
   ]
  },
  {
   "cell_type": "code",
   "execution_count": 17,
   "metadata": {
    "id": "BEoxZAgQUzcm"
   },
   "outputs": [
    {
     "data": {
      "text/plain": [
       "array(['1700$', '600.0$', '11.95$', '149.99$', '3.84$', '99.99$', '2.99$',\n",
       "       '999.99$', '14.95$', '600$', '11.99$', '150$', '400$', '700$',\n",
       "       '109.99$', '379.99$', '300$', '389.99$', 'Price Each$', 'nan$'],\n",
       "      dtype=object)"
      ]
     },
     "execution_count": 17,
     "metadata": {},
     "output_type": "execute_result"
    }
   ],
   "source": [
    "df['Price Each'].unique()"
   ]
  },
  {
   "cell_type": "code",
   "execution_count": 19,
   "metadata": {},
   "outputs": [],
   "source": [
    "def price_each(row):\n",
    "    try:\n",
    "        return float(row[:-1])\n",
    "    except:\n",
    "        return np.nan\n",
    "df['Price Each'] =df['Price Each'].apply(price_each)\n",
    "    "
   ]
  },
  {
   "cell_type": "code",
   "execution_count": 26,
   "metadata": {},
   "outputs": [
    {
     "data": {
      "text/html": [
       "<div>\n",
       "<style scoped>\n",
       "    .dataframe tbody tr th:only-of-type {\n",
       "        vertical-align: middle;\n",
       "    }\n",
       "\n",
       "    .dataframe tbody tr th {\n",
       "        vertical-align: top;\n",
       "    }\n",
       "\n",
       "    .dataframe thead th {\n",
       "        text-align: right;\n",
       "    }\n",
       "</style>\n",
       "<table border=\"1\" class=\"dataframe\">\n",
       "  <thead>\n",
       "    <tr style=\"text-align: right;\">\n",
       "      <th></th>\n",
       "      <th>Order ID</th>\n",
       "      <th>Product</th>\n",
       "      <th>Quantity Ordered</th>\n",
       "      <th>Price Each</th>\n",
       "      <th>Order Date</th>\n",
       "      <th>Purchase Address</th>\n",
       "    </tr>\n",
       "  </thead>\n",
       "  <tbody>\n",
       "    <tr>\n",
       "      <th>0</th>\n",
       "      <td>295665</td>\n",
       "      <td>Macbook Pro Laptop</td>\n",
       "      <td>1.0</td>\n",
       "      <td>1700.00</td>\n",
       "      <td>12/30/19 00:01</td>\n",
       "      <td>136 Church St, New York City, NY 10001</td>\n",
       "    </tr>\n",
       "    <tr>\n",
       "      <th>1</th>\n",
       "      <td>295666</td>\n",
       "      <td>LG Washing Machine</td>\n",
       "      <td>1.0</td>\n",
       "      <td>600.00</td>\n",
       "      <td>12/29/19 07:03</td>\n",
       "      <td>562 2nd St, New York City, NY 10001</td>\n",
       "    </tr>\n",
       "    <tr>\n",
       "      <th>2</th>\n",
       "      <td>295667</td>\n",
       "      <td>USB-C Charging Cable</td>\n",
       "      <td>1.0</td>\n",
       "      <td>11.95</td>\n",
       "      <td>12/12/19 18:21</td>\n",
       "      <td>277 Main St, New York City, NY 10001</td>\n",
       "    </tr>\n",
       "    <tr>\n",
       "      <th>3</th>\n",
       "      <td>295668</td>\n",
       "      <td>27in FHD Monitor</td>\n",
       "      <td>1.0</td>\n",
       "      <td>149.99</td>\n",
       "      <td>12/22/19 15:13</td>\n",
       "      <td>410 6th St, San Francisco, CA 94016</td>\n",
       "    </tr>\n",
       "    <tr>\n",
       "      <th>4</th>\n",
       "      <td>295669</td>\n",
       "      <td>USB-C Charging Cable</td>\n",
       "      <td>1.0</td>\n",
       "      <td>11.95</td>\n",
       "      <td>12/18/19 12:38</td>\n",
       "      <td>43 Hill St, Atlanta, GA 30301</td>\n",
       "    </tr>\n",
       "    <tr>\n",
       "      <th>...</th>\n",
       "      <td>...</td>\n",
       "      <td>...</td>\n",
       "      <td>...</td>\n",
       "      <td>...</td>\n",
       "      <td>...</td>\n",
       "      <td>...</td>\n",
       "    </tr>\n",
       "    <tr>\n",
       "      <th>24946</th>\n",
       "      <td>319666</td>\n",
       "      <td>Lightning Charging Cable</td>\n",
       "      <td>1.0</td>\n",
       "      <td>14.95</td>\n",
       "      <td>12/11/19 20:58</td>\n",
       "      <td>14 Madison St, San Francisco, CA 94016</td>\n",
       "    </tr>\n",
       "    <tr>\n",
       "      <th>24947</th>\n",
       "      <td>319667</td>\n",
       "      <td>AA Batteries (4-pack)</td>\n",
       "      <td>2.0</td>\n",
       "      <td>3.84</td>\n",
       "      <td>12/01/19 12:01</td>\n",
       "      <td>549 Willow St, Los Angeles, CA 90001</td>\n",
       "    </tr>\n",
       "    <tr>\n",
       "      <th>24948</th>\n",
       "      <td>319668</td>\n",
       "      <td>Vareebadd Phone</td>\n",
       "      <td>1.0</td>\n",
       "      <td>400.00</td>\n",
       "      <td>12/09/19 06:43</td>\n",
       "      <td>273 Wilson St, Seattle, WA 98101</td>\n",
       "    </tr>\n",
       "    <tr>\n",
       "      <th>24949</th>\n",
       "      <td>319669</td>\n",
       "      <td>Wired Headphones</td>\n",
       "      <td>1.0</td>\n",
       "      <td>11.99</td>\n",
       "      <td>12/03/19 10:39</td>\n",
       "      <td>778 River St, Dallas, TX 75001</td>\n",
       "    </tr>\n",
       "    <tr>\n",
       "      <th>24950</th>\n",
       "      <td>319670</td>\n",
       "      <td>Bose SoundSport Headphones</td>\n",
       "      <td>1.0</td>\n",
       "      <td>99.99</td>\n",
       "      <td>12/21/19 21:45</td>\n",
       "      <td>747 Chestnut St, Los Angeles, CA 90001</td>\n",
       "    </tr>\n",
       "  </tbody>\n",
       "</table>\n",
       "<p>24951 rows × 6 columns</p>\n",
       "</div>"
      ],
      "text/plain": [
       "      Order ID                     Product  Quantity Ordered  Price Each  \\\n",
       "0       295665          Macbook Pro Laptop               1.0     1700.00   \n",
       "1       295666          LG Washing Machine               1.0      600.00   \n",
       "2       295667        USB-C Charging Cable               1.0       11.95   \n",
       "3       295668            27in FHD Monitor               1.0      149.99   \n",
       "4       295669        USB-C Charging Cable               1.0       11.95   \n",
       "...        ...                         ...               ...         ...   \n",
       "24946   319666    Lightning Charging Cable               1.0       14.95   \n",
       "24947   319667       AA Batteries (4-pack)               2.0        3.84   \n",
       "24948   319668             Vareebadd Phone               1.0      400.00   \n",
       "24949   319669            Wired Headphones               1.0       11.99   \n",
       "24950   319670  Bose SoundSport Headphones               1.0       99.99   \n",
       "\n",
       "           Order Date                        Purchase Address  \n",
       "0      12/30/19 00:01  136 Church St, New York City, NY 10001  \n",
       "1      12/29/19 07:03     562 2nd St, New York City, NY 10001  \n",
       "2      12/12/19 18:21    277 Main St, New York City, NY 10001  \n",
       "3      12/22/19 15:13     410 6th St, San Francisco, CA 94016  \n",
       "4      12/18/19 12:38           43 Hill St, Atlanta, GA 30301  \n",
       "...               ...                                     ...  \n",
       "24946  12/11/19 20:58  14 Madison St, San Francisco, CA 94016  \n",
       "24947  12/01/19 12:01    549 Willow St, Los Angeles, CA 90001  \n",
       "24948  12/09/19 06:43        273 Wilson St, Seattle, WA 98101  \n",
       "24949  12/03/19 10:39          778 River St, Dallas, TX 75001  \n",
       "24950  12/21/19 21:45  747 Chestnut St, Los Angeles, CA 90001  \n",
       "\n",
       "[24951 rows x 6 columns]"
      ]
     },
     "execution_count": 26,
     "metadata": {},
     "output_type": "execute_result"
    }
   ],
   "source": [
    "df"
   ]
  },
  {
   "cell_type": "code",
   "execution_count": 27,
   "metadata": {},
   "outputs": [],
   "source": [
    "df['Order Date'] = pd.to_datetime(df['Order Date'],errors='coerce')"
   ]
  },
  {
   "cell_type": "code",
   "execution_count": 30,
   "metadata": {},
   "outputs": [],
   "source": [
    "def get_city(address):\n",
    "    try:\n",
    "        return address.split(',')[1].strip()\n",
    "    except:\n",
    "        return np.nan\n",
    "df['Purchase Address'] =df['Purchase Address'].apply(get_city)"
   ]
  },
  {
   "cell_type": "code",
   "execution_count": 38,
   "metadata": {},
   "outputs": [],
   "source": [
    "df.drop(254,inplace=True)"
   ]
  },
  {
   "cell_type": "code",
   "execution_count": 39,
   "metadata": {},
   "outputs": [],
   "source": [
    "df.reset_index(drop=True,inplace = True)"
   ]
  },
  {
   "cell_type": "code",
   "execution_count": 40,
   "metadata": {},
   "outputs": [
    {
     "data": {
      "text/html": [
       "<div>\n",
       "<style scoped>\n",
       "    .dataframe tbody tr th:only-of-type {\n",
       "        vertical-align: middle;\n",
       "    }\n",
       "\n",
       "    .dataframe tbody tr th {\n",
       "        vertical-align: top;\n",
       "    }\n",
       "\n",
       "    .dataframe thead th {\n",
       "        text-align: right;\n",
       "    }\n",
       "</style>\n",
       "<table border=\"1\" class=\"dataframe\">\n",
       "  <thead>\n",
       "    <tr style=\"text-align: right;\">\n",
       "      <th></th>\n",
       "      <th>Order ID</th>\n",
       "      <th>Product</th>\n",
       "      <th>Quantity Ordered</th>\n",
       "      <th>Price Each</th>\n",
       "      <th>Order Date</th>\n",
       "      <th>Purchase Address</th>\n",
       "    </tr>\n",
       "  </thead>\n",
       "  <tbody>\n",
       "  </tbody>\n",
       "</table>\n",
       "</div>"
      ],
      "text/plain": [
       "Empty DataFrame\n",
       "Columns: [Order ID, Product, Quantity Ordered, Price Each, Order Date, Purchase Address]\n",
       "Index: []"
      ]
     },
     "execution_count": 40,
     "metadata": {},
     "output_type": "execute_result"
    }
   ],
   "source": [
    "df[df['Product'] == 'Product']"
   ]
  },
  {
   "cell_type": "markdown",
   "metadata": {
    "id": "lfgvZ5RDUzcn"
   },
   "source": [
    "## 2. Data cleaning\n",
    "\n",
    "**Problems**\n",
    "\n",
    "- Numerical\n",
    "    - Quantity Ordered is not numerical\n",
    "    - Price Each not numerical\n",
    "- Categorical\n",
    "    - Product columns has 'Product' value "
   ]
  },
  {
   "cell_type": "code",
   "execution_count": 1,
   "metadata": {
    "id": "-jIDGs19Uzco"
   },
   "outputs": [],
   "source": [
    "#find unique values in quantity\n"
   ]
  },
  {
   "cell_type": "code",
   "execution_count": 2,
   "metadata": {
    "id": "L0-nCHpQUzcp"
   },
   "outputs": [],
   "source": [
    "#write a function to fix the quantity and apply it on the quantity column"
   ]
  },
  {
   "cell_type": "code",
   "execution_count": 3,
   "metadata": {
    "id": "QroMbpdSUzcp"
   },
   "outputs": [],
   "source": [
    "#check the dataframe again"
   ]
  },
  {
   "cell_type": "code",
   "execution_count": 4,
   "metadata": {
    "id": "EjD0lpDHUzcq"
   },
   "outputs": [],
   "source": [
    "#check unqiues values in Price"
   ]
  },
  {
   "cell_type": "code",
   "execution_count": 5,
   "metadata": {
    "id": "GJJ3ccIYUzcq"
   },
   "outputs": [],
   "source": [
    "#write a function to fix the price and apply it to the Price column"
   ]
  },
  {
   "cell_type": "code",
   "execution_count": 6,
   "metadata": {
    "id": "PGPDS0cXUzcr"
   },
   "outputs": [],
   "source": [
    "#check now the data types"
   ]
  },
  {
   "cell_type": "code",
   "execution_count": 8,
   "metadata": {
    "id": "WusWHfz5Uzcs"
   },
   "outputs": [],
   "source": [
    "#find unique values in Product"
   ]
  },
  {
   "cell_type": "code",
   "execution_count": 9,
   "metadata": {
    "id": "vPgOjhWaUzct"
   },
   "outputs": [],
   "source": [
    "#fix them, if you think there's something that doesn't make sense"
   ]
  },
  {
   "cell_type": "code",
   "execution_count": 9,
   "metadata": {
    "id": "iFsoKBnmUzcu"
   },
   "outputs": [],
   "source": []
  },
  {
   "cell_type": "code",
   "execution_count": 9,
   "metadata": {
    "id": "Ykt0wHCzUzcv"
   },
   "outputs": [],
   "source": []
  },
  {
   "cell_type": "markdown",
   "metadata": {
    "id": "aWB5Dq_HUzcz"
   },
   "source": [
    "# Handle Duplicated values"
   ]
  },
  {
   "cell_type": "code",
   "execution_count": 10,
   "metadata": {
    "id": "8tldbwONUzc0"
   },
   "outputs": [],
   "source": [
    "#check if there are duplicates in the dataset"
   ]
  },
  {
   "cell_type": "code",
   "execution_count": 11,
   "metadata": {
    "id": "shHJIUGuUzc0"
   },
   "outputs": [],
   "source": [
    "#drop duplicates"
   ]
  },
  {
   "cell_type": "code",
   "execution_count": 12,
   "metadata": {
    "id": "kgGeALk9Uzc0"
   },
   "outputs": [],
   "source": [
    "#DO NOT FORGET TO RESET THE INDEX"
   ]
  },
  {
   "cell_type": "markdown",
   "metadata": {
    "id": "8wVTm0N4Uzcv"
   },
   "source": [
    "# Missing Values"
   ]
  },
  {
   "cell_type": "code",
   "execution_count": 13,
   "metadata": {
    "id": "qF0wKMgpUzcx"
   },
   "outputs": [],
   "source": [
    "#check missing values"
   ]
  },
  {
   "cell_type": "code",
   "execution_count": 13,
   "metadata": {
    "id": "ZcmZsBBeUzcx"
   },
   "outputs": [],
   "source": []
  },
  {
   "cell_type": "code",
   "execution_count": 14,
   "metadata": {
    "id": "6hzynuOKUzcy"
   },
   "outputs": [],
   "source": [
    "#check percentage of missing values"
   ]
  },
  {
   "cell_type": "code",
   "execution_count": 15,
   "metadata": {
    "id": "YuEN6Lr7Uzcz"
   },
   "outputs": [],
   "source": [
    "#deal with them in a suitable way ( drop/ replace )"
   ]
  },
  {
   "cell_type": "code",
   "execution_count": 16,
   "metadata": {
    "id": "WvIXnH7HUzcz"
   },
   "outputs": [],
   "source": [
    "#recheck them again"
   ]
  },
  {
   "cell_type": "markdown",
   "metadata": {
    "id": "5S2_IpyWUzc1"
   },
   "source": [
    "# Handle Outliers"
   ]
  },
  {
   "cell_type": "code",
   "execution_count": null,
   "metadata": {
    "id": "CG0vKnuhUzc1"
   },
   "outputs": [],
   "source": [
    "!pip install datasist"
   ]
  },
  {
   "cell_type": "code",
   "execution_count": null,
   "metadata": {
    "id": "J1ZO9pVbUzc1"
   },
   "outputs": [],
   "source": [
    "from datasist.structdata import detect_outliers"
   ]
  },
  {
   "cell_type": "code",
   "execution_count": 17,
   "metadata": {
    "id": "7gcYIjryUzc1"
   },
   "outputs": [],
   "source": [
    "#predict outliers in the data and deal with them in a suitable way"
   ]
  },
  {
   "cell_type": "code",
   "execution_count": 17,
   "metadata": {
    "id": "-6HfwVUTUzc2"
   },
   "outputs": [],
   "source": []
  },
  {
   "cell_type": "markdown",
   "metadata": {
    "id": "vSV2AkyDUzc2"
   },
   "source": [
    "# Feature Engineering"
   ]
  },
  {
   "cell_type": "markdown",
   "metadata": {
    "id": "LbZVHC8TUzc2"
   },
   "source": [
    "### Calculate the *Profit*\n",
    "Rule: Profit = cash - taxes (0.14)"
   ]
  },
  {
   "cell_type": "code",
   "execution_count": 19,
   "metadata": {
    "id": "TxT9tD_cUzc3"
   },
   "outputs": [],
   "source": [
    "#write a function to calculate the profit  according to the above rule"
   ]
  },
  {
   "cell_type": "code",
   "execution_count": 20,
   "metadata": {
    "id": "CngEBShwYCNp"
   },
   "outputs": [],
   "source": [
    "#create a new column in the dataframe by applying the function to it"
   ]
  },
  {
   "cell_type": "code",
   "execution_count": 21,
   "metadata": {
    "id": "GDjdzS4pUzc3"
   },
   "outputs": [],
   "source": [
    "#write a function to extract the city from the address "
   ]
  },
  {
   "cell_type": "code",
   "execution_count": 23,
   "metadata": {
    "id": "Ounhlc87Y79O"
   },
   "outputs": [],
   "source": [
    "#visualize the distribution of the created profit column"
   ]
  },
  {
   "cell_type": "code",
   "execution_count": 21,
   "metadata": {
    "id": "PCuEKjcmUzc4"
   },
   "outputs": [],
   "source": [
    "#change the order Date column to datetime"
   ]
  },
  {
   "cell_type": "code",
   "execution_count": 21,
   "metadata": {
    "id": "JTUUwpIXUzc5"
   },
   "outputs": [],
   "source": []
  },
  {
   "cell_type": "code",
   "execution_count": 21,
   "metadata": {
    "id": "TmZED3KiUzc5"
   },
   "outputs": [],
   "source": []
  },
  {
   "cell_type": "code",
   "execution_count": 22,
   "metadata": {
    "id": "mpul93STUzc5"
   },
   "outputs": [],
   "source": [
    "#extract the day name from the order Date column"
   ]
  },
  {
   "cell_type": "code",
   "execution_count": 22,
   "metadata": {
    "id": "VYxEAKFZUzc6"
   },
   "outputs": [],
   "source": []
  },
  {
   "cell_type": "code",
   "execution_count": null,
   "metadata": {
    "id": "iTw7heo5Uzc6"
   },
   "outputs": [],
   "source": [
    "#explore the profit for each country\n",
    "#i.e. group by city and return the profit of each city"
   ]
  },
  {
   "cell_type": "code",
   "execution_count": 23,
   "metadata": {
    "id": "E9AccbXbUzc7"
   },
   "outputs": [],
   "source": []
  },
  {
   "cell_type": "code",
   "execution_count": null,
   "metadata": {
    "id": "bsKPbVg1Uzc7"
   },
   "outputs": [],
   "source": [
    "#draw boxplot of each city with respect to the profit"
   ]
  },
  {
   "cell_type": "code",
   "execution_count": 24,
   "metadata": {
    "id": "RVKP9uB2Uzc8"
   },
   "outputs": [],
   "source": [
    "#find the first 6 cities with highest profit"
   ]
  },
  {
   "cell_type": "code",
   "execution_count": 25,
   "metadata": {
    "id": "LvcgpW-pUzc8"
   },
   "outputs": [],
   "source": [
    "#visualize  the first 6 cities with higest profit"
   ]
  },
  {
   "cell_type": "code",
   "execution_count": 26,
   "metadata": {
    "id": "PA9wRuJoUzc8"
   },
   "outputs": [],
   "source": [
    "#explore the profit for each weekday\n",
    "#i.e. group by weekday and return the profit of each weekday"
   ]
  },
  {
   "cell_type": "code",
   "execution_count": 27,
   "metadata": {
    "id": "1RaHlmXMUzc9"
   },
   "outputs": [],
   "source": [
    "#draw boxplot of each weekday with respect to the profit"
   ]
  },
  {
   "cell_type": "code",
   "execution_count": null,
   "metadata": {
    "id": "p4K_X2M3Uzc9"
   },
   "outputs": [],
   "source": [
    "#sort the weekday with respect to the profit"
   ]
  },
  {
   "cell_type": "code",
   "execution_count": null,
   "metadata": {
    "id": "uupur40tUzc9"
   },
   "outputs": [],
   "source": [
    "#visualize sort the weekday with respect to the profit"
   ]
  },
  {
   "cell_type": "code",
   "execution_count": null,
   "metadata": {
    "id": "TQsy-4xSUzc_"
   },
   "outputs": [],
   "source": []
  }
 ],
 "metadata": {
  "colab": {
   "collapsed_sections": [
    "2hasxDR9Uzcg"
   ],
   "provenance": []
  },
  "kernelspec": {
   "display_name": "Python 3 (ipykernel)",
   "language": "python",
   "name": "python3"
  },
  "language_info": {
   "codemirror_mode": {
    "name": "ipython",
    "version": 3
   },
   "file_extension": ".py",
   "mimetype": "text/x-python",
   "name": "python",
   "nbconvert_exporter": "python",
   "pygments_lexer": "ipython3",
   "version": "3.9.12"
  }
 },
 "nbformat": 4,
 "nbformat_minor": 1
}
