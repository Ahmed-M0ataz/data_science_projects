{
 "cells": [
  {
   "cell_type": "markdown",
   "metadata": {},
   "source": [
    "> # Dear Epsilon Students, \n",
    "> # The More you practice The better You'll Be."
   ]
  },
  {
   "cell_type": "markdown",
   "metadata": {},
   "source": [
    "### Instructions: \n",
    "- Make sure that you understand this topics before you start.\n",
    "- If you found something hard to do, try and try then google it and finally ask someone. \n",
    "- You can divide this work into daily tasks so that you do not feel pressure.\n",
    "- After you finish, go to model answer and rate yourself. \n",
    "- If you find something ambiguous, Try to make a hypothesis to solve a problem. "
   ]
  },
  {
   "cell_type": "markdown",
   "metadata": {},
   "source": [
    "### Question classification: \n",
    "- Green is level 1 \n",
    "- Orange is level 2 \n",
    "- Red is level 3 "
   ]
  },
  {
   "cell_type": "markdown",
   "metadata": {},
   "source": [
    "# <center> Let's start 💪 </center> "
   ]
  },
  {
   "cell_type": "markdown",
   "metadata": {},
   "source": [
    "## <p style=\"color:orange;\">Q.01 print out words that start with 's' in the following sentence.</p>\n",
    "> st = 'Print only the words that start with s in this sentence'"
   ]
  },
  {
   "cell_type": "code",
   "execution_count": 5,
   "metadata": {},
   "outputs": [
    {
     "name": "stdout",
     "output_type": "stream",
     "text": [
      "start\n",
      "s\n",
      "sentence\n"
     ]
    }
   ],
   "source": [
    "# Answer here \n",
    "st = 'Print only the words that start with s in this sentence'\n",
    "arr = st.split()\n",
    "for item in arr:\n",
    "    if item.startswith('s') == True :\n",
    "        print(item)"
   ]
  },
  {
   "cell_type": "markdown",
   "metadata": {},
   "source": [
    "## <p style=\"color:orange;\">Q.02 Use List comprehension to create a list of all numbers between 1 and 50 that are divisible by 3.</p>"
   ]
  },
  {
   "cell_type": "code",
   "execution_count": 5,
   "metadata": {},
   "outputs": [
    {
     "data": {
      "text/plain": [
       "[3, 6, 9, 12, 15, 18, 21, 24, 27, 30, 33, 36, 39, 42, 45, 48]"
      ]
     },
     "execution_count": 5,
     "metadata": {},
     "output_type": "execute_result"
    }
   ],
   "source": [
    "# Answer here \n",
    "my_list = []\n",
    "index1 = 0\n",
    "for i in range(1,51) :\n",
    "    if i % 3 == 0 :\n",
    "        my_list.append(i)\n",
    "        \n",
    "my_list\n",
    "    \n"
   ]
  },
  {
   "cell_type": "markdown",
   "metadata": {},
   "source": [
    "## <p style=\"color:orange;\">Q.03 Go through the string below and if the length of a word is even print \"even!\"</p>\n",
    "> st = 'Print only the words that start with s in this sentence'"
   ]
  },
  {
   "cell_type": "code",
   "execution_count": 8,
   "metadata": {},
   "outputs": [
    {
     "name": "stdout",
     "output_type": "stream",
     "text": [
      "Print is odd\n",
      "only is even!\n",
      "the is odd\n",
      "words is odd\n",
      "that is even!\n",
      "start is odd\n",
      "with is even!\n",
      "s is odd\n",
      "in is even!\n",
      "this is even!\n",
      "sentence is even!\n"
     ]
    }
   ],
   "source": [
    "# Answer here \n",
    "st = 'Print only the words that start with s in this sentence'\n",
    "my_list1 = st.split()\n",
    "for i in my_list1:\n",
    "    if len(i) % 2 == 0:\n",
    "        print (f\"{i} is even!\")\n",
    "    else:\n",
    "        print(f\"{i} is odd\")\n"
   ]
  },
  {
   "cell_type": "markdown",
   "metadata": {},
   "source": [
    "## <p style=\"color:green;\">Q.04 Given X which is a password. Print \"Wrong\" if the password is incorrect otherwise, print \"Correct\" and terminate the program.</p>\n",
    "> The \"Correct\" password is the number 1999.\n",
    "\n",
    "> Note: Don't end the program even if the user write the correct password."
   ]
  },
  {
   "cell_type": "code",
   "execution_count": 1,
   "metadata": {},
   "outputs": [
    {
     "name": "stdout",
     "output_type": "stream",
     "text": [
      "enter the pass: 54\n",
      "the password is not correct try again (you have 99 tries) : \n",
      "546\n",
      "the password is not correct try again (you have 98 tries) : \n",
      "6546\n",
      "the password is not correct try again (you have 97 tries) : \n",
      "1999\n",
      "Correct\n",
      "if you want try again press (t) or end press (e)\n",
      "t\n",
      "enter pass again : \n",
      "46548\n",
      "the password is not correct try again (you have 95 tries) : \n",
      "1999\n",
      "Correct\n",
      "if you want try again press (t) or end press (e)\n",
      "e\n"
     ]
    }
   ],
   "source": [
    "# Answer here \n",
    "cor = 1999\n",
    "en_pass = int(input(\"enter the pass: \"))\n",
    "for i in range(1,101):\n",
    "    \n",
    "    if en_pass == cor:\n",
    "        print(\"Correct\")\n",
    "        print(\"if you want try again press (t) or end press (any key)\")\n",
    "        cos = input()\n",
    "        if cos == 't':\n",
    "            print(f\"enter pass again : \")\n",
    "            en_pass =int(input())\n",
    "            continue\n",
    "        else:\n",
    "            break\n",
    "    else :\n",
    "        print(f\"the password is not correct try again (you have {100-i} tries) : \")\n",
    "        en_pass =int(input())\n",
    "    \n"
   ]
  },
  {
   "cell_type": "markdown",
   "metadata": {},
   "source": [
    "## <p style=\"color:red;\">Q.05 Given a number N. Print the factorial of number N.</p>\n",
    "> For information about factorial: https://en.wikipedia.org/wiki/Factorial"
   ]
  },
  {
   "cell_type": "code",
   "execution_count": 4,
   "metadata": {},
   "outputs": [
    {
     "name": "stdout",
     "output_type": "stream",
     "text": [
      "enter the number: 3\n"
     ]
    },
    {
     "data": {
      "text/plain": [
       "6"
      ]
     },
     "execution_count": 4,
     "metadata": {},
     "output_type": "execute_result"
    }
   ],
   "source": [
    "# Answer here \n",
    "fact = int(input(\"enter the number: \"))\n",
    "result =1 \n",
    "for i in range(1,fact + 1):\n",
    "    result *= i\n",
    "result"
   ]
  },
  {
   "cell_type": "markdown",
   "metadata": {},
   "source": [
    "## <p style=\"color:red;\">Q.06 Given a number N.print sum of numbers from 1 to N, Using a loop.</p>\n",
    "> list4 = [5,3,4,6,1]"
   ]
  },
  {
   "cell_type": "code",
   "execution_count": 5,
   "metadata": {},
   "outputs": [
    {
     "name": "stdout",
     "output_type": "stream",
     "text": [
      "19\n"
     ]
    }
   ],
   "source": [
    "# Answer here \n",
    "list4 = [5,3,4,6,1]\n",
    "sum1 = 0\n",
    "for i in list4:\n",
    "    sum1 += i\n",
    "print(sum1)"
   ]
  },
  {
   "cell_type": "markdown",
   "metadata": {},
   "source": [
    "## <p style=\"color:orange;\">Q.07 - Write a Python program to construct the following pattern.</p>\n"
   ]
  },
  {
   "cell_type": "raw",
   "metadata": {},
   "source": [
    "* \n",
    "* * \n",
    "* * * \n",
    "* * * * \n",
    "* * * * * "
   ]
  },
  {
   "cell_type": "code",
   "execution_count": 10,
   "metadata": {},
   "outputs": [
    {
     "name": "stdout",
     "output_type": "stream",
     "text": [
      "* \n",
      "* * \n",
      "* * * \n",
      "* * * * \n",
      "* * * * * \n"
     ]
    }
   ],
   "source": [
    "# Answer here \n",
    "for star in range(1,6):\n",
    "    print ('* ' * star) "
   ]
  },
  {
   "cell_type": "markdown",
   "metadata": {},
   "source": [
    "## <p style=\"color:green;\">Q.08 Write a Python program that prints all the numbers from 0 to 6 except 3 and 6.</p>\n"
   ]
  },
  {
   "cell_type": "code",
   "execution_count": 11,
   "metadata": {},
   "outputs": [
    {
     "name": "stdout",
     "output_type": "stream",
     "text": [
      "1\n",
      "2\n",
      "4\n",
      "5\n"
     ]
    }
   ],
   "source": [
    "# Answer here \n",
    "for item in range(0,7):\n",
    "    if item % 3 != 0 :\n",
    "        print(item)\n",
    "    \n"
   ]
  },
  {
   "cell_type": "markdown",
   "metadata": {},
   "source": [
    "## <p style=\"color:green;\">Q.09 Timon has a candies and his friend, Pumbaa, has b candies, so Pumbaa asked Timon to tell him the value of a−b. However, Timon will tell him the value of a−b if the value is ≥0; otherwise, he will lie and say 0. Since it was a hard task for Timon, he's asking for your help.</p>\n"
   ]
  },
  {
   "cell_type": "code",
   "execution_count": 15,
   "metadata": {},
   "outputs": [
    {
     "name": "stdout",
     "output_type": "stream",
     "text": [
      "enter vnumber of candies timon: 5\n",
      "enter vnumber of candies pumbaa: 9\n",
      "number is 0 but that is a wrong don't lie hahahahaha \n"
     ]
    }
   ],
   "source": [
    "# Answer here \n",
    "a = int (input(\"enter vnumber of candies timon: \"))\n",
    "b = int (input(\"enter vnumber of candies pumbaa: \"))\n",
    "\n",
    "if a-b >= 0 :\n",
    "    print(f\"number is {a-b}\")\n",
    "else :\n",
    "    print('number is 0 but that is a wrong don\\'t lie hahahahaha ')"
   ]
  },
  {
   "cell_type": "markdown",
   "metadata": {},
   "source": [
    "## <p style=\"color:green;\">Q.10 Given a list. Replace every positive number by 1, Replace every negative number by 2.</p>\n",
    "> [19, 20, 21, 10, -53, -23, 10]"
   ]
  },
  {
   "cell_type": "code",
   "execution_count": 6,
   "metadata": {},
   "outputs": [
    {
     "data": {
      "text/plain": [
       "[1, 1, 1, 1, 2, 2, 1]"
      ]
     },
     "execution_count": 6,
     "metadata": {},
     "output_type": "execute_result"
    }
   ],
   "source": [
    "# Answer here \n",
    "list_5 = [19, 20, 21, 10, -53, -23, 10]\n",
    "\n",
    "for i in range(len(list_5)):\n",
    "    if list_5[i] >= 0:\n",
    "        list_5[i] = 1\n",
    "    else:\n",
    "        list_5[i] = 2\n",
    "list_5"
   ]
  },
  {
   "cell_type": "markdown",
   "metadata": {},
   "source": [
    "## other_solution"
   ]
  },
  {
   "cell_type": "code",
   "execution_count": 7,
   "metadata": {},
   "outputs": [
    {
     "data": {
      "text/plain": [
       "[1, 1, 1, 1, 2, 2, 1]"
      ]
     },
     "execution_count": 7,
     "metadata": {},
     "output_type": "execute_result"
    }
   ],
   "source": [
    "list_6 = [19, 20, 21, 10, -53, -23, 10]\n",
    "for i in list_6:\n",
    "    if i >= 0:\n",
    "        list_6[list_6.index(i)] = 1\n",
    "    else:\n",
    "        list_6[list_6.index(i)] = 2\n",
    "list_6"
   ]
  },
  {
   "cell_type": "markdown",
   "metadata": {},
   "source": [
    "## <p style=\"color:green;\">Q.11 Write a Python program to convert temperatures to and from celsius, fahrenheit.</p>\n",
    ">[ Formula : c/5 = f-32/9 [ where c = temperature in celsius and f = temperature in fahrenheit ]"
   ]
  },
  {
   "cell_type": "code",
   "execution_count": 12,
   "metadata": {},
   "outputs": [
    {
     "name": "stdout",
     "output_type": "stream",
     "text": [
      "to convert to celsius press (c) to fahrenheit press (f) : c\n",
      "enter the degree: 50\n",
      "the temperature in celsius is : 10.0\n"
     ]
    }
   ],
   "source": [
    "# Answer here \n",
    "conv = input(\"to convert to celsius press (c) to fahrenheit press (f) : \")\n",
    "num = float(input(\"enter the degree: \"))\n",
    "\n",
    "if conv == 'f' :\n",
    "    f_or_c = (num*9/5)+32\n",
    "    print(f\"the temperature in fahrenheit is : {f_or_c}\")\n",
    "elif conv == 'c' :\n",
    "    f_or_c = (5 * (num-32))/9\n",
    "    print(f\"the temperature in celsius is : {f_or_c}\")\n",
    "else:\n",
    "    print(\"this is the wrong choose\")\n"
   ]
  },
  {
   "cell_type": "markdown",
   "metadata": {},
   "source": [
    "## <p style=\"color:orange;\">Q.12 Write a Python program to create the multiplication table (from 1 to 10) of a number.</p>"
   ]
  },
  {
   "cell_type": "raw",
   "metadata": {},
   "source": [
    "Expected Output:\n",
    "\n",
    "Input a number: 6                                                       \n",
    "6 x 1 = 6                                                               \n",
    "6 x 2 = 12                                                              \n",
    "6 x 3 = 18                                                              \n",
    "6 x 4 = 24                                                              \n",
    "6 x 5 = 30                                                              \n",
    "6 x 6 = 36                                                              \n",
    "6 x 7 = 42                                                              \n",
    "6 x 8 = 48                                                              \n",
    "6 x 9 = 54                                                              \n",
    "6 x 10 = 60 "
   ]
  },
  {
   "cell_type": "code",
   "execution_count": 14,
   "metadata": {},
   "outputs": [
    {
     "name": "stdout",
     "output_type": "stream",
     "text": [
      "enter the number : 5\n",
      "5 x 1 = 5\n",
      "5 x 2 = 10\n",
      "5 x 3 = 15\n",
      "5 x 4 = 20\n",
      "5 x 5 = 25\n",
      "5 x 6 = 30\n",
      "5 x 7 = 35\n",
      "5 x 8 = 40\n",
      "5 x 9 = 45\n",
      "5 x 10 = 50\n"
     ]
    }
   ],
   "source": [
    "# Answer here \n",
    "numb = int (input(\"enter the number : \"))\n",
    "for i in range(1,11):\n",
    "    print(f\"{numb} x {i} = {numb * i}\")\n",
    "    \n"
   ]
  },
  {
   "cell_type": "markdown",
   "metadata": {},
   "source": [
    "## get the median number"
   ]
  },
  {
   "cell_type": "code",
   "execution_count": 2,
   "metadata": {},
   "outputs": [
    {
     "name": "stdout",
     "output_type": "stream",
     "text": [
      "4\n",
      "5\n",
      "8\n",
      "5.0\n"
     ]
    }
   ],
   "source": [
    "x, y, z = float(input ()), float(input ()), float(input ())\n",
    "#print(x if x > y and x> z elif )\n",
    "if x > y:\n",
    "    if x == z or z ==y :\n",
    "        print(\"enter not egual num\")\n",
    "    elif x >z:\n",
    "        if y > z:\n",
    "            print(y)\n",
    "        \n",
    "        else:\n",
    "            print(z)\n",
    "    \n",
    "    else :\n",
    "        print(x)\n",
    "elif x == y or x == z:\n",
    "    print(\"enter not egual num\")\n",
    "elif y < z :\n",
    "    print(y)\n",
    "\n",
    "elif z> x :\n",
    "        print(z)\n",
    "else:\n",
    "    print(x)"
   ]
  },
  {
   "cell_type": "markdown",
   "metadata": {},
   "source": [
    "# <center> Thank's for your effort ❤️ </center> "
   ]
  }
 ],
 "metadata": {
  "kernelspec": {
   "display_name": "Python 3 (ipykernel)",
   "language": "python",
   "name": "python3"
  },
  "language_info": {
   "codemirror_mode": {
    "name": "ipython",
    "version": 3
   },
   "file_extension": ".py",
   "mimetype": "text/x-python",
   "name": "python",
   "nbconvert_exporter": "python",
   "pygments_lexer": "ipython3",
   "version": "3.9.12"
  }
 },
 "nbformat": 4,
 "nbformat_minor": 4
}
