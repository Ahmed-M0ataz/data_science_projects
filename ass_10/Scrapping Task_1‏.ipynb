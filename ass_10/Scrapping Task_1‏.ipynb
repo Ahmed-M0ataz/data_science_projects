{
 "cells": [
  {
   "cell_type": "code",
   "execution_count": 18,
   "id": "d1dd023d",
   "metadata": {},
   "outputs": [],
   "source": [
    "import requests\n",
    "from bs4 import BeautifulSoup\n",
    "\n",
    "response = requests.get('https://www.exchangerates.org.uk/Dollars-to-Egyptian-Pounds-currency-conversion-page.html')\n",
    "soup = BeautifulSoup(response.content, \"html.parser\")\n"
   ]
  },
  {
   "cell_type": "code",
   "execution_count": 19,
   "id": "1c0f8e4e",
   "metadata": {},
   "outputs": [
    {
     "data": {
      "text/plain": [
       "'19.2338'"
      ]
     },
     "execution_count": 19,
     "metadata": {},
     "output_type": "execute_result"
    }
   ],
   "source": [
    "prise_eg_one_dol = soup.find('span',attrs= {'id': 'shd2b;'}).get_text()\n",
    "prise_eg_one_dol"
   ]
  },
  {
   "cell_type": "code",
   "execution_count": 20,
   "id": "f2bea672",
   "metadata": {},
   "outputs": [
    {
     "name": "stdout",
     "output_type": "stream",
     "text": [
      "please enter amount of USD: 5\n",
      "prise in EGP IS: 96.169\n"
     ]
    }
   ],
   "source": [
    "try:\n",
    "    USD = float(input (\"please enter amount of USD: \"))\n",
    "except:\n",
    "    print('please valid number')\n",
    "else:\n",
    "    print(f'prise in EGP IS: {USD * float(prise_eg_one_dol)}')"
   ]
  },
  {
   "cell_type": "code",
   "execution_count": null,
   "id": "bafaf777",
   "metadata": {},
   "outputs": [],
   "source": []
  }
 ],
 "metadata": {
  "kernelspec": {
   "display_name": "Python 3 (ipykernel)",
   "language": "python",
   "name": "python3"
  },
  "language_info": {
   "codemirror_mode": {
    "name": "ipython",
    "version": 3
   },
   "file_extension": ".py",
   "mimetype": "text/x-python",
   "name": "python",
   "nbconvert_exporter": "python",
   "pygments_lexer": "ipython3",
   "version": "3.9.12"
  }
 },
 "nbformat": 4,
 "nbformat_minor": 5
}
