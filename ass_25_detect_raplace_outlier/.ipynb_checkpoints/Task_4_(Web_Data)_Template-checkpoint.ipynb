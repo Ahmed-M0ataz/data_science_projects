{
 "cells": [
  {
   "cell_type": "markdown",
   "metadata": {
    "id": "xY6AQ3Tl3TcY"
   },
   "source": [
    "# Task 4 (Web Data)\n",
    "\n",
    "1. Using visitor-interests.csv dataset, from the first 50 row extract Browser, OS, Device data from 'UserAgent' column and use it to create new columns for Browser, OS, Device.\n",
    "2. Using visitor-interests.csv dataset, from the first 50 row extract latitude, longitude from 'IP' column."
   ]
  },
  {
   "cell_type": "code",
   "execution_count": 1,
   "metadata": {
    "id": "uWhiotp13Tca"
   },
   "outputs": [],
   "source": [
    "import numpy as np\n",
    "import pandas as pd\n",
    "import matplotlib.pyplot as plt\n",
    "import seaborn as sns\n",
    "\n",
    "%matplotlib inline\n",
    "sns.set(rc={'figure.figsize':(10, 10)}, font_scale=1.2)"
   ]
  },
  {
   "cell_type": "markdown",
   "metadata": {
    "id": "ad9iiALl3Tcb"
   },
   "source": [
    "**1) Using visitor-interests.csv dataset, extract Browser, OS, Device data from 'UserAgent' column and use it to create new columns for Browser, OS, Device.**"
   ]
  },
  {
   "cell_type": "code",
   "execution_count": 2,
   "metadata": {
    "id": "LCPsjjjF3Tcb"
   },
   "outputs": [],
   "source": [
    "df = pd.read_csv('visitor-interests.csv')"
   ]
  },
  {
   "cell_type": "code",
   "execution_count": 4,
   "metadata": {},
   "outputs": [],
   "source": [
    "import user_agents"
   ]
  },
  {
   "cell_type": "code",
   "execution_count": 13,
   "metadata": {},
   "outputs": [],
   "source": [
    "def os_devise(col):\n",
    "    user = user_agents.parse(col)\n",
    "    return pd.Series((user.browser.family, user.os.family, user.device.family))\n",
    "                     \n",
    "df[['os_devise','OS','Device']]=df['UserAgent'].apply(os_devise)"
   ]
  },
  {
   "cell_type": "code",
   "execution_count": 14,
   "metadata": {
    "id": "SdV6ZiC43Tcd"
   },
   "outputs": [
    {
     "data": {
      "text/html": [
       "<div>\n",
       "<style scoped>\n",
       "    .dataframe tbody tr th:only-of-type {\n",
       "        vertical-align: middle;\n",
       "    }\n",
       "\n",
       "    .dataframe tbody tr th {\n",
       "        vertical-align: top;\n",
       "    }\n",
       "\n",
       "    .dataframe thead th {\n",
       "        text-align: right;\n",
       "    }\n",
       "</style>\n",
       "<table border=\"1\" class=\"dataframe\">\n",
       "  <thead>\n",
       "    <tr style=\"text-align: right;\">\n",
       "      <th></th>\n",
       "      <th>IP</th>\n",
       "      <th>UserAgent</th>\n",
       "      <th>Country</th>\n",
       "      <th>Languages</th>\n",
       "      <th>Interests</th>\n",
       "      <th>os_devise</th>\n",
       "      <th>OS</th>\n",
       "      <th>Device</th>\n",
       "    </tr>\n",
       "  </thead>\n",
       "  <tbody>\n",
       "    <tr>\n",
       "      <th>0</th>\n",
       "      <td>1.10.195.126</td>\n",
       "      <td>Mozilla/5.0 (Windows NT 6.1; Win64; x64) Apple...</td>\n",
       "      <td>TH</td>\n",
       "      <td>english</td>\n",
       "      <td>other</td>\n",
       "      <td>Chrome</td>\n",
       "      <td>Windows</td>\n",
       "      <td>Other</td>\n",
       "    </tr>\n",
       "    <tr>\n",
       "      <th>1</th>\n",
       "      <td>1.1.217.211</td>\n",
       "      <td>Mozilla/5.0 (Windows NT 10.0; Win64; x64) Appl...</td>\n",
       "      <td>TH</td>\n",
       "      <td>thai</td>\n",
       "      <td>blog/personal homepage</td>\n",
       "      <td>Chrome</td>\n",
       "      <td>Windows</td>\n",
       "      <td>Other</td>\n",
       "    </tr>\n",
       "    <tr>\n",
       "      <th>2</th>\n",
       "      <td>1.115.198.107</td>\n",
       "      <td>Mozilla/5.0 (Windows NT 6.1) AppleWebKit/537.3...</td>\n",
       "      <td>JP</td>\n",
       "      <td>english</td>\n",
       "      <td>shop/online shopping website</td>\n",
       "      <td>Chrome</td>\n",
       "      <td>Windows</td>\n",
       "      <td>Other</td>\n",
       "    </tr>\n",
       "    <tr>\n",
       "      <th>3</th>\n",
       "      <td>1.121.152.143</td>\n",
       "      <td>Mozilla/5.0 (Linux; Android 7.0; Nexus 9 Build...</td>\n",
       "      <td>AU</td>\n",
       "      <td>english</td>\n",
       "      <td>company</td>\n",
       "      <td>Chrome</td>\n",
       "      <td>Android</td>\n",
       "      <td>Nexus 9</td>\n",
       "    </tr>\n",
       "    <tr>\n",
       "      <th>4</th>\n",
       "      <td>1.123.135.213</td>\n",
       "      <td>Mozilla/5.0 (iPad; CPU OS 9_3_5 like Mac OS X)...</td>\n",
       "      <td>AU</td>\n",
       "      <td>english</td>\n",
       "      <td>company</td>\n",
       "      <td>Mobile Safari</td>\n",
       "      <td>iOS</td>\n",
       "      <td>iPad</td>\n",
       "    </tr>\n",
       "    <tr>\n",
       "      <th>...</th>\n",
       "      <td>...</td>\n",
       "      <td>...</td>\n",
       "      <td>...</td>\n",
       "      <td>...</td>\n",
       "      <td>...</td>\n",
       "      <td>...</td>\n",
       "      <td>...</td>\n",
       "      <td>...</td>\n",
       "    </tr>\n",
       "    <tr>\n",
       "      <th>19921</th>\n",
       "      <td>223.62.3.2</td>\n",
       "      <td>Mozilla/5.0 (Linux; Android 6.0.1; SM-N920S Bu...</td>\n",
       "      <td>KR</td>\n",
       "      <td>english</td>\n",
       "      <td>shop/online shopping website</td>\n",
       "      <td>Chrome Mobile</td>\n",
       "      <td>Android</td>\n",
       "      <td>Samsung SM-N920S</td>\n",
       "    </tr>\n",
       "    <tr>\n",
       "      <th>19922</th>\n",
       "      <td>223.62.67.192</td>\n",
       "      <td>Mozilla/5.0 (Linux; Android 6.0.1; SM-N920S Bu...</td>\n",
       "      <td>KR</td>\n",
       "      <td>english</td>\n",
       "      <td>shop/online shopping website</td>\n",
       "      <td>Chrome Mobile</td>\n",
       "      <td>Android</td>\n",
       "      <td>Samsung SM-N920S</td>\n",
       "    </tr>\n",
       "    <tr>\n",
       "      <th>19923</th>\n",
       "      <td>223.73.243.82</td>\n",
       "      <td>Mozilla/5.0 (Linux; U; Android 5.1.1; zh-cn; v...</td>\n",
       "      <td>CN</td>\n",
       "      <td>chinese</td>\n",
       "      <td>educational institution</td>\n",
       "      <td>QQ Browser Mobile</td>\n",
       "      <td>Android</td>\n",
       "      <td>vivo X7L</td>\n",
       "    </tr>\n",
       "    <tr>\n",
       "      <th>19924</th>\n",
       "      <td>223.73.66.65</td>\n",
       "      <td>Mozilla/5.0 (Macintosh; Intel Mac OS X 10.11; ...</td>\n",
       "      <td>CN</td>\n",
       "      <td>english</td>\n",
       "      <td>magazine</td>\n",
       "      <td>Firefox</td>\n",
       "      <td>Mac OS X</td>\n",
       "      <td>Mac</td>\n",
       "    </tr>\n",
       "    <tr>\n",
       "      <th>19925</th>\n",
       "      <td>223.81.193.148</td>\n",
       "      <td>Mozilla/5.0 (Windows NT 5.1) AppleWebKit/537.3...</td>\n",
       "      <td>CN</td>\n",
       "      <td>chinese</td>\n",
       "      <td>social network/forum</td>\n",
       "      <td>Chrome</td>\n",
       "      <td>Windows</td>\n",
       "      <td>Other</td>\n",
       "    </tr>\n",
       "  </tbody>\n",
       "</table>\n",
       "<p>19926 rows × 8 columns</p>\n",
       "</div>"
      ],
      "text/plain": [
       "                   IP                                          UserAgent  \\\n",
       "0        1.10.195.126  Mozilla/5.0 (Windows NT 6.1; Win64; x64) Apple...   \n",
       "1         1.1.217.211  Mozilla/5.0 (Windows NT 10.0; Win64; x64) Appl...   \n",
       "2       1.115.198.107  Mozilla/5.0 (Windows NT 6.1) AppleWebKit/537.3...   \n",
       "3       1.121.152.143  Mozilla/5.0 (Linux; Android 7.0; Nexus 9 Build...   \n",
       "4       1.123.135.213  Mozilla/5.0 (iPad; CPU OS 9_3_5 like Mac OS X)...   \n",
       "...               ...                                                ...   \n",
       "19921      223.62.3.2  Mozilla/5.0 (Linux; Android 6.0.1; SM-N920S Bu...   \n",
       "19922   223.62.67.192  Mozilla/5.0 (Linux; Android 6.0.1; SM-N920S Bu...   \n",
       "19923   223.73.243.82  Mozilla/5.0 (Linux; U; Android 5.1.1; zh-cn; v...   \n",
       "19924    223.73.66.65  Mozilla/5.0 (Macintosh; Intel Mac OS X 10.11; ...   \n",
       "19925  223.81.193.148  Mozilla/5.0 (Windows NT 5.1) AppleWebKit/537.3...   \n",
       "\n",
       "      Country Languages                     Interests          os_devise  \\\n",
       "0          TH   english                         other             Chrome   \n",
       "1          TH      thai        blog/personal homepage             Chrome   \n",
       "2          JP   english  shop/online shopping website             Chrome   \n",
       "3          AU   english                       company             Chrome   \n",
       "4          AU   english                       company      Mobile Safari   \n",
       "...       ...       ...                           ...                ...   \n",
       "19921      KR   english  shop/online shopping website      Chrome Mobile   \n",
       "19922      KR   english  shop/online shopping website      Chrome Mobile   \n",
       "19923      CN   chinese       educational institution  QQ Browser Mobile   \n",
       "19924      CN   english                      magazine            Firefox   \n",
       "19925      CN   chinese          social network/forum             Chrome   \n",
       "\n",
       "             OS            Device  \n",
       "0       Windows             Other  \n",
       "1       Windows             Other  \n",
       "2       Windows             Other  \n",
       "3       Android           Nexus 9  \n",
       "4           iOS              iPad  \n",
       "...         ...               ...  \n",
       "19921   Android  Samsung SM-N920S  \n",
       "19922   Android  Samsung SM-N920S  \n",
       "19923   Android          vivo X7L  \n",
       "19924  Mac OS X               Mac  \n",
       "19925   Windows             Other  \n",
       "\n",
       "[19926 rows x 8 columns]"
      ]
     },
     "execution_count": 14,
     "metadata": {},
     "output_type": "execute_result"
    }
   ],
   "source": [
    "df"
   ]
  },
  {
   "cell_type": "markdown",
   "metadata": {
    "id": "wqdr35Dd3Tcd"
   },
   "source": [
    "**2) Using visitor-interests.csv dataset, extract latitude, longitude from 'IP' column.**"
   ]
  },
  {
   "cell_type": "code",
   "execution_count": 15,
   "metadata": {
    "id": "MQDyhB4B3Tcd",
    "scrolled": false
   },
   "outputs": [],
   "source": [
    "from ip2geotools.databases.noncommercial import DbIpCity as ip2geo"
   ]
  },
  {
   "cell_type": "code",
   "execution_count": 20,
   "metadata": {},
   "outputs": [],
   "source": [
    "data = df.head()\n",
    "response = ip2geo.get('223.62.3.2')"
   ]
  },
  {
   "cell_type": "code",
   "execution_count": 18,
   "metadata": {},
   "outputs": [
    {
     "data": {
      "text/plain": [
       "37.5667148"
      ]
     },
     "execution_count": 18,
     "metadata": {},
     "output_type": "execute_result"
    }
   ],
   "source": [
    "response.latitude"
   ]
  },
  {
   "cell_type": "code",
   "execution_count": 21,
   "metadata": {},
   "outputs": [
    {
     "name": "stderr",
     "output_type": "stream",
     "text": [
      "C:\\Users\\Ahmed_Moataz\\AppData\\Local\\Temp\\ipykernel_9944\\2317046273.py:4: SettingWithCopyWarning: \n",
      "A value is trying to be set on a copy of a slice from a DataFrame.\n",
      "Try using .loc[row_indexer,col_indexer] = value instead\n",
      "\n",
      "See the caveats in the documentation: https://pandas.pydata.org/pandas-docs/stable/user_guide/indexing.html#returning-a-view-versus-a-copy\n",
      "  data[['latitude','longitude']] = data['IP'].apply(get_lat_long)\n",
      "C:\\Users\\Ahmed_Moataz\\AppData\\Local\\Temp\\ipykernel_9944\\2317046273.py:4: SettingWithCopyWarning: \n",
      "A value is trying to be set on a copy of a slice from a DataFrame.\n",
      "Try using .loc[row_indexer,col_indexer] = value instead\n",
      "\n",
      "See the caveats in the documentation: https://pandas.pydata.org/pandas-docs/stable/user_guide/indexing.html#returning-a-view-versus-a-copy\n",
      "  data[['latitude','longitude']] = data['IP'].apply(get_lat_long)\n"
     ]
    }
   ],
   "source": [
    "def get_lat_long(ip_col):\n",
    "    response = ip2geo.get(ip_col)\n",
    "    return pd.Series((response.latitude, response.longitude))\n",
    "data[['latitude','longitude']] = data['IP'].apply(get_lat_long)"
   ]
  },
  {
   "cell_type": "code",
   "execution_count": 22,
   "metadata": {},
   "outputs": [
    {
     "data": {
      "text/html": [
       "<div>\n",
       "<style scoped>\n",
       "    .dataframe tbody tr th:only-of-type {\n",
       "        vertical-align: middle;\n",
       "    }\n",
       "\n",
       "    .dataframe tbody tr th {\n",
       "        vertical-align: top;\n",
       "    }\n",
       "\n",
       "    .dataframe thead th {\n",
       "        text-align: right;\n",
       "    }\n",
       "</style>\n",
       "<table border=\"1\" class=\"dataframe\">\n",
       "  <thead>\n",
       "    <tr style=\"text-align: right;\">\n",
       "      <th></th>\n",
       "      <th>IP</th>\n",
       "      <th>UserAgent</th>\n",
       "      <th>Country</th>\n",
       "      <th>Languages</th>\n",
       "      <th>Interests</th>\n",
       "      <th>os_devise</th>\n",
       "      <th>OS</th>\n",
       "      <th>Device</th>\n",
       "      <th>latitude</th>\n",
       "      <th>longitude</th>\n",
       "    </tr>\n",
       "  </thead>\n",
       "  <tbody>\n",
       "    <tr>\n",
       "      <th>0</th>\n",
       "      <td>1.10.195.126</td>\n",
       "      <td>Mozilla/5.0 (Windows NT 6.1; Win64; x64) Apple...</td>\n",
       "      <td>TH</td>\n",
       "      <td>english</td>\n",
       "      <td>other</td>\n",
       "      <td>Chrome</td>\n",
       "      <td>Windows</td>\n",
       "      <td>Other</td>\n",
       "      <td>NaN</td>\n",
       "      <td>NaN</td>\n",
       "    </tr>\n",
       "    <tr>\n",
       "      <th>1</th>\n",
       "      <td>1.1.217.211</td>\n",
       "      <td>Mozilla/5.0 (Windows NT 10.0; Win64; x64) Appl...</td>\n",
       "      <td>TH</td>\n",
       "      <td>thai</td>\n",
       "      <td>blog/personal homepage</td>\n",
       "      <td>Chrome</td>\n",
       "      <td>Windows</td>\n",
       "      <td>Other</td>\n",
       "      <td>NaN</td>\n",
       "      <td>NaN</td>\n",
       "    </tr>\n",
       "    <tr>\n",
       "      <th>2</th>\n",
       "      <td>1.115.198.107</td>\n",
       "      <td>Mozilla/5.0 (Windows NT 6.1) AppleWebKit/537.3...</td>\n",
       "      <td>JP</td>\n",
       "      <td>english</td>\n",
       "      <td>shop/online shopping website</td>\n",
       "      <td>Chrome</td>\n",
       "      <td>Windows</td>\n",
       "      <td>Other</td>\n",
       "      <td>35.643227</td>\n",
       "      <td>139.740055</td>\n",
       "    </tr>\n",
       "    <tr>\n",
       "      <th>3</th>\n",
       "      <td>1.121.152.143</td>\n",
       "      <td>Mozilla/5.0 (Linux; Android 7.0; Nexus 9 Build...</td>\n",
       "      <td>AU</td>\n",
       "      <td>english</td>\n",
       "      <td>company</td>\n",
       "      <td>Chrome</td>\n",
       "      <td>Android</td>\n",
       "      <td>Nexus 9</td>\n",
       "      <td>-33.869844</td>\n",
       "      <td>151.208285</td>\n",
       "    </tr>\n",
       "    <tr>\n",
       "      <th>4</th>\n",
       "      <td>1.123.135.213</td>\n",
       "      <td>Mozilla/5.0 (iPad; CPU OS 9_3_5 like Mac OS X)...</td>\n",
       "      <td>AU</td>\n",
       "      <td>english</td>\n",
       "      <td>company</td>\n",
       "      <td>Mobile Safari</td>\n",
       "      <td>iOS</td>\n",
       "      <td>iPad</td>\n",
       "      <td>-33.869844</td>\n",
       "      <td>151.208285</td>\n",
       "    </tr>\n",
       "  </tbody>\n",
       "</table>\n",
       "</div>"
      ],
      "text/plain": [
       "              IP                                          UserAgent Country  \\\n",
       "0   1.10.195.126  Mozilla/5.0 (Windows NT 6.1; Win64; x64) Apple...      TH   \n",
       "1    1.1.217.211  Mozilla/5.0 (Windows NT 10.0; Win64; x64) Appl...      TH   \n",
       "2  1.115.198.107  Mozilla/5.0 (Windows NT 6.1) AppleWebKit/537.3...      JP   \n",
       "3  1.121.152.143  Mozilla/5.0 (Linux; Android 7.0; Nexus 9 Build...      AU   \n",
       "4  1.123.135.213  Mozilla/5.0 (iPad; CPU OS 9_3_5 like Mac OS X)...      AU   \n",
       "\n",
       "  Languages                     Interests      os_devise       OS   Device  \\\n",
       "0   english                         other         Chrome  Windows    Other   \n",
       "1      thai        blog/personal homepage         Chrome  Windows    Other   \n",
       "2   english  shop/online shopping website         Chrome  Windows    Other   \n",
       "3   english                       company         Chrome  Android  Nexus 9   \n",
       "4   english                       company  Mobile Safari      iOS     iPad   \n",
       "\n",
       "    latitude   longitude  \n",
       "0        NaN         NaN  \n",
       "1        NaN         NaN  \n",
       "2  35.643227  139.740055  \n",
       "3 -33.869844  151.208285  \n",
       "4 -33.869844  151.208285  "
      ]
     },
     "execution_count": 22,
     "metadata": {},
     "output_type": "execute_result"
    }
   ],
   "source": [
    "data"
   ]
  },
  {
   "cell_type": "code",
   "execution_count": null,
   "metadata": {},
   "outputs": [],
   "source": []
  }
 ],
 "metadata": {
  "colab": {
   "provenance": []
  },
  "kernelspec": {
   "display_name": "Python 3 (ipykernel)",
   "language": "python",
   "name": "python3"
  },
  "language_info": {
   "codemirror_mode": {
    "name": "ipython",
    "version": 3
   },
   "file_extension": ".py",
   "mimetype": "text/x-python",
   "name": "python",
   "nbconvert_exporter": "python",
   "pygments_lexer": "ipython3",
   "version": "3.9.12"
  }
 },
 "nbformat": 4,
 "nbformat_minor": 1
}
