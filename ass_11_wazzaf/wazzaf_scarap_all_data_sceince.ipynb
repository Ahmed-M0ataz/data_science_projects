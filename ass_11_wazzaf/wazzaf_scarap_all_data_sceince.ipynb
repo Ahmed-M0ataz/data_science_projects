{
 "cells": [
  {
   "cell_type": "code",
   "execution_count": 1,
   "id": "55b11802",
   "metadata": {},
   "outputs": [],
   "source": [
    "import requests\n",
    "from bs4 import BeautifulSoup\n",
    "\n",
    "response  = requests.get('https://wuzzuf.net/search/jobs/?a=navbl&q=data%20science%20jobs&start=50')\n",
    "soup = BeautifulSoup(response.content,'html.parser')\n"
   ]
  },
  {
   "cell_type": "code",
   "execution_count": 29,
   "id": "435e1a9b",
   "metadata": {},
   "outputs": [
    {
     "name": "stdout",
     "output_type": "stream",
     "text": [
      "<Response [200]>     1\n",
      "<Response [200]>     2\n",
      "<Response [200]>     3\n",
      "<Response [200]>     4\n",
      "<Response [200]>     5\n",
      "<Response [200]>     6\n",
      "<Response [200]>     7\n",
      "<Response [200]>     8\n",
      "<Response [200]>     9\n",
      "<Response [200]>     10\n",
      "<Response [200]>     11\n",
      "<Response [200]>     12\n",
      "<Response [200]>     13\n",
      "<Response [200]>     14\n",
      "<Response [200]>     15\n",
      "<Response [200]>     16\n",
      "<Response [200]>     17\n",
      "<Response [200]>     18\n",
      "<Response [200]>     19\n",
      "<Response [200]>     20\n",
      "<Response [200]>     21\n",
      "<Response [200]>     22\n",
      "<Response [200]>     23\n",
      "<Response [200]>     24\n",
      "<Response [200]>     25\n",
      "<Response [200]>     26\n",
      "<Response [200]>     27\n",
      "<Response [200]>     28\n",
      "<Response [200]>     29\n",
      "<Response [200]>     30\n",
      "<Response [200]>     31\n",
      "<Response [200]>     32\n",
      "<Response [200]>     33\n",
      "<Response [200]>     34\n",
      "<Response [200]>     35\n",
      "<Response [200]>     36\n",
      "<Response [200]>     37\n",
      "<Response [200]>     38\n",
      "<Response [200]>     39\n",
      "<Response [200]>     40\n",
      "<Response [200]>     41\n",
      "<Response [200]>     42\n",
      "<Response [200]>     43\n",
      "<Response [200]>     44\n",
      "<Response [200]>     45\n",
      "done\n"
     ]
    }
   ],
   "source": [
    "import csv\n",
    "with open('wazzaf.csv','w',newline='',encoding='utf-8-sig') as csv_file:\n",
    "    writer = csv.DictWriter(csv_file,fieldnames=['title','company_name','location','description','link'])\n",
    "    writer.writeheader()\n",
    "    page = 0\n",
    "    while True:\n",
    "        response  = requests.get(f'https://wuzzuf.net/search/jobs/?a=navbl&q=data%20science%20jobs&start={page}')\n",
    "        soup = BeautifulSoup(response.content,'html.parser')\n",
    "        contaner= soup.find_all('div',{'class':'css-pkv5jc'})\n",
    "        page += 1\n",
    "        print(response ,'   ',page)\n",
    "        try:\n",
    "            contaner[-1].find('a',{'class':'css-o171kl'}).get('href') \n",
    "        except:\n",
    "            break\n",
    "        else:\n",
    "            for jop in contaner:\n",
    "\n",
    "                link = 'https://wuzzuf.net'+jop.find('a',{'class':'css-o171kl'}).get('href')\n",
    "                title = jop.find('a',{'class':'css-o171kl'}).text\n",
    "                location = jop.find('span',{'class':'css-5wys0k'}).text\n",
    "                description = jop.find('div',{'class':'css-y4udm8'}).text\n",
    "                company_name = jop.find('a',{'class':'css-17s97q8'}).text\n",
    "                writer.writerow({'title': title,'company_name': company_name, 'location':location,'description':description,'link':link})\n",
    "\n",
    "print('done')      "
   ]
  },
  {
   "cell_type": "code",
   "execution_count": 10,
   "id": "e06453a5",
   "metadata": {},
   "outputs": [
    {
     "name": "stdout",
     "output_type": "stream",
     "text": [
      "None\n"
     ]
    }
   ],
   "source": [
    "\n",
    "url = 'https://wuzzuf.net/jobs/p/6EdqURmRczoK-Data-Science-Instructor-EpsilonAI-Cairo-Egypt?o=1&l=sp&t=sj&a=data science jobs|search-v3|navbl'\n",
    "response  = requests.get(url)\n",
    "soup = BeautifulSoup(response.text, 'html.parser')\n",
    "s = soup.find('div',{'class':'css-1uobp1k'})\n",
    "print(s)"
   ]
  },
  {
   "cell_type": "code",
   "execution_count": 4,
   "id": "a0244aa0",
   "metadata": {},
   "outputs": [
    {
     "data": {
      "text/plain": [
       "\"Epsilon AI Institute is hiring Data Science instructors who Manage and delivers the course materials to trainees in an engaging thought-provoking mannerThe successful candidate will be able to contribute to the delivery of topics relating to Artificial Intelligence, Machine Learning, Data Science and ProgrammingEngage in the classroom and reply to emails, Trainees’ questions, etc. within 24 hours on non-holiday weekdays.Evaluate and grade Trainees' class work, assignments, and papers within the timeframe set forth by Epsilon AI policy providing effective feedback to guide Trainees' learning and success.Maintain the cadence of the course: Keep Trainees on track, monitor each individual's progress, and design and implement learning or service interventions when Trainees fall behind\""
      ]
     },
     "execution_count": 4,
     "metadata": {},
     "output_type": "execute_result"
    }
   ],
   "source": [
    "headers={'User-Agent': 'Mozilla/5.0 (Windows NT 10.0; Win64; x64) AppleWebKit/537.36 (KHTML, like Gecko) Chrome/102.0.0.0 Safari/537.36'}\n",
    "url = 'https://wuzzuf.net/jobs/p/6EdqURmRczoK-Data-Science-Instructor-EpsilonAI-Cairo-Egypt?o=1&l=sp&t=sj&a=data science jobs|search-v3|navbl'\n",
    "response  = requests.get(url, headers=headers)\n",
    "soup = BeautifulSoup(response.text, 'html.parser')\n",
    "soup.find('div',{'class':'css-1uobp1k'}).text\n"
   ]
  },
  {
   "cell_type": "code",
   "execution_count": null,
   "id": "952a1f06",
   "metadata": {},
   "outputs": [],
   "source": []
  }
 ],
 "metadata": {
  "kernelspec": {
   "display_name": "Python 3 (ipykernel)",
   "language": "python",
   "name": "python3"
  },
  "language_info": {
   "codemirror_mode": {
    "name": "ipython",
    "version": 3
   },
   "file_extension": ".py",
   "mimetype": "text/x-python",
   "name": "python",
   "nbconvert_exporter": "python",
   "pygments_lexer": "ipython3",
   "version": "3.9.12"
  }
 },
 "nbformat": 4,
 "nbformat_minor": 5
}
