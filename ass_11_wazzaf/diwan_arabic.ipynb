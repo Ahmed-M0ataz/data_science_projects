{
 "cells": [
  {
   "cell_type": "code",
   "execution_count": 3,
   "id": "f6fecebe",
   "metadata": {},
   "outputs": [],
   "source": [
    "import requests\n",
    "from bs4 import BeautifulSoup\n",
    "import csv\n",
    "import time"
   ]
  },
  {
   "cell_type": "code",
   "execution_count": 5,
   "id": "115b726c",
   "metadata": {},
   "outputs": [
    {
     "name": "stdout",
     "output_type": "stream",
     "text": [
      "\n",
      "done\n"
     ]
    }
   ],
   "source": [
    "# arabic books**********************\n",
    "with open ('diwan_arabic.csv', 'w', newline='',encoding='utf-8-sig') as csv_file:\n",
    "    writer= csv.DictWriter(csv_file, fieldnames= ['name','author','price'])\n",
    "    writer.writeheader()\n",
    "    response = requests.get('https://diwanegypt.com/product-category/books/arabic-books/')\n",
    "    soup = BeautifulSoup(response.text, 'html.parser')\n",
    "    num_pages = soup.find_all('a',{'class':'page-numbers'})[-2].text\n",
    "    \n",
    "    for page in range(int(num_pages)):\n",
    "        time.sleep(1)\n",
    "        books = soup.find_all('a',{'class': 'woocommerce-LoopProduct-link woocommerce-loop-product__link'})\n",
    "        for book in books:  \n",
    "            time.sleep(0.5)\n",
    "            name = book.find('h2',{'class': 'woocommerce-loop-product__title'}).text\n",
    "            author = book.find('span',{'class': 'author'}).text\n",
    "            price = book.find('bdi').text[3:]\n",
    "            writer.writerow({'name': name,'author': author,'price': price})\n",
    "#         if page == 230:\n",
    "#             break\n",
    "        try:\n",
    "            next_page = soup.find('a',{'class':'next'}).get('href')\n",
    "        except:\n",
    "            print('')\n",
    "        else:\n",
    "            response = requests.get(next_page)\n",
    "            soup = BeautifulSoup(response.text, 'html.parser')\n",
    "print('done')\n"
   ]
  },
  {
   "cell_type": "markdown",
   "id": "9418e7b6",
   "metadata": {},
   "source": [
    "# سعات بيغيرو ف فلو الي فوق مشتغلش جرب الي تحت ال  html\n",
    "## متعملش الي تحت لو الي فوق اشتغل"
   ]
  },
  {
   "cell_type": "code",
   "execution_count": 4,
   "id": "a06cd08f",
   "metadata": {},
   "outputs": [
    {
     "name": "stdout",
     "output_type": "stream",
     "text": [
      "done\n"
     ]
    }
   ],
   "source": [
    "# arabic books**********************\n",
    "#غيرو ال html\n",
    "#بقو كلهم صفحه واحده\n",
    "#يوم الاثين كانو 4900 كتاب\n",
    "with open ('diwan_arabic2.csv', 'w', newline='',encoding='utf-8-sig') as csv_file:\n",
    "    writer= csv.DictWriter(csv_file, fieldnames= ['name','author','price'])\n",
    "    writer.writeheader()\n",
    "    response = requests.get('https://diwanegypt.com/product-category/books/arabic-books/')\n",
    "    soup = BeautifulSoup(response.text, 'html.parser')\n",
    "    #num_pages = soup.find_all('a',{'class':'page-numbers'})[-2].text\n",
    "    \n",
    "    #for page in range(int(num_pages)):\n",
    "    books = soup.find_all('a',{'class': 'woocommerce-LoopProduct-link woocommerce-loop-product__link'})\n",
    "    for book in books:           \n",
    "        name = book.find('h2',{'class': 'woocommerce-loop-product__title'}).text\n",
    "        author = book.find('span',{'class': 'author'}).text\n",
    "        price = books[1].find('bdi').text[3:]\n",
    "        writer.writerow({'name': name,'author': author,'price': price})\n",
    "\n",
    "        #try:\n",
    "#             next_page = soup.find('a',{'class':'next'}).get('href')\n",
    "#         except:\n",
    "#             print('')\n",
    "#         else:\n",
    "#             response = requests.get(next_page)\n",
    "#             soup = BeautifulSoup(response.text, 'html.parser')\n",
    "print('done')"
   ]
  },
  {
   "cell_type": "code",
   "execution_count": null,
   "id": "0578b091",
   "metadata": {},
   "outputs": [],
   "source": []
  },
  {
   "cell_type": "code",
   "execution_count": null,
   "id": "5ee9f388",
   "metadata": {},
   "outputs": [],
   "source": []
  }
 ],
 "metadata": {
  "kernelspec": {
   "display_name": "Python 3 (ipykernel)",
   "language": "python",
   "name": "python3"
  },
  "language_info": {
   "codemirror_mode": {
    "name": "ipython",
    "version": 3
   },
   "file_extension": ".py",
   "mimetype": "text/x-python",
   "name": "python",
   "nbconvert_exporter": "python",
   "pygments_lexer": "ipython3",
   "version": "3.9.12"
  }
 },
 "nbformat": 4,
 "nbformat_minor": 5
}
