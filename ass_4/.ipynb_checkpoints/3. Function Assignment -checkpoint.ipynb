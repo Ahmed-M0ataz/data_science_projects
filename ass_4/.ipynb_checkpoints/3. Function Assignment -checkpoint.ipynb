{
 "cells": [
  {
   "cell_type": "markdown",
   "metadata": {},
   "source": [
    "> # Dear Epsilon Students, \n",
    "> # The More you practice The better You'll Be."
   ]
  },
  {
   "cell_type": "markdown",
   "metadata": {},
   "source": [
    "### Instructions: \n",
    "- Make sure that you understand this topics before you start.\n",
    "- If you found something hard to do, try and try then google it and finally ask someone. \n",
    "- You can divide this work into daily tasks so that you do not feel pressure.\n",
    "- After you finish, go to model answer and rate yourself. \n",
    "- If you find something ambiguous, Try to make a hypothesis to solve a problem. "
   ]
  },
  {
   "cell_type": "markdown",
   "metadata": {},
   "source": [
    "### Question classification: \n",
    "- Green is level 1 \n",
    "- Orange is level 2 \n",
    "- Red is level 3 "
   ]
  },
  {
   "cell_type": "markdown",
   "metadata": {},
   "source": [
    "# <center> Let's start 💪 </center> "
   ]
  },
  {
   "cell_type": "markdown",
   "metadata": {},
   "source": [
    "## <p style=\"color:green;\">Q.01 Write a function takes a two-word string and returns True if both words begin with same letter</p>\n",
    "> ('Levelheaded Llama') → True\n",
    "\n",
    "> ('Crazy Kangaroo') → False"
   ]
  },
  {
   "cell_type": "code",
   "execution_count": 7,
   "metadata": {},
   "outputs": [
    {
     "name": "stdout",
     "output_type": "stream",
     "text": [
      "True\n"
     ]
    },
    {
     "data": {
      "text/plain": [
       "False"
      ]
     },
     "execution_count": 7,
     "metadata": {},
     "output_type": "execute_result"
    }
   ],
   "source": [
    "# Answer here \n",
    "def checkWord(my_string):\n",
    "    checking = my_string.split()\n",
    "    return True if checking[0][0] == checking[1][0] else False\n",
    "\n",
    "print(checkWord('ahmed aoataz'))\n",
    "checkWord('ahmed Moataz')"
   ]
  },
  {
   "cell_type": "markdown",
   "metadata": {},
   "source": [
    "## <p style=\"color:green;\">Q.02 Write a function that returns the lesser of two given numbers if both numbers are even, but returns the greater if one or both numbers are odd</p>\n",
    "\n",
    "> (2,4) → 2\n",
    "\n",
    "> (2,5) → 5"
   ]
  },
  {
   "cell_type": "code",
   "execution_count": 10,
   "metadata": {},
   "outputs": [
    {
     "data": {
      "text/plain": [
       "5"
      ]
     },
     "execution_count": 10,
     "metadata": {},
     "output_type": "execute_result"
    }
   ],
   "source": [
    "# Answer here \n",
    "def checkGreatest(num1,num2):\n",
    "    return min(num1,num2) if num1 % 2 == 0 and num2 % 2 == 0 else max(num1,num2)\n",
    "checkGreatest(5,3)"
   ]
  },
  {
   "cell_type": "markdown",
   "metadata": {},
   "source": [
    "## <p style=\"color:green;\">Q.03 Write a function that capitalizes the first and fourth letters of a name</p>\n",
    "> ('macdonald') → MacDonald"
   ]
  },
  {
   "cell_type": "code",
   "execution_count": 14,
   "metadata": {},
   "outputs": [
    {
     "data": {
      "text/plain": [
       "'MacDonald'"
      ]
     },
     "execution_count": 14,
     "metadata": {},
     "output_type": "execute_result"
    }
   ],
   "source": [
    "# Answer here \n",
    "def capita(name):\n",
    "    return name[:3].capitalize()+name[3:].capitalize()\n",
    "\n",
    "capita('macdonald')\n"
   ]
  },
  {
   "cell_type": "markdown",
   "metadata": {},
   "source": [
    "## <p style=\"color:green;\">Q.04 Given a sentence, return a sentence with the words reversed</p>\n",
    "> ('I am home') → 'home am I'"
   ]
  },
  {
   "cell_type": "code",
   "execution_count": 17,
   "metadata": {},
   "outputs": [
    {
     "data": {
      "text/plain": [
       "'home am I'"
      ]
     },
     "execution_count": 17,
     "metadata": {},
     "output_type": "execute_result"
    }
   ],
   "source": [
    "# Answer here \n",
    "def revers(sentance):\n",
    "    rev = sentance.split()\n",
    "    return ' '.join(rev[::-1])\n",
    "revers(\"I am home\")"
   ]
  },
  {
   "cell_type": "markdown",
   "metadata": {},
   "source": [
    "## <p style=\"color:orange;\">Q.05 Given a list of ints, return True if the array contains a 3 next to a 3 somewhere.</p>\n",
    "> has_33([1, 3, 3]) → True\n",
    "\n",
    "> has_33([1, 3, 1, 3]) → False\n"
   ]
  },
  {
   "cell_type": "code",
   "execution_count": 10,
   "metadata": {},
   "outputs": [
    {
     "data": {
      "text/plain": [
       "False"
      ]
     },
     "execution_count": 10,
     "metadata": {},
     "output_type": "execute_result"
    }
   ],
   "source": [
    "# Answer here \n",
    "def has_33(arr):\n",
    "\n",
    "    for i in range(len(arr)-1):\n",
    "        if arr[i] == arr[i+1]:\n",
    "            return True\n",
    "    else:\n",
    "        return False\n",
    "has_33([1, 3, 1, 3])\n",
    "\n",
    "    "
   ]
  },
  {
   "cell_type": "markdown",
   "metadata": {},
   "source": [
    "## <p style=\"color:orange;\">Q.06 BLACKJACK: Given three integers between 1 and 11, if their sum is less than or equal to 21, return their sum. If their sum exceeds 21 and there's an eleven, reduce the total sum by 10. Finally, if the sum (even after adjustment) exceeds 21, return 'BUST'¶</p>\n",
    "\n",
    ">blackjack(5,6,7) → 18\n",
    "\n",
    ">blackjack(9,9,9) → 'BUST'\n",
    "\n",
    ">blackjack(9,9,11) → 19"
   ]
  },
  {
   "cell_type": "code",
   "execution_count": 2,
   "metadata": {},
   "outputs": [
    {
     "name": "stdout",
     "output_type": "stream",
     "text": [
      "18\n",
      "BUST\n",
      "19\n"
     ]
    }
   ],
   "source": [
    "# Answer here \n",
    "def blackjack(num1,num2,num3):\n",
    "    my_list = [num1,num2,num3]\n",
    "    if (num1 or num2 or num3 >= 1) and (num1 or num2 or num3 <= 11):\n",
    "        if sum(my_list) <= 21 :\n",
    "            return sum(my_list)\n",
    "        elif ((sum(my_list) > 21) and (num1 == 11 or num2 == 11 or num3 == 11)) :\n",
    "            return sum(my_list) - 10\n",
    "        else :\n",
    "            return 'BUST'\n",
    "    else:\n",
    "        print(\"enter numbers according roles\")\n",
    "print(blackjack(5,6,7))    \n",
    "print(blackjack(9,9,9)) \n",
    "print(blackjack(9,9,11)) \n"
   ]
  },
  {
   "cell_type": "markdown",
   "metadata": {},
   "source": [
    "## <p style=\"color:red;\">Q.07 SUMMER OF '69: Return the sum of the numbers in the array, except ignore sections of numbers starting with a 6 and extending to the next 9 (every 6 will be followed by at least one 9). Return 0 for no numbers.</p>\n",
    ">summer_69([1, 3, 5]) → 9\n",
    "\n",
    ">summer_69([4, 5, 6, 7, 8, 9]) → 9\n",
    "\n",
    ">summer_69([2, 1, 6, 9, 11]) → 14"
   ]
  },
  {
   "cell_type": "code",
   "execution_count": 13,
   "metadata": {},
   "outputs": [
    {
     "name": "stdout",
     "output_type": "stream",
     "text": [
      "9\n",
      "9\n",
      "14\n"
     ]
    }
   ],
   "source": [
    "# Answer here \n",
    "\n",
    " \n",
    "def summer_69(lis):\n",
    "    \n",
    "    sum1 = 0\n",
    "    sum2 = 0\n",
    "    if len(lis) == 0:\n",
    "        return 0\n",
    "    else:\n",
    "        for i in range(len (lis)):\n",
    "\n",
    "            if lis[i]== 6:\n",
    "                j = i\n",
    "                #print(j)\n",
    "                while j in range(len (lis)):\n",
    "                    #print(j)\n",
    "                    try:\n",
    "                        if lis[j] == 9:\n",
    "                        #print(i)\n",
    "                            sum1+= lis[j+1]\n",
    "                        j += 1\n",
    "\n",
    "                    except:\n",
    "                        break\n",
    "                break            \n",
    "            else:                \n",
    "    #        print(i)       \n",
    "                sum1 += lis[i]\n",
    "        print(sum1)\n",
    "summer_69([1, 3, 5])\n",
    "summer_69([4, 5, 6, 7, 8, 9])\n",
    "summer_69([2, 1, 6, 9, 11])"
   ]
  },
  {
   "cell_type": "markdown",
   "metadata": {},
   "source": [
    "## <p style=\"color:red;\">Q.08 SPY GAME: Write a function that takes in a list of integers and returns True if it contains 007 in order</p>\n",
    "\n",
    ">spy_game([1,2,4,0,0,7,5]) → True\n",
    "\n",
    "> spy_game([1,0,2,4,0,5,7]) → True\n",
    "\n",
    " >spy_game([1,7,2,0,4,5,0]) → False\n"
   ]
  },
  {
   "cell_type": "code",
   "execution_count": 11,
   "metadata": {},
   "outputs": [
    {
     "name": "stdout",
     "output_type": "stream",
     "text": [
      "True\n",
      "True\n"
     ]
    },
    {
     "data": {
      "text/plain": [
       "False"
      ]
     },
     "execution_count": 11,
     "metadata": {},
     "output_type": "execute_result"
    }
   ],
   "source": [
    "# Answer here \n",
    "def spy_game(lis):\n",
    "        for i in range(len (lis)):\n",
    "            if lis[i] == 0:\n",
    "                j = i+1\n",
    "                while  j in range(len (lis)):\n",
    "                    #print (j)\n",
    "                    if lis[j] == 0:\n",
    "                        k = j+1\n",
    "                        while  k in range(len (lis)):\n",
    "                            if lis[k] == 7:\n",
    "                                #print (k)\n",
    "                                return True\n",
    "                            else:\n",
    "                                k +=1\n",
    "                    \n",
    "                        \n",
    "                    j +=1\n",
    "        else:\n",
    "            return False\n",
    "            \n",
    "            #print(i)\n",
    "print(spy_game([1,2,4,0,0,7,5]))\n",
    "print(spy_game([1,0,2,4,0,5,7]))\n",
    "spy_game([1,7,2,0,4,5,0])"
   ]
  },
  {
   "cell_type": "markdown",
   "metadata": {},
   "source": [
    "## <p style=\"color:green;\">Q.09 Write a function that checks whether a number is in a given range (inclusive of high and low)</p>\n"
   ]
  },
  {
   "cell_type": "code",
   "execution_count": 8,
   "metadata": {},
   "outputs": [
    {
     "name": "stdout",
     "output_type": "stream",
     "text": [
      "this num in range 0 and 15 and high\n",
      "this num in range 0 and 15 and low\n"
     ]
    },
    {
     "data": {
      "text/plain": [
       "'this num not in the range 0 and 15'"
      ]
     },
     "execution_count": 8,
     "metadata": {},
     "output_type": "execute_result"
    }
   ],
   "source": [
    "# Answer here \n",
    "\n",
    "def in_range(num, r1, r2):\n",
    "    ranges = range(r1,r2+1)\n",
    "    if num in ranges:\n",
    "        if num >= ranges[(len(ranges)-1)//2]:\n",
    "            return f'this num in range {r1} and {r2} and high'\n",
    "        else :\n",
    "            return f'this num in range {r1} and {r2} and low'\n",
    "    else:\n",
    "        return f'this num not in the range {r1} and {r2}'\n",
    "print(in_range(10,0,15))\n",
    "print(in_range(2,0,15))           \n",
    "in_range(17,0,15)"
   ]
  },
  {
   "cell_type": "markdown",
   "metadata": {},
   "source": [
    "## <p style=\"color:orange;\">Q.10 Write a Python function to multiply all the numbers in a list.</p>\n",
    "> Sample List : [1, 2, 3, -4]\n",
    "\n",
    "> Expected Output : -24"
   ]
  },
  {
   "cell_type": "code",
   "execution_count": 16,
   "metadata": {},
   "outputs": [
    {
     "name": "stdout",
     "output_type": "stream",
     "text": [
      "-24\n",
      "-24\n"
     ]
    }
   ],
   "source": [
    "# Answer here \n",
    "\n",
    "def muls (num1, num2):\n",
    "    return num1*num2\n",
    "result = reduce(muls,[1, 2, 3, -4])\n",
    "print(result)\n",
    "# ----------------------  or ------------------\n",
    "from functools import reduce\n",
    "print(reduce(lambda num1,num2: num1*num2,[1, 2, 3, -4]))\n"
   ]
  },
  {
   "cell_type": "markdown",
   "metadata": {},
   "source": [
    "## <p style=\"color:red;\">Q.11 Write a Python function that checks whether a passed string is palindrome or not.</p>\n",
    ">Note: A palindrome is word, phrase, or sequence that reads the same backward as forward, e.g., madam or nurses run."
   ]
  },
  {
   "cell_type": "code",
   "execution_count": 18,
   "metadata": {},
   "outputs": [
    {
     "name": "stdout",
     "output_type": "stream",
     "text": [
      "it is not palindrome\n",
      "it is the palindrome\n"
     ]
    }
   ],
   "source": [
    "# Answer here \n",
    "\n",
    "def palindrome (my_str):\n",
    "    return 'it is the palindrome' if my_str == my_str[::-1] else 'it is not palindrome'\n",
    "print(palindrome('ahmed moataz'))\n",
    "print(palindrome('adada'))"
   ]
  },
  {
   "cell_type": "markdown",
   "metadata": {},
   "source": [
    "## <p style=\"color:green;\">Q.12 Write a Python program to create a lambda function that adds 15 to a given number passed in as an argument\n"
   ]
  },
  {
   "cell_type": "code",
   "execution_count": 25,
   "metadata": {},
   "outputs": [
    {
     "name": "stdout",
     "output_type": "stream",
     "text": [
      "18\n"
     ]
    }
   ],
   "source": [
    "# Answer here \n",
    "c = 3\n",
    "x = lambda c : c+15\n",
    "print(x(c))"
   ]
  },
  {
   "cell_type": "markdown",
   "metadata": {},
   "source": [
    "## <p style=\"color:green;\">Q.13 create a lambda function that multiplies argument x with argument y and print the result.</p>\n"
   ]
  },
  {
   "cell_type": "code",
   "execution_count": 27,
   "metadata": {},
   "outputs": [
    {
     "name": "stdout",
     "output_type": "stream",
     "text": [
      "6\n"
     ]
    }
   ],
   "source": [
    "# Answer here \n",
    "res = lambda x,y: x*y\n",
    "print(res(2,3))"
   ]
  },
  {
   "cell_type": "markdown",
   "metadata": {},
   "source": [
    "## <p style=\"color:orange;\">Q.14 Write a Python program to filter a list of integers using Lambda. </p>\n",
    "> Original list of integers:[1, 2, 3, 4, 5, 6, 7, 8, 9, 10]\n",
    "\n",
    "> Even numbers from the said list:[2, 4, 6, 8, 10]\n",
    "\n",
    "> Odd numbers from the said list:[1, 3, 5, 7, 9]\n"
   ]
  },
  {
   "cell_type": "code",
   "execution_count": 37,
   "metadata": {},
   "outputs": [
    {
     "name": "stdout",
     "output_type": "stream",
     "text": [
      "Even numbers from the said list: [2, 4, 6, 8, 10]\n",
      "Even numbers from the said list: [1, 3, 5, 7, 9]\n"
     ]
    }
   ],
   "source": [
    "# Answer here \n",
    "evens = list(filter(lambda num: num%2 ==0, [1, 2, 3, 4, 5, 6, 7, 8, 9, 10]))\n",
    "odds =  list(filter(lambda num: num%2 !=0, [1, 2, 3, 4, 5, 6, 7, 8, 9, 10]))\n",
    "print(f\"Even numbers from the said list: {evens}\")\n",
    "print(f\"Odd numbers from the said list: {odds}\")\n"
   ]
  },
  {
   "cell_type": "markdown",
   "metadata": {},
   "source": [
    "## <p style=\"color:green;\">Q.15 Write a Python program to triple all numbers of a given list of integers. Use Python map.</p>\n"
   ]
  },
  {
   "cell_type": "code",
   "execution_count": 10,
   "metadata": {},
   "outputs": [
    {
     "data": {
      "text/plain": [
       "[3, 6, 9, 12, 15, 15, 18, 18, 21, 162, 264, 96, 27]"
      ]
     },
     "execution_count": 10,
     "metadata": {},
     "output_type": "execute_result"
    }
   ],
   "source": [
    "# Answer here \n",
    "def triple(num):\n",
    "    return num * 3\n",
    "my_lis = [1,2,3,4,5,5,6,6,7,54,88,32,9]\n",
    "lis = list(map(triple,my_lis))\n",
    "lis"
   ]
  },
  {
   "cell_type": "markdown",
   "metadata": {},
   "source": [
    "## <p style=\"color:orange;\">Q.16 Write a Python program to add three given lists using Python map and lambda.\n",
    "\n",
    "</p>\n"
   ]
  },
  {
   "cell_type": "code",
   "execution_count": 13,
   "metadata": {},
   "outputs": [
    {
     "data": {
      "text/plain": [
       "135"
      ]
     },
     "execution_count": 13,
     "metadata": {},
     "output_type": "execute_result"
    }
   ],
   "source": [
    "# Answer here #دا الي فهمته من السؤال السؤال مش واضح\n",
    "from functools import reduce\n",
    "l1 = list(range(1,10))\n",
    "l2 = list(range(1,10))\n",
    "l3 = list(range(1,10))\n",
    "sum_A = reduce(lambda x,s: s + x, l_tot )\n",
    "sum_A"
   ]
  },
  {
   "cell_type": "markdown",
   "metadata": {},
   "source": [
    "## <p style=\"color:orange;\">Q.17 Write a Python program to square the elements of a list using map() function.</p>\n"
   ]
  },
  {
   "cell_type": "code",
   "execution_count": 2,
   "metadata": {},
   "outputs": [
    {
     "data": {
      "text/plain": [
       "[1, 4, 9, 16, 25, 36, 49, 64, 81, 100]"
      ]
     },
     "execution_count": 2,
     "metadata": {},
     "output_type": "execute_result"
    }
   ],
   "source": [
    "# Answer here \n",
    "\n",
    "lis = list(range(1,11))\n",
    "list(map(lambda x: x**2,lis))"
   ]
  },
  {
   "cell_type": "markdown",
   "metadata": {},
   "source": [
    "## <p style=\"color:green;\">Q.18 Using filter() function filter the list so that only negative numbers are left.</p>\n",
    "> lst1  [12,-1,9,8,-.5,-.2,-100]\n"
   ]
  },
  {
   "cell_type": "code",
   "execution_count": 14,
   "metadata": {},
   "outputs": [
    {
     "data": {
      "text/plain": [
       "[12, 9, 8]"
      ]
     },
     "execution_count": 14,
     "metadata": {},
     "output_type": "execute_result"
    }
   ],
   "source": [
    "# Answer here \n",
    "lst1 = [12,-1,9,8,-.5,-.2,-100]\n",
    "list(filter(lambda x: x>0,lst1))"
   ]
  },
  {
   "cell_type": "markdown",
   "metadata": {},
   "source": [
    "## <p style=\"color:green;\">Q.19 Using filter function, filter the even numbers so that only odd numbers are passed to the new list.</p>\n",
    "> lst1  [22,100,19,13,11,1,4,66]\n"
   ]
  },
  {
   "cell_type": "code",
   "execution_count": 16,
   "metadata": {},
   "outputs": [
    {
     "data": {
      "text/plain": [
       "[19, 13, 11, 1]"
      ]
     },
     "execution_count": 16,
     "metadata": {},
     "output_type": "execute_result"
    }
   ],
   "source": [
    "# Answer here\n",
    "lst1 = [22,100,19,13,11,1,4,66]\n",
    "list(filter(lambda x: x%2 !=0,lst1))"
   ]
  },
  {
   "cell_type": "markdown",
   "metadata": {},
   "source": [
    "## <p style=\"color:green;\">Q.20 Using map() and filter() functions add 2000 to the values below 8000.</p>\n",
    "> lst [1000,500,600,700,5000,90000,17500]"
   ]
  },
  {
   "cell_type": "code",
   "execution_count": 17,
   "metadata": {},
   "outputs": [
    {
     "data": {
      "text/plain": [
       "[3000, 2500, 2600, 2700, 7000]"
      ]
     },
     "execution_count": 17,
     "metadata": {},
     "output_type": "execute_result"
    }
   ],
   "source": [
    "# Answer here \n",
    "lst = [1000,500,600,700,5000,90000,17500]\n",
    "list(map(lambda x : x + 2000,list(filter(lambda x : x< 8000, lst))))"
   ]
  },
  {
   "cell_type": "markdown",
   "metadata": {},
   "source": [
    "# <center> Thank's for your effort ❤️ </center> "
   ]
  }
 ],
 "metadata": {
  "kernelspec": {
   "display_name": "Python 3 (ipykernel)",
   "language": "python",
   "name": "python3"
  },
  "language_info": {
   "codemirror_mode": {
    "name": "ipython",
    "version": 3
   },
   "file_extension": ".py",
   "mimetype": "text/x-python",
   "name": "python",
   "nbconvert_exporter": "python",
   "pygments_lexer": "ipython3",
   "version": "3.9.12"
  }
 },
 "nbformat": 4,
 "nbformat_minor": 4
}
