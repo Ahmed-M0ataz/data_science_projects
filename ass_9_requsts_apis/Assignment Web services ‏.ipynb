{
 "cells": [
  {
   "cell_type": "code",
   "execution_count": 3,
   "id": "f7cda8b7",
   "metadata": {},
   "outputs": [],
   "source": [
    "import requests\n",
    "import json\n",
    "\n",
    "response = requests.get('https://jsonplaceholder.typicode.com/users')"
   ]
  },
  {
   "cell_type": "code",
   "execution_count": 4,
   "id": "46744ac9",
   "metadata": {},
   "outputs": [
    {
     "data": {
      "text/plain": [
       "{'id': 1,\n",
       " 'name': 'Leanne Graham',\n",
       " 'username': 'Bret',\n",
       " 'email': 'Sincere@april.biz',\n",
       " 'address': {'street': 'Kulas Light',\n",
       "  'suite': 'Apt. 556',\n",
       "  'city': 'Gwenborough',\n",
       "  'zipcode': '92998-3874',\n",
       "  'geo': {'lat': '-37.3159', 'lng': '81.1496'}},\n",
       " 'phone': '1-770-736-8031 x56442',\n",
       " 'website': 'hildegard.org',\n",
       " 'company': {'name': 'Romaguera-Crona',\n",
       "  'catchPhrase': 'Multi-layered client-server neural-net',\n",
       "  'bs': 'harness real-time e-markets'}}"
      ]
     },
     "execution_count": 4,
     "metadata": {},
     "output_type": "execute_result"
    }
   ],
   "source": [
    "data = response.json()\n",
    "type(data)\n",
    "data[0]"
   ]
  },
  {
   "cell_type": "code",
   "execution_count": 8,
   "id": "f55df383",
   "metadata": {},
   "outputs": [],
   "source": [
    "import pandas as pd\n",
    "import openpyxl"
   ]
  },
  {
   "cell_type": "code",
   "execution_count": 10,
   "id": "28e7bfa1",
   "metadata": {},
   "outputs": [],
   "source": [
    "import csv\n",
    "datatoexcel = pd.ExcelWriter('CarsData1.xlsx')\n",
    "with open('data.csv', 'w', newline= '') as csvfile:\n",
    "    writer = csv.DictWriter(csvfile, fieldnames = [\"name\",'username','email','street','suite','city','zip code','geo_lat','geo_long'])\n",
    "    writer.writeheader()\n",
    "    for item in range(len(data)):\n",
    "        name = data[item]['name']\n",
    "        username = data[item]['username']\n",
    "        email = data[item]['email']\n",
    "       \n",
    "        street = data[item]['address']['street']\n",
    "        suite =  data[item]['address']['suite']\n",
    "        city = data[item]['address']['city']\n",
    "        zip_code = data[item]['address']['zipcode']\n",
    "        geo_lat = data[item]['address']['geo']['lat']\n",
    "        geo_long = data[item]['address']['geo']['lng']\n",
    "        writer.writerow({\"name\":name,'username': username,'email': email,'street': street,'suite': suite,'city': city,'zip code': zip_code,'geo_lat': geo_lat,'geo_long': geo_long })    \n",
    "        \n",
    "        df = pd.DataFrame([[name, username, email, street, suite, city, zip_code, geo_lat, geo_long]]\n",
    "                 , columns=['name', 'username', 'email', 'street', 'suite', 'city','zip code','geo_lat','geo_long'])\n",
    "        \n",
    "df.to_excel('pandas_to_excel.xlsx', sheet_name='new_sheet_name')        \n",
    "        "
   ]
  },
  {
   "cell_type": "code",
   "execution_count": null,
   "id": "9ec7789a",
   "metadata": {},
   "outputs": [],
   "source": [
    "import pandas as pd\n",
    "import openpyxl\n",
    "\n",
    "df = pd.DataFrame([[11, 21, 31], [12, 22, 32], [31, 32, 33]],\n",
    "                  index=['one', 'two', 'three'], columns=['a', 'b', 'c'])\n"
   ]
  }
 ],
 "metadata": {
  "kernelspec": {
   "display_name": "Python 3 (ipykernel)",
   "language": "python",
   "name": "python3"
  },
  "language_info": {
   "codemirror_mode": {
    "name": "ipython",
    "version": 3
   },
   "file_extension": ".py",
   "mimetype": "text/x-python",
   "name": "python",
   "nbconvert_exporter": "python",
   "pygments_lexer": "ipython3",
   "version": "3.9.12"
  }
 },
 "nbformat": 4,
 "nbformat_minor": 5
}
