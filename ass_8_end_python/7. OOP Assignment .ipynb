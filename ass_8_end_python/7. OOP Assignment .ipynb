{
 "cells": [
  {
   "cell_type": "markdown",
   "metadata": {},
   "source": [
    "> # Dear Epsilon Students, \n",
    "> # The More you practice The better You'll Be."
   ]
  },
  {
   "cell_type": "markdown",
   "metadata": {},
   "source": [
    "### Instructions: \n",
    "- Make sure that you understand this topics before you start.\n",
    "- If you found something hard to do, try and try then google it and finally ask someone. \n",
    "- You can divide this work into daily tasks so that you do not feel pressure.\n",
    "- After you finish, go to model answer and rate yourself. \n",
    "- If you find something ambiguous, Try to make a hypothesis to solve a problem. "
   ]
  },
  {
   "cell_type": "markdown",
   "metadata": {},
   "source": [
    "### Question classification: \n",
    "- Green is level 1 \n",
    "- Orange is level 2 \n",
    "- Red is level 3 "
   ]
  },
  {
   "cell_type": "markdown",
   "metadata": {},
   "source": [
    "# <center> Let's start 💪 </center> "
   ]
  },
  {
   "cell_type": "markdown",
   "metadata": {},
   "source": [
    "## <p style=\"color:green;\">Q.01 Fill in the Line class methods to accept coordinates as a pair of tuples and return the slope and distance of the line.</p>\n"
   ]
  },
  {
   "cell_type": "code",
   "execution_count": 12,
   "metadata": {},
   "outputs": [
    {
     "name": "stdout",
     "output_type": "stream",
     "text": [
      "the destance is :  4.47213595499958\n",
      "slope is : -2.0\n"
     ]
    }
   ],
   "source": [
    "# Answer here \n",
    "from math import sqrt\n",
    "class Line:\n",
    "    \n",
    "    def __init__(self,coor1,coor2):\n",
    "        self.coor1 = coor1\n",
    "        self.coor2 = coor2\n",
    "        \n",
    "    def distance(self):\n",
    "        print(\"the destance is : \", sqrt((self.coor2[0]-self.coor1[0])**2 + (self.coor2[1]-self.coor1[1])**2))\n",
    "    \n",
    "    def slope(self):\n",
    "        print(f\"slope is : {(self.coor2[1]-self.coor1[1]) / (self.coor2[0]-self.coor1[0])}\")\n",
    "line1= Line((-2,4),(0,0))\n",
    "line1.distance()\n",
    "line1.slope()"
   ]
  },
  {
   "cell_type": "markdown",
   "metadata": {},
   "source": [
    "## <p style=\"color:green;\">Q.02 Fill in the class to get the volume and surface area of Cylinder</p>"
   ]
  },
  {
   "cell_type": "code",
   "execution_count": 21,
   "metadata": {},
   "outputs": [
    {
     "name": "stdout",
     "output_type": "stream",
     "text": [
      "the surface area is : 78.5\n",
      "the volume is : 392.5\n"
     ]
    }
   ],
   "source": [
    "# Answer here \n",
    "class Cylinder:\n",
    "    \n",
    "    def __init__(self,height=1,radius=1):\n",
    "        self.__height = height\n",
    "        self.__radius = radius\n",
    "        \n",
    "    def volume(self):\n",
    "        print(f\"the volume is : {3.14 * (self.__radius**2)*self.__height}\")\n",
    "    \n",
    "    def surface_area(self):\n",
    "        print(\"the surface area is :\", 3.14 * (self.__radius**2))\n",
    "cy1 = Cylinder(5,5)\n",
    "cy1.surface_area()\n",
    "cy1.volume()\n"
   ]
  },
  {
   "cell_type": "markdown",
   "metadata": {},
   "source": [
    "## <p style=\"color:green;\">Q.03 Create a child class Bus that will inherit all of the variables and methods of the Vehicle class</p>\n",
    "> Given:\n"
   ]
  },
  {
   "cell_type": "code",
   "execution_count": 29,
   "metadata": {},
   "outputs": [
    {
     "name": "stdout",
     "output_type": "stream",
     "text": [
      "bus is big vehicle\n"
     ]
    },
    {
     "data": {
      "text/plain": [
       "'BMW'"
      ]
     },
     "execution_count": 29,
     "metadata": {},
     "output_type": "execute_result"
    }
   ],
   "source": [
    "# Answer here \n",
    "class Vehicle:\n",
    "\n",
    "    def __init__(self, name, max_speed, mileage):\n",
    "        self.name = name\n",
    "        self.max_speed = max_speed\n",
    "        self.mileage = mileage\n",
    "class Bus(Vehicle):\n",
    "    def big(self):\n",
    "        print(\"bus is big vehicle\")\n",
    "bus1 = Bus('BMW',360,100)\n",
    "bus1.big()\n",
    "bus1.max_speed\n",
    "bus1.mileage\n",
    "bus1.name"
   ]
  },
  {
   "cell_type": "markdown",
   "metadata": {},
   "source": [
    "# <center> Thank's for your effort ❤️ </center> "
   ]
  }
 ],
 "metadata": {
  "kernelspec": {
   "display_name": "Python 3 (ipykernel)",
   "language": "python",
   "name": "python3"
  },
  "language_info": {
   "codemirror_mode": {
    "name": "ipython",
    "version": 3
   },
   "file_extension": ".py",
   "mimetype": "text/x-python",
   "name": "python",
   "nbconvert_exporter": "python",
   "pygments_lexer": "ipython3",
   "version": "3.9.12"
  }
 },
 "nbformat": 4,
 "nbformat_minor": 4
}
