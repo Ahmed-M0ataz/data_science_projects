{
 "cells": [
  {
   "cell_type": "markdown",
   "metadata": {
    "id": "F-dW3ix8Jehg"
   },
   "source": [
    "# you are working in a marketing company Christmas market and your manager asked you to get the location of the customer from their address and put them on a world map"
   ]
  },
  {
   "cell_type": "code",
   "execution_count": 5,
   "metadata": {
    "id": "EONN-atOYRdV"
   },
   "outputs": [],
   "source": [
    "#importings\n",
    "import pandas as pd\n",
    "from geopy.distance import great_circle\n",
    "from geopy.geocoders import Nominatim"
   ]
  },
  {
   "cell_type": "markdown",
   "metadata": {
    "id": "xMaQYuUrYZZk"
   },
   "source": [
    "**work on ChristmasMarketData.csv**"
   ]
  },
  {
   "cell_type": "code",
   "execution_count": 18,
   "metadata": {
    "id": "CeNjWK7FJYbY"
   },
   "outputs": [
    {
     "data": {
      "text/html": [
       "<div>\n",
       "<style scoped>\n",
       "    .dataframe tbody tr th:only-of-type {\n",
       "        vertical-align: middle;\n",
       "    }\n",
       "\n",
       "    .dataframe tbody tr th {\n",
       "        vertical-align: top;\n",
       "    }\n",
       "\n",
       "    .dataframe thead th {\n",
       "        text-align: right;\n",
       "    }\n",
       "</style>\n",
       "<table border=\"1\" class=\"dataframe\">\n",
       "  <thead>\n",
       "    <tr style=\"text-align: right;\">\n",
       "      <th></th>\n",
       "      <th>name</th>\n",
       "      <th>address</th>\n",
       "      <th>descriptio</th>\n",
       "      <th>Ort</th>\n",
       "      <th>Datum</th>\n",
       "      <th>Öffnungsz</th>\n",
       "      <th>Corona-Reg</th>\n",
       "      <th>Beschreibu</th>\n",
       "      <th>Website</th>\n",
       "      <th>Country</th>\n",
       "    </tr>\n",
       "  </thead>\n",
       "  <tbody>\n",
       "    <tr>\n",
       "      <th>0</th>\n",
       "      <td>Stuttgarter Weihnachtsmarkt</td>\n",
       "      <td>Marktplatz 1, 70173 Stuttgart</td>\n",
       "      <td>Ort: Marktplatz 1, 70173 Stuttgart&lt;br&gt;Datum: 2...</td>\n",
       "      <td>Marktplatz 1, 70173 Stuttgart</td>\n",
       "      <td>24. November bis 30. Dezember</td>\n",
       "      <td>• Montag bis Donnerstag: 10 bis 21 Uhr\\n• Frei...</td>\n",
       "      <td>• 2G-Regel und Maskenpflicht auf dem gesamten ...</td>\n",
       "      <td>Der Weihnachtsmarkt findet in diesem Jahr stat...</td>\n",
       "      <td>https://www.stuttgarter-weihnachtsmarkt.de/de/...</td>\n",
       "      <td>Germany</td>\n",
       "    </tr>\n",
       "    <tr>\n",
       "      <th>1</th>\n",
       "      <td>Esslinger Mittelalter- und Weihnachtsmarkt</td>\n",
       "      <td>Rathausplatz, 73728 Esslingen am Neckar</td>\n",
       "      <td>Ort: Rathausplatz, 73728 Esslingen am Neckar&lt;b...</td>\n",
       "      <td>Rathausplatz, 73728 Esslingen am Neckar</td>\n",
       "      <td>23. November bis 22. Dezember</td>\n",
       "      <td>•Eröffnungstag: 16 bis 20 Uhr \\n•Sonntag bis D...</td>\n",
       "      <td>• Wenn Ihr direkt vor Ort Essen und Trinken wo...</td>\n",
       "      <td>Als einer der bekanntesten Weihnachtsmärkte in...</td>\n",
       "      <td>https://www.esslingen-marketing.de/weihnachtsm...</td>\n",
       "      <td>Germany</td>\n",
       "    </tr>\n",
       "    <tr>\n",
       "      <th>2</th>\n",
       "      <td>Kätchen Weihnachtsmarkt Heilbronn</td>\n",
       "      <td>74072 Heilbronn-Innenstadt</td>\n",
       "      <td>Ort: 74072 Heilbronn-Innenstadt&lt;br&gt;Datum: 25. ...</td>\n",
       "      <td>74072 Heilbronn-Innenstadt</td>\n",
       "      <td>25. November bis 22. Dezember</td>\n",
       "      <td>• Montag bis Freitag: 13 bis 20 Uhr\\n• Samstag...</td>\n",
       "      <td>• Der Zugang zu rund 70 Ständen in der Fußgäng...</td>\n",
       "      <td>Besonderes Highlight für Familien in diesem Ja...</td>\n",
       "      <td>https://www.heilbronn.de/tourismus/veranstaltu...</td>\n",
       "      <td>Germany</td>\n",
       "    </tr>\n",
       "    <tr>\n",
       "      <th>3</th>\n",
       "      <td>Goldener Pforzheimer Weihnachtsmarkt</td>\n",
       "      <td>75172 Pforzheim, Innenstadt</td>\n",
       "      <td>Ort: 75172 Pforzheim, Innenstadt&lt;br&gt;Datum: 22....</td>\n",
       "      <td>75172 Pforzheim, Innenstadt</td>\n",
       "      <td>22. November bis 22. Dezember</td>\n",
       "      <td>Täglich 12 bis 20Uhr</td>\n",
       "      <td>• Der Markt ist grundsätzlich frei zugänglich....</td>\n",
       "      <td>Hingucker ist die 20 Meter hohe Engels-Pyramid...</td>\n",
       "      <td>https://www.ws-pforzheim.de/standortmarketing/...</td>\n",
       "      <td>Germany</td>\n",
       "    </tr>\n",
       "    <tr>\n",
       "      <th>4</th>\n",
       "      <td>chokoMARKT Tübingen</td>\n",
       "      <td>Am Markt 1, 72070 Tübingen</td>\n",
       "      <td>Ort: Am Markt 1, 72070 Tübingen&lt;br&gt;Datum: 30. ...</td>\n",
       "      <td>Am Markt 1, 72070 Tübingen</td>\n",
       "      <td>30. November bis 5. Dezember</td>\n",
       "      <td>• Täglich 10 bis 20 Uhr • 30. November: 13 bis...</td>\n",
       "      <td>Details sollen bis zum 25. November bekannt ge...</td>\n",
       "      <td>Schokodurft in Tübingens Altstadt - hier bekom...</td>\n",
       "      <td>https://www.chocolart.de/</td>\n",
       "      <td>Germany</td>\n",
       "    </tr>\n",
       "    <tr>\n",
       "      <th>5</th>\n",
       "      <td>Tübinger Weihnachtsmarkt</td>\n",
       "      <td>Am Markt 1, 72070 Tübingen</td>\n",
       "      <td>Ort: Am Markt 1, 72070 Tübingen&lt;br&gt;Datum: 10. ...</td>\n",
       "      <td>Am Markt 1, 72070 Tübingen</td>\n",
       "      <td>10. bis 12. Dezember</td>\n",
       "      <td>• Freitag und Samstag von 10 bis 21 Uhr\\n• Son...</td>\n",
       "      <td>• Maskenpflicht auf dem gesamten Marktgelände\\...</td>\n",
       "      <td>An 60 Ständen findet Ihr selbst hergestellte, ...</td>\n",
       "      <td>https://www.tuebingen.de/108.html#/30374</td>\n",
       "      <td>Germany</td>\n",
       "    </tr>\n",
       "    <tr>\n",
       "      <th>6</th>\n",
       "      <td>Ludwigsburger Barock-Weihnachtsmarkt</td>\n",
       "      <td>Marktplatz, 71634 Ludwigsburg</td>\n",
       "      <td>Ort: Marktplatz, 71634 Ludwigsburg&lt;br&gt;Datum: 2...</td>\n",
       "      <td>Marktplatz, 71634 Ludwigsburg</td>\n",
       "      <td>23. November bis 22. Dezember</td>\n",
       "      <td>• Täglich von 11 bis 21 Uhr</td>\n",
       "      <td>• Maskenpflicht auf dem gesamten Marktgelände\\...</td>\n",
       "      <td>Das barocke Ludwigsburg ist immer eine Reise w...</td>\n",
       "      <td>https://visit.ludwigsburg.de/,(anker18995154)/...</td>\n",
       "      <td>Germany</td>\n",
       "    </tr>\n",
       "    <tr>\n",
       "      <th>7</th>\n",
       "      <td>Weihnachtsmarkt Freiburg</td>\n",
       "      <td>Rathausplatz, 79098 Freiburg im Breisgau</td>\n",
       "      <td>Ort: Rathausplatz, 79098 Freiburg im Breisgau&lt;...</td>\n",
       "      <td>Rathausplatz, 79098 Freiburg im Breisgau</td>\n",
       "      <td>18. November bis 23. Dezember</td>\n",
       "      <td>• Montag bis Samstag: 10 bis 20:30 Uhr\\n• Sonn...</td>\n",
       "      <td>• Maskenpflicht auf dem gesamten Marktgelände\\...</td>\n",
       "      <td>Über 120 Marktstände und ein Lichtermeer, das ...</td>\n",
       "      <td>https://weihnachtsmarkt.freiburg.de/</td>\n",
       "      <td>Germany</td>\n",
       "    </tr>\n",
       "    <tr>\n",
       "      <th>8</th>\n",
       "      <td>Karlsruher Christkindlesmarkt</td>\n",
       "      <td>Marktplatz, 76133 Karlsruhe</td>\n",
       "      <td>Ort: Marktplatz, 76133 Karlsruhe&lt;br&gt;Datum: 22....</td>\n",
       "      <td>Marktplatz, 76133 Karlsruhe</td>\n",
       "      <td>22. November bis 23. Dezember</td>\n",
       "      <td>• Täglich von 11 bis 21 Uhr\\n• Donnerstag bis ...</td>\n",
       "      <td>• Maskenpflicht auf dem gesamten Marktgelände\\...</td>\n",
       "      <td>Highlight besonders für Familien ist ein neues...</td>\n",
       "      <td>https://www.karlsruhe.de/b3/maerkte/christkind...</td>\n",
       "      <td>Germany</td>\n",
       "    </tr>\n",
       "    <tr>\n",
       "      <th>9</th>\n",
       "      <td>Ulmer Weihnachtsmarkt</td>\n",
       "      <td>Münsterplatz, 89073 Ulm</td>\n",
       "      <td>Ort: Münsterplatz, 89073 Ulm&lt;br&gt;Datum: 22. Nov...</td>\n",
       "      <td>Münsterplatz, 89073 Ulm</td>\n",
       "      <td>22. November bis 22. Dezember</td>\n",
       "      <td>• Täglich von 10 bis 20:30 Uhr</td>\n",
       "      <td>• Wenn Ihr direkt vor Ort Essen und Trinken wo...</td>\n",
       "      <td>NaN</td>\n",
       "      <td>https://www.ulmer-weihnachtsmarkt.de/</td>\n",
       "      <td>Germany</td>\n",
       "    </tr>\n",
       "    <tr>\n",
       "      <th>10</th>\n",
       "      <td>Reutlinger Weihnachtsmarkt</td>\n",
       "      <td>Weibermarkt, 72764 Reutlingen</td>\n",
       "      <td>Ort: Weibermarkt, 72764 Reutlingen&lt;br&gt;Datum: 2...</td>\n",
       "      <td>Weibermarkt, 72764 Reutlingen</td>\n",
       "      <td>24. November bis 21. Dezember</td>\n",
       "      <td>• Täglich von 10:30 bis 20:30 Uhr\\n• Sonntags ...</td>\n",
       "      <td>• Wenn Ihr direkt vor Ort Essen und Trinken wo...</td>\n",
       "      <td>Highlights sind die Schlittschuhbahn an der St...</td>\n",
       "      <td>http://www.weihnachtsmarkt-reutlingen.de/index...</td>\n",
       "      <td>Germany</td>\n",
       "    </tr>\n",
       "    <tr>\n",
       "      <th>11</th>\n",
       "      <td>Göppinger Advent</td>\n",
       "      <td>Marktplatz, 73033 Göppingen</td>\n",
       "      <td>Ort: Marktplatz, 73033 Göppingen&lt;br&gt;Datum: 25....</td>\n",
       "      <td>Marktplatz, 73033 Göppingen</td>\n",
       "      <td>25. November bis 22. Dezember</td>\n",
       "      <td>NaN</td>\n",
       "      <td>NaN</td>\n",
       "      <td>ABGESAGT - Auch wenn ursprünglich angekündigt,...</td>\n",
       "      <td>https://www.goeppinger-city.de/2021/10/25/goep...</td>\n",
       "      <td>Germany</td>\n",
       "    </tr>\n",
       "    <tr>\n",
       "      <th>12</th>\n",
       "      <td>Weihnachtsmarkt Rottweil</td>\n",
       "      <td>Friedrichsplatz, 78628 Rottweil</td>\n",
       "      <td>Ort: Friedrichsplatz, 78628 Rottweil&lt;br&gt;Datum:...</td>\n",
       "      <td>Friedrichsplatz, 78628 Rottweil</td>\n",
       "      <td>2. bis 12. Dezember</td>\n",
       "      <td>• Montag bis Donnerstag: 12 bis 20 Uhr\\n• Frei...</td>\n",
       "      <td>• Wenn Ihr direkt vor Ort Essen und Trinken wo...</td>\n",
       "      <td>NaN</td>\n",
       "      <td>https://www.rottweil.de/de/Kultur-Tourismus/Ve...</td>\n",
       "      <td>Germany</td>\n",
       "    </tr>\n",
       "    <tr>\n",
       "      <th>13</th>\n",
       "      <td>Gmünder Weihnachtsmarkt</td>\n",
       "      <td>Marktplatz, 73525 Schwäbisch Gmünd</td>\n",
       "      <td>Ort: Marktplatz, 73525 Schwäbisch Gmünd&lt;br&gt;Dat...</td>\n",
       "      <td>Marktplatz, 73525 Schwäbisch Gmünd</td>\n",
       "      <td>25. November bis 21. Dezember</td>\n",
       "      <td>• Montag bis Freitag: 9 bis 18 Uhr • Samstag: ...</td>\n",
       "      <td>• Maskenpflicht auf dem gesamten Marktgelände\\...</td>\n",
       "      <td>Besonderes Highlight ist der Gmünder Adventska...</td>\n",
       "      <td>https://www.schwaebisch-gmuend.de/veranstaltun...</td>\n",
       "      <td>Germany</td>\n",
       "    </tr>\n",
       "  </tbody>\n",
       "</table>\n",
       "</div>"
      ],
      "text/plain": [
       "                                          name  \\\n",
       "0                  Stuttgarter Weihnachtsmarkt   \n",
       "1   Esslinger Mittelalter- und Weihnachtsmarkt   \n",
       "2            Kätchen Weihnachtsmarkt Heilbronn   \n",
       "3         Goldener Pforzheimer Weihnachtsmarkt   \n",
       "4                          chokoMARKT Tübingen   \n",
       "5                     Tübinger Weihnachtsmarkt   \n",
       "6         Ludwigsburger Barock-Weihnachtsmarkt   \n",
       "7                     Weihnachtsmarkt Freiburg   \n",
       "8                Karlsruher Christkindlesmarkt   \n",
       "9                        Ulmer Weihnachtsmarkt   \n",
       "10                  Reutlinger Weihnachtsmarkt   \n",
       "11                            Göppinger Advent   \n",
       "12                    Weihnachtsmarkt Rottweil   \n",
       "13                     Gmünder Weihnachtsmarkt   \n",
       "\n",
       "                                     address  \\\n",
       "0              Marktplatz 1, 70173 Stuttgart   \n",
       "1    Rathausplatz, 73728 Esslingen am Neckar   \n",
       "2                 74072 Heilbronn-Innenstadt   \n",
       "3                75172 Pforzheim, Innenstadt   \n",
       "4                 Am Markt 1, 72070 Tübingen   \n",
       "5                 Am Markt 1, 72070 Tübingen   \n",
       "6              Marktplatz, 71634 Ludwigsburg   \n",
       "7   Rathausplatz, 79098 Freiburg im Breisgau   \n",
       "8                Marktplatz, 76133 Karlsruhe   \n",
       "9                    Münsterplatz, 89073 Ulm   \n",
       "10             Weibermarkt, 72764 Reutlingen   \n",
       "11               Marktplatz, 73033 Göppingen   \n",
       "12           Friedrichsplatz, 78628 Rottweil   \n",
       "13        Marktplatz, 73525 Schwäbisch Gmünd   \n",
       "\n",
       "                                           descriptio  \\\n",
       "0   Ort: Marktplatz 1, 70173 Stuttgart<br>Datum: 2...   \n",
       "1   Ort: Rathausplatz, 73728 Esslingen am Neckar<b...   \n",
       "2   Ort: 74072 Heilbronn-Innenstadt<br>Datum: 25. ...   \n",
       "3   Ort: 75172 Pforzheim, Innenstadt<br>Datum: 22....   \n",
       "4   Ort: Am Markt 1, 72070 Tübingen<br>Datum: 30. ...   \n",
       "5   Ort: Am Markt 1, 72070 Tübingen<br>Datum: 10. ...   \n",
       "6   Ort: Marktplatz, 71634 Ludwigsburg<br>Datum: 2...   \n",
       "7   Ort: Rathausplatz, 79098 Freiburg im Breisgau<...   \n",
       "8   Ort: Marktplatz, 76133 Karlsruhe<br>Datum: 22....   \n",
       "9   Ort: Münsterplatz, 89073 Ulm<br>Datum: 22. Nov...   \n",
       "10  Ort: Weibermarkt, 72764 Reutlingen<br>Datum: 2...   \n",
       "11  Ort: Marktplatz, 73033 Göppingen<br>Datum: 25....   \n",
       "12  Ort: Friedrichsplatz, 78628 Rottweil<br>Datum:...   \n",
       "13  Ort: Marktplatz, 73525 Schwäbisch Gmünd<br>Dat...   \n",
       "\n",
       "                                         Ort                          Datum  \\\n",
       "0              Marktplatz 1, 70173 Stuttgart  24. November bis 30. Dezember   \n",
       "1    Rathausplatz, 73728 Esslingen am Neckar  23. November bis 22. Dezember   \n",
       "2                 74072 Heilbronn-Innenstadt  25. November bis 22. Dezember   \n",
       "3                75172 Pforzheim, Innenstadt  22. November bis 22. Dezember   \n",
       "4                 Am Markt 1, 72070 Tübingen   30. November bis 5. Dezember   \n",
       "5                 Am Markt 1, 72070 Tübingen           10. bis 12. Dezember   \n",
       "6              Marktplatz, 71634 Ludwigsburg  23. November bis 22. Dezember   \n",
       "7   Rathausplatz, 79098 Freiburg im Breisgau  18. November bis 23. Dezember   \n",
       "8                Marktplatz, 76133 Karlsruhe  22. November bis 23. Dezember   \n",
       "9                    Münsterplatz, 89073 Ulm  22. November bis 22. Dezember   \n",
       "10             Weibermarkt, 72764 Reutlingen  24. November bis 21. Dezember   \n",
       "11               Marktplatz, 73033 Göppingen  25. November bis 22. Dezember   \n",
       "12           Friedrichsplatz, 78628 Rottweil            2. bis 12. Dezember   \n",
       "13        Marktplatz, 73525 Schwäbisch Gmünd  25. November bis 21. Dezember   \n",
       "\n",
       "                                            Öffnungsz  \\\n",
       "0   • Montag bis Donnerstag: 10 bis 21 Uhr\\n• Frei...   \n",
       "1   •Eröffnungstag: 16 bis 20 Uhr \\n•Sonntag bis D...   \n",
       "2   • Montag bis Freitag: 13 bis 20 Uhr\\n• Samstag...   \n",
       "3                                Täglich 12 bis 20Uhr   \n",
       "4   • Täglich 10 bis 20 Uhr • 30. November: 13 bis...   \n",
       "5   • Freitag und Samstag von 10 bis 21 Uhr\\n• Son...   \n",
       "6                         • Täglich von 11 bis 21 Uhr   \n",
       "7   • Montag bis Samstag: 10 bis 20:30 Uhr\\n• Sonn...   \n",
       "8   • Täglich von 11 bis 21 Uhr\\n• Donnerstag bis ...   \n",
       "9                      • Täglich von 10 bis 20:30 Uhr   \n",
       "10  • Täglich von 10:30 bis 20:30 Uhr\\n• Sonntags ...   \n",
       "11                                                NaN   \n",
       "12  • Montag bis Donnerstag: 12 bis 20 Uhr\\n• Frei...   \n",
       "13  • Montag bis Freitag: 9 bis 18 Uhr • Samstag: ...   \n",
       "\n",
       "                                           Corona-Reg  \\\n",
       "0   • 2G-Regel und Maskenpflicht auf dem gesamten ...   \n",
       "1   • Wenn Ihr direkt vor Ort Essen und Trinken wo...   \n",
       "2   • Der Zugang zu rund 70 Ständen in der Fußgäng...   \n",
       "3   • Der Markt ist grundsätzlich frei zugänglich....   \n",
       "4   Details sollen bis zum 25. November bekannt ge...   \n",
       "5   • Maskenpflicht auf dem gesamten Marktgelände\\...   \n",
       "6   • Maskenpflicht auf dem gesamten Marktgelände\\...   \n",
       "7   • Maskenpflicht auf dem gesamten Marktgelände\\...   \n",
       "8   • Maskenpflicht auf dem gesamten Marktgelände\\...   \n",
       "9   • Wenn Ihr direkt vor Ort Essen und Trinken wo...   \n",
       "10  • Wenn Ihr direkt vor Ort Essen und Trinken wo...   \n",
       "11                                                NaN   \n",
       "12  • Wenn Ihr direkt vor Ort Essen und Trinken wo...   \n",
       "13  • Maskenpflicht auf dem gesamten Marktgelände\\...   \n",
       "\n",
       "                                           Beschreibu  \\\n",
       "0   Der Weihnachtsmarkt findet in diesem Jahr stat...   \n",
       "1   Als einer der bekanntesten Weihnachtsmärkte in...   \n",
       "2   Besonderes Highlight für Familien in diesem Ja...   \n",
       "3   Hingucker ist die 20 Meter hohe Engels-Pyramid...   \n",
       "4   Schokodurft in Tübingens Altstadt - hier bekom...   \n",
       "5   An 60 Ständen findet Ihr selbst hergestellte, ...   \n",
       "6   Das barocke Ludwigsburg ist immer eine Reise w...   \n",
       "7   Über 120 Marktstände und ein Lichtermeer, das ...   \n",
       "8   Highlight besonders für Familien ist ein neues...   \n",
       "9                                                 NaN   \n",
       "10  Highlights sind die Schlittschuhbahn an der St...   \n",
       "11  ABGESAGT - Auch wenn ursprünglich angekündigt,...   \n",
       "12                                                NaN   \n",
       "13  Besonderes Highlight ist der Gmünder Adventska...   \n",
       "\n",
       "                                              Website  Country  \n",
       "0   https://www.stuttgarter-weihnachtsmarkt.de/de/...  Germany  \n",
       "1   https://www.esslingen-marketing.de/weihnachtsm...  Germany  \n",
       "2   https://www.heilbronn.de/tourismus/veranstaltu...  Germany  \n",
       "3   https://www.ws-pforzheim.de/standortmarketing/...  Germany  \n",
       "4                           https://www.chocolart.de/  Germany  \n",
       "5            https://www.tuebingen.de/108.html#/30374  Germany  \n",
       "6   https://visit.ludwigsburg.de/,(anker18995154)/...  Germany  \n",
       "7                https://weihnachtsmarkt.freiburg.de/  Germany  \n",
       "8   https://www.karlsruhe.de/b3/maerkte/christkind...  Germany  \n",
       "9               https://www.ulmer-weihnachtsmarkt.de/  Germany  \n",
       "10  http://www.weihnachtsmarkt-reutlingen.de/index...  Germany  \n",
       "11  https://www.goeppinger-city.de/2021/10/25/goep...  Germany  \n",
       "12  https://www.rottweil.de/de/Kultur-Tourismus/Ve...  Germany  \n",
       "13  https://www.schwaebisch-gmuend.de/veranstaltun...  Germany  "
      ]
     },
     "execution_count": 18,
     "metadata": {},
     "output_type": "execute_result"
    }
   ],
   "source": [
    "#load data \n",
    "df = pd.read_csv('ChristmasMarketData.csv')\n",
    "df"
   ]
  },
  {
   "cell_type": "code",
   "execution_count": 19,
   "metadata": {
    "id": "4h6ZOqBHKeRj"
   },
   "outputs": [
    {
     "data": {
      "text/plain": [
       "{'place_id': 19107625,\n",
       " 'licence': 'Data © OpenStreetMap contributors, ODbL 1.0. https://osm.org/copyright',\n",
       " 'osm_type': 'node',\n",
       " 'osm_id': 2131355261,\n",
       " 'boundingbox': ['48.7747656', '48.7748656', '9.1774418', '9.1775418'],\n",
       " 'lat': '48.7748156',\n",
       " 'lon': '9.1774918',\n",
       " 'display_name': 'Rathausbücherei, 1, Marktplatz, Rathaus, Stuttgart-Mitte, Stuttgart, Baden-Württemberg, 70173, Deutschland',\n",
       " 'class': 'amenity',\n",
       " 'type': 'library',\n",
       " 'importance': 0.44010000000000005,\n",
       " 'icon': 'https://nominatim.openstreetmap.org/ui/mapicons/amenity_library.p.20.png'}"
      ]
     },
     "execution_count": 19,
     "metadata": {},
     "output_type": "execute_result"
    }
   ],
   "source": [
    "df.head()\n",
    "geolocator = Nominatim(user_agent='hamss')\n",
    "address = geolocator.geocode('Marktplatz 1, 70173 Stuttgart')\n",
    "address.raw"
   ]
  },
  {
   "cell_type": "code",
   "execution_count": 20,
   "metadata": {},
   "outputs": [],
   "source": [
    "def get_lat_long(row):\n",
    "    address = geolocator.geocode(row['address'])\n",
    "    return address.raw['lat'], address.raw['lon'], address.raw['boundingbox'][0:3:2]"
   ]
  },
  {
   "cell_type": "code",
   "execution_count": 22,
   "metadata": {},
   "outputs": [],
   "source": [
    "x =df.copy()"
   ]
  },
  {
   "cell_type": "code",
   "execution_count": 27,
   "metadata": {},
   "outputs": [],
   "source": [
    "df[['lat','lon','location']] = df.apply(get_lat_long,axis= 1,result_type='expand')"
   ]
  },
  {
   "cell_type": "code",
   "execution_count": 28,
   "metadata": {},
   "outputs": [
    {
     "data": {
      "text/html": [
       "<div>\n",
       "<style scoped>\n",
       "    .dataframe tbody tr th:only-of-type {\n",
       "        vertical-align: middle;\n",
       "    }\n",
       "\n",
       "    .dataframe tbody tr th {\n",
       "        vertical-align: top;\n",
       "    }\n",
       "\n",
       "    .dataframe thead th {\n",
       "        text-align: right;\n",
       "    }\n",
       "</style>\n",
       "<table border=\"1\" class=\"dataframe\">\n",
       "  <thead>\n",
       "    <tr style=\"text-align: right;\">\n",
       "      <th></th>\n",
       "      <th>name</th>\n",
       "      <th>address</th>\n",
       "      <th>descriptio</th>\n",
       "      <th>Ort</th>\n",
       "      <th>Datum</th>\n",
       "      <th>Öffnungsz</th>\n",
       "      <th>Corona-Reg</th>\n",
       "      <th>Beschreibu</th>\n",
       "      <th>Website</th>\n",
       "      <th>Country</th>\n",
       "      <th>lat</th>\n",
       "      <th>lon</th>\n",
       "      <th>location</th>\n",
       "    </tr>\n",
       "  </thead>\n",
       "  <tbody>\n",
       "    <tr>\n",
       "      <th>0</th>\n",
       "      <td>Stuttgarter Weihnachtsmarkt</td>\n",
       "      <td>Marktplatz 1, 70173 Stuttgart</td>\n",
       "      <td>Ort: Marktplatz 1, 70173 Stuttgart&lt;br&gt;Datum: 2...</td>\n",
       "      <td>Marktplatz 1, 70173 Stuttgart</td>\n",
       "      <td>24. November bis 30. Dezember</td>\n",
       "      <td>• Montag bis Donnerstag: 10 bis 21 Uhr\\n• Frei...</td>\n",
       "      <td>• 2G-Regel und Maskenpflicht auf dem gesamten ...</td>\n",
       "      <td>Der Weihnachtsmarkt findet in diesem Jahr stat...</td>\n",
       "      <td>https://www.stuttgarter-weihnachtsmarkt.de/de/...</td>\n",
       "      <td>Germany</td>\n",
       "      <td>48.7748156</td>\n",
       "      <td>9.1774918</td>\n",
       "      <td>[48.7747656, 9.1774418]</td>\n",
       "    </tr>\n",
       "    <tr>\n",
       "      <th>1</th>\n",
       "      <td>Esslinger Mittelalter- und Weihnachtsmarkt</td>\n",
       "      <td>Rathausplatz, 73728 Esslingen am Neckar</td>\n",
       "      <td>Ort: Rathausplatz, 73728 Esslingen am Neckar&lt;b...</td>\n",
       "      <td>Rathausplatz, 73728 Esslingen am Neckar</td>\n",
       "      <td>23. November bis 22. Dezember</td>\n",
       "      <td>•Eröffnungstag: 16 bis 20 Uhr \\n•Sonntag bis D...</td>\n",
       "      <td>• Wenn Ihr direkt vor Ort Essen und Trinken wo...</td>\n",
       "      <td>Als einer der bekanntesten Weihnachtsmärkte in...</td>\n",
       "      <td>https://www.esslingen-marketing.de/weihnachtsm...</td>\n",
       "      <td>Germany</td>\n",
       "      <td>48.7423285</td>\n",
       "      <td>9.3079301</td>\n",
       "      <td>[48.7420975, 9.3076825]</td>\n",
       "    </tr>\n",
       "  </tbody>\n",
       "</table>\n",
       "</div>"
      ],
      "text/plain": [
       "                                         name  \\\n",
       "0                 Stuttgarter Weihnachtsmarkt   \n",
       "1  Esslinger Mittelalter- und Weihnachtsmarkt   \n",
       "\n",
       "                                   address  \\\n",
       "0            Marktplatz 1, 70173 Stuttgart   \n",
       "1  Rathausplatz, 73728 Esslingen am Neckar   \n",
       "\n",
       "                                          descriptio  \\\n",
       "0  Ort: Marktplatz 1, 70173 Stuttgart<br>Datum: 2...   \n",
       "1  Ort: Rathausplatz, 73728 Esslingen am Neckar<b...   \n",
       "\n",
       "                                       Ort                          Datum  \\\n",
       "0            Marktplatz 1, 70173 Stuttgart  24. November bis 30. Dezember   \n",
       "1  Rathausplatz, 73728 Esslingen am Neckar  23. November bis 22. Dezember   \n",
       "\n",
       "                                           Öffnungsz  \\\n",
       "0  • Montag bis Donnerstag: 10 bis 21 Uhr\\n• Frei...   \n",
       "1  •Eröffnungstag: 16 bis 20 Uhr \\n•Sonntag bis D...   \n",
       "\n",
       "                                          Corona-Reg  \\\n",
       "0  • 2G-Regel und Maskenpflicht auf dem gesamten ...   \n",
       "1  • Wenn Ihr direkt vor Ort Essen und Trinken wo...   \n",
       "\n",
       "                                          Beschreibu  \\\n",
       "0  Der Weihnachtsmarkt findet in diesem Jahr stat...   \n",
       "1  Als einer der bekanntesten Weihnachtsmärkte in...   \n",
       "\n",
       "                                             Website  Country         lat  \\\n",
       "0  https://www.stuttgarter-weihnachtsmarkt.de/de/...  Germany  48.7748156   \n",
       "1  https://www.esslingen-marketing.de/weihnachtsm...  Germany  48.7423285   \n",
       "\n",
       "         lon                 location  \n",
       "0  9.1774918  [48.7747656, 9.1774418]  \n",
       "1  9.3079301  [48.7420975, 9.3076825]  "
      ]
     },
     "execution_count": 28,
     "metadata": {},
     "output_type": "execute_result"
    }
   ],
   "source": [
    "df.head(2)"
   ]
  },
  {
   "cell_type": "code",
   "execution_count": null,
   "metadata": {
    "colab": {
     "base_uri": "https://localhost:8080/",
     "height": 583
    },
    "id": "AkXvwpwqKhrR",
    "outputId": "c8768f3f-98eb-4232-9801-4dd960a65dbc"
   },
   "outputs": [
    {
     "data": {
      "text/html": [
       "\n",
       "  <div id=\"df-acb68737-db85-4c8d-a89d-7830351ce2ba\">\n",
       "    <div class=\"colab-df-container\">\n",
       "      <div>\n",
       "<style scoped>\n",
       "    .dataframe tbody tr th:only-of-type {\n",
       "        vertical-align: middle;\n",
       "    }\n",
       "\n",
       "    .dataframe tbody tr th {\n",
       "        vertical-align: top;\n",
       "    }\n",
       "\n",
       "    .dataframe thead th {\n",
       "        text-align: right;\n",
       "    }\n",
       "</style>\n",
       "<table border=\"1\" class=\"dataframe\">\n",
       "  <thead>\n",
       "    <tr style=\"text-align: right;\">\n",
       "      <th></th>\n",
       "      <th>name</th>\n",
       "      <th>address</th>\n",
       "      <th>descriptio</th>\n",
       "      <th>Ort</th>\n",
       "      <th>Datum</th>\n",
       "      <th>Öffnungsz</th>\n",
       "      <th>Corona-Reg</th>\n",
       "      <th>Beschreibu</th>\n",
       "      <th>Website</th>\n",
       "      <th>Country</th>\n",
       "      <th>locations</th>\n",
       "      <th>lon</th>\n",
       "      <th>lat</th>\n",
       "    </tr>\n",
       "  </thead>\n",
       "  <tbody>\n",
       "    <tr>\n",
       "      <th>0</th>\n",
       "      <td>Stuttgarter Weihnachtsmarkt</td>\n",
       "      <td>Marktplatz 1, 70173 Stuttgart</td>\n",
       "      <td>Ort: Marktplatz 1, 70173 Stuttgart&lt;br&gt;Datum: 2...</td>\n",
       "      <td>Marktplatz 1, 70173 Stuttgart</td>\n",
       "      <td>24. November bis 30. Dezember</td>\n",
       "      <td>• Montag bis Donnerstag: 10 bis 21 Uhr\\n• Frei...</td>\n",
       "      <td>• 2G-Regel und Maskenpflicht auf dem gesamten ...</td>\n",
       "      <td>Der Weihnachtsmarkt findet in diesem Jahr stat...</td>\n",
       "      <td>https://www.stuttgarter-weihnachtsmarkt.de/de/...</td>\n",
       "      <td>Germany</td>\n",
       "      <td>(9.1774918, 48.7748156)</td>\n",
       "      <td>9.177492</td>\n",
       "      <td>48.774816</td>\n",
       "    </tr>\n",
       "    <tr>\n",
       "      <th>1</th>\n",
       "      <td>Esslinger Mittelalter- und Weihnachtsmarkt</td>\n",
       "      <td>Rathausplatz, 73728 Esslingen am Neckar</td>\n",
       "      <td>Ort: Rathausplatz, 73728 Esslingen am Neckar&lt;b...</td>\n",
       "      <td>Rathausplatz, 73728 Esslingen am Neckar</td>\n",
       "      <td>23. November bis 22. Dezember</td>\n",
       "      <td>•Eröffnungstag: 16 bis 20 Uhr \\n•Sonntag bis D...</td>\n",
       "      <td>• Wenn Ihr direkt vor Ort Essen und Trinken wo...</td>\n",
       "      <td>Als einer der bekanntesten Weihnachtsmärkte in...</td>\n",
       "      <td>https://www.esslingen-marketing.de/weihnachtsm...</td>\n",
       "      <td>Germany</td>\n",
       "      <td>(9.3079301, 48.7423285)</td>\n",
       "      <td>9.307930</td>\n",
       "      <td>48.742328</td>\n",
       "    </tr>\n",
       "    <tr>\n",
       "      <th>2</th>\n",
       "      <td>Kätchen Weihnachtsmarkt Heilbronn</td>\n",
       "      <td>74072 Heilbronn-Innenstadt</td>\n",
       "      <td>Ort: 74072 Heilbronn-Innenstadt&lt;br&gt;Datum: 25. ...</td>\n",
       "      <td>74072 Heilbronn-Innenstadt</td>\n",
       "      <td>25. November bis 22. Dezember</td>\n",
       "      <td>• Montag bis Freitag: 13 bis 20 Uhr\\n• Samstag...</td>\n",
       "      <td>• Der Zugang zu rund 70 Ständen in der Fußgäng...</td>\n",
       "      <td>Besonderes Highlight für Familien in diesem Ja...</td>\n",
       "      <td>https://www.heilbronn.de/tourismus/veranstaltu...</td>\n",
       "      <td>Germany</td>\n",
       "      <td>(9.2186679, 49.1388695)</td>\n",
       "      <td>9.218668</td>\n",
       "      <td>49.138869</td>\n",
       "    </tr>\n",
       "    <tr>\n",
       "      <th>3</th>\n",
       "      <td>Goldener Pforzheimer Weihnachtsmarkt</td>\n",
       "      <td>75172 Pforzheim, Innenstadt</td>\n",
       "      <td>Ort: 75172 Pforzheim, Innenstadt&lt;br&gt;Datum: 22....</td>\n",
       "      <td>75172 Pforzheim, Innenstadt</td>\n",
       "      <td>22. November bis 22. Dezember</td>\n",
       "      <td>Täglich 12 bis 20Uhr</td>\n",
       "      <td>• Der Markt ist grundsätzlich frei zugänglich....</td>\n",
       "      <td>Hingucker ist die 20 Meter hohe Engels-Pyramid...</td>\n",
       "      <td>https://www.ws-pforzheim.de/standortmarketing/...</td>\n",
       "      <td>Germany</td>\n",
       "      <td>(8.69733, 48.8918624)</td>\n",
       "      <td>8.697330</td>\n",
       "      <td>48.891862</td>\n",
       "    </tr>\n",
       "    <tr>\n",
       "      <th>4</th>\n",
       "      <td>chokoMARKT Tübingen</td>\n",
       "      <td>Am Markt 1, 72070 Tübingen</td>\n",
       "      <td>Ort: Am Markt 1, 72070 Tübingen&lt;br&gt;Datum: 30. ...</td>\n",
       "      <td>Am Markt 1, 72070 Tübingen</td>\n",
       "      <td>30. November bis 5. Dezember</td>\n",
       "      <td>• Täglich 10 bis 20 Uhr • 30. November: 13 bis...</td>\n",
       "      <td>Details sollen bis zum 25. November bekannt ge...</td>\n",
       "      <td>Schokodurft in Tübingens Altstadt - hier bekom...</td>\n",
       "      <td>https://www.chocolart.de/</td>\n",
       "      <td>Germany</td>\n",
       "      <td>(9.053101781543864, 48.52035445)</td>\n",
       "      <td>9.053102</td>\n",
       "      <td>48.520354</td>\n",
       "    </tr>\n",
       "  </tbody>\n",
       "</table>\n",
       "</div>\n",
       "      <button class=\"colab-df-convert\" onclick=\"convertToInteractive('df-acb68737-db85-4c8d-a89d-7830351ce2ba')\"\n",
       "              title=\"Convert this dataframe to an interactive table.\"\n",
       "              style=\"display:none;\">\n",
       "        \n",
       "  <svg xmlns=\"http://www.w3.org/2000/svg\" height=\"24px\"viewBox=\"0 0 24 24\"\n",
       "       width=\"24px\">\n",
       "    <path d=\"M0 0h24v24H0V0z\" fill=\"none\"/>\n",
       "    <path d=\"M18.56 5.44l.94 2.06.94-2.06 2.06-.94-2.06-.94-.94-2.06-.94 2.06-2.06.94zm-11 1L8.5 8.5l.94-2.06 2.06-.94-2.06-.94L8.5 2.5l-.94 2.06-2.06.94zm10 10l.94 2.06.94-2.06 2.06-.94-2.06-.94-.94-2.06-.94 2.06-2.06.94z\"/><path d=\"M17.41 7.96l-1.37-1.37c-.4-.4-.92-.59-1.43-.59-.52 0-1.04.2-1.43.59L10.3 9.45l-7.72 7.72c-.78.78-.78 2.05 0 2.83L4 21.41c.39.39.9.59 1.41.59.51 0 1.02-.2 1.41-.59l7.78-7.78 2.81-2.81c.8-.78.8-2.07 0-2.86zM5.41 20L4 18.59l7.72-7.72 1.47 1.35L5.41 20z\"/>\n",
       "  </svg>\n",
       "      </button>\n",
       "      \n",
       "  <style>\n",
       "    .colab-df-container {\n",
       "      display:flex;\n",
       "      flex-wrap:wrap;\n",
       "      gap: 12px;\n",
       "    }\n",
       "\n",
       "    .colab-df-convert {\n",
       "      background-color: #E8F0FE;\n",
       "      border: none;\n",
       "      border-radius: 50%;\n",
       "      cursor: pointer;\n",
       "      display: none;\n",
       "      fill: #1967D2;\n",
       "      height: 32px;\n",
       "      padding: 0 0 0 0;\n",
       "      width: 32px;\n",
       "    }\n",
       "\n",
       "    .colab-df-convert:hover {\n",
       "      background-color: #E2EBFA;\n",
       "      box-shadow: 0px 1px 2px rgba(60, 64, 67, 0.3), 0px 1px 3px 1px rgba(60, 64, 67, 0.15);\n",
       "      fill: #174EA6;\n",
       "    }\n",
       "\n",
       "    [theme=dark] .colab-df-convert {\n",
       "      background-color: #3B4455;\n",
       "      fill: #D2E3FC;\n",
       "    }\n",
       "\n",
       "    [theme=dark] .colab-df-convert:hover {\n",
       "      background-color: #434B5C;\n",
       "      box-shadow: 0px 1px 3px 1px rgba(0, 0, 0, 0.15);\n",
       "      filter: drop-shadow(0px 1px 2px rgba(0, 0, 0, 0.3));\n",
       "      fill: #FFFFFF;\n",
       "    }\n",
       "  </style>\n",
       "\n",
       "      <script>\n",
       "        const buttonEl =\n",
       "          document.querySelector('#df-acb68737-db85-4c8d-a89d-7830351ce2ba button.colab-df-convert');\n",
       "        buttonEl.style.display =\n",
       "          google.colab.kernel.accessAllowed ? 'block' : 'none';\n",
       "\n",
       "        async function convertToInteractive(key) {\n",
       "          const element = document.querySelector('#df-acb68737-db85-4c8d-a89d-7830351ce2ba');\n",
       "          const dataTable =\n",
       "            await google.colab.kernel.invokeFunction('convertToInteractive',\n",
       "                                                     [key], {});\n",
       "          if (!dataTable) return;\n",
       "\n",
       "          const docLinkHtml = 'Like what you see? Visit the ' +\n",
       "            '<a target=\"_blank\" href=https://colab.research.google.com/notebooks/data_table.ipynb>data table notebook</a>'\n",
       "            + ' to learn more about interactive tables.';\n",
       "          element.innerHTML = '';\n",
       "          dataTable['output_type'] = 'display_data';\n",
       "          await google.colab.output.renderOutput(dataTable, element);\n",
       "          const docLink = document.createElement('div');\n",
       "          docLink.innerHTML = docLinkHtml;\n",
       "          element.appendChild(docLink);\n",
       "        }\n",
       "      </script>\n",
       "    </div>\n",
       "  </div>\n",
       "  "
      ],
      "text/plain": [
       "                                         name  \\\n",
       "0                 Stuttgarter Weihnachtsmarkt   \n",
       "1  Esslinger Mittelalter- und Weihnachtsmarkt   \n",
       "2           Kätchen Weihnachtsmarkt Heilbronn   \n",
       "3        Goldener Pforzheimer Weihnachtsmarkt   \n",
       "4                         chokoMARKT Tübingen   \n",
       "\n",
       "                                   address  \\\n",
       "0            Marktplatz 1, 70173 Stuttgart   \n",
       "1  Rathausplatz, 73728 Esslingen am Neckar   \n",
       "2               74072 Heilbronn-Innenstadt   \n",
       "3              75172 Pforzheim, Innenstadt   \n",
       "4               Am Markt 1, 72070 Tübingen   \n",
       "\n",
       "                                          descriptio  \\\n",
       "0  Ort: Marktplatz 1, 70173 Stuttgart<br>Datum: 2...   \n",
       "1  Ort: Rathausplatz, 73728 Esslingen am Neckar<b...   \n",
       "2  Ort: 74072 Heilbronn-Innenstadt<br>Datum: 25. ...   \n",
       "3  Ort: 75172 Pforzheim, Innenstadt<br>Datum: 22....   \n",
       "4  Ort: Am Markt 1, 72070 Tübingen<br>Datum: 30. ...   \n",
       "\n",
       "                                       Ort                          Datum  \\\n",
       "0            Marktplatz 1, 70173 Stuttgart  24. November bis 30. Dezember   \n",
       "1  Rathausplatz, 73728 Esslingen am Neckar  23. November bis 22. Dezember   \n",
       "2               74072 Heilbronn-Innenstadt  25. November bis 22. Dezember   \n",
       "3              75172 Pforzheim, Innenstadt  22. November bis 22. Dezember   \n",
       "4               Am Markt 1, 72070 Tübingen   30. November bis 5. Dezember   \n",
       "\n",
       "                                           Öffnungsz  \\\n",
       "0  • Montag bis Donnerstag: 10 bis 21 Uhr\\n• Frei...   \n",
       "1  •Eröffnungstag: 16 bis 20 Uhr \\n•Sonntag bis D...   \n",
       "2  • Montag bis Freitag: 13 bis 20 Uhr\\n• Samstag...   \n",
       "3                               Täglich 12 bis 20Uhr   \n",
       "4  • Täglich 10 bis 20 Uhr • 30. November: 13 bis...   \n",
       "\n",
       "                                          Corona-Reg  \\\n",
       "0  • 2G-Regel und Maskenpflicht auf dem gesamten ...   \n",
       "1  • Wenn Ihr direkt vor Ort Essen und Trinken wo...   \n",
       "2  • Der Zugang zu rund 70 Ständen in der Fußgäng...   \n",
       "3  • Der Markt ist grundsätzlich frei zugänglich....   \n",
       "4  Details sollen bis zum 25. November bekannt ge...   \n",
       "\n",
       "                                          Beschreibu  \\\n",
       "0  Der Weihnachtsmarkt findet in diesem Jahr stat...   \n",
       "1  Als einer der bekanntesten Weihnachtsmärkte in...   \n",
       "2  Besonderes Highlight für Familien in diesem Ja...   \n",
       "3  Hingucker ist die 20 Meter hohe Engels-Pyramid...   \n",
       "4  Schokodurft in Tübingens Altstadt - hier bekom...   \n",
       "\n",
       "                                             Website  Country  \\\n",
       "0  https://www.stuttgarter-weihnachtsmarkt.de/de/...  Germany   \n",
       "1  https://www.esslingen-marketing.de/weihnachtsm...  Germany   \n",
       "2  https://www.heilbronn.de/tourismus/veranstaltu...  Germany   \n",
       "3  https://www.ws-pforzheim.de/standortmarketing/...  Germany   \n",
       "4                          https://www.chocolart.de/  Germany   \n",
       "\n",
       "                          locations       lon        lat  \n",
       "0           (9.1774918, 48.7748156)  9.177492  48.774816  \n",
       "1           (9.3079301, 48.7423285)  9.307930  48.742328  \n",
       "2           (9.2186679, 49.1388695)  9.218668  49.138869  \n",
       "3             (8.69733, 48.8918624)  8.697330  48.891862  \n",
       "4  (9.053101781543864, 48.52035445)  9.053102  48.520354  "
      ]
     },
     "execution_count": 5,
     "metadata": {},
     "output_type": "execute_result"
    }
   ],
   "source": [
    "#apply the function to the dataframe\n"
   ]
  },
  {
   "cell_type": "markdown",
   "metadata": {
    "id": "V9dNbohJK1dR"
   },
   "source": [
    "# optional"
   ]
  },
  {
   "cell_type": "code",
   "execution_count": 29,
   "metadata": {},
   "outputs": [],
   "source": [
    "import plotly.express as px"
   ]
  },
  {
   "cell_type": "code",
   "execution_count": 32,
   "metadata": {},
   "outputs": [],
   "source": [
    "fig = px.scatter_geo(df,lat='lat',lon = 'lon')"
   ]
  },
  {
   "cell_type": "code",
   "execution_count": 33,
   "metadata": {
    "colab": {
     "base_uri": "https://localhost:8080/",
     "height": 542
    },
    "id": "1G7-dvBEKnkR",
    "outputId": "b2fdb4a5-ccfc-406c-b9c2-00833571e8e9"
   },
   "outputs": [
    {
     "data": {
      "application/vnd.plotly.v1+json": {
       "config": {
        "plotlyServerURL": "https://plot.ly"
       },
       "data": [
        {
         "geo": "geo",
         "hovertemplate": "lat=%{lat}<br>lon=%{lon}<extra></extra>",
         "lat": [
          "48.7748156",
          "48.7423285",
          "49.1388695",
          "48.8918624",
          "48.52035445",
          "48.52035445",
          "48.8969913",
          "47.996169550000005",
          "49.0096898",
          "48.3984345",
          "48.491315",
          "48.703135950000004",
          "48.1682676",
          "48.799638"
         ],
         "legendgroup": "",
         "locationmode": "country names",
         "lon": [
          "9.1774918",
          "9.3079301",
          "9.2186679",
          "8.69733",
          "9.053101781543864",
          "9.053101781543864",
          "9.1909981",
          "7.849596929638556",
          "8.4020536",
          "9.9937028",
          "9.2142546",
          "9.65411582933139",
          "8.6269453",
          "9.7977189"
         ],
         "marker": {
          "color": "#636efa",
          "symbol": "circle"
         },
         "mode": "markers",
         "name": "",
         "showlegend": false,
         "type": "scattergeo"
        }
       ],
       "layout": {
        "geo": {
         "center": {},
         "domain": {
          "x": [
           0,
           1
          ],
          "y": [
           0,
           1
          ]
         }
        },
        "legend": {
         "tracegroupgap": 0
        },
        "margin": {
         "t": 60
        },
        "template": {
         "data": {
          "bar": [
           {
            "error_x": {
             "color": "#2a3f5f"
            },
            "error_y": {
             "color": "#2a3f5f"
            },
            "marker": {
             "line": {
              "color": "#E5ECF6",
              "width": 0.5
             },
             "pattern": {
              "fillmode": "overlay",
              "size": 10,
              "solidity": 0.2
             }
            },
            "type": "bar"
           }
          ],
          "barpolar": [
           {
            "marker": {
             "line": {
              "color": "#E5ECF6",
              "width": 0.5
             },
             "pattern": {
              "fillmode": "overlay",
              "size": 10,
              "solidity": 0.2
             }
            },
            "type": "barpolar"
           }
          ],
          "carpet": [
           {
            "aaxis": {
             "endlinecolor": "#2a3f5f",
             "gridcolor": "white",
             "linecolor": "white",
             "minorgridcolor": "white",
             "startlinecolor": "#2a3f5f"
            },
            "baxis": {
             "endlinecolor": "#2a3f5f",
             "gridcolor": "white",
             "linecolor": "white",
             "minorgridcolor": "white",
             "startlinecolor": "#2a3f5f"
            },
            "type": "carpet"
           }
          ],
          "choropleth": [
           {
            "colorbar": {
             "outlinewidth": 0,
             "ticks": ""
            },
            "type": "choropleth"
           }
          ],
          "contour": [
           {
            "colorbar": {
             "outlinewidth": 0,
             "ticks": ""
            },
            "colorscale": [
             [
              0,
              "#0d0887"
             ],
             [
              0.1111111111111111,
              "#46039f"
             ],
             [
              0.2222222222222222,
              "#7201a8"
             ],
             [
              0.3333333333333333,
              "#9c179e"
             ],
             [
              0.4444444444444444,
              "#bd3786"
             ],
             [
              0.5555555555555556,
              "#d8576b"
             ],
             [
              0.6666666666666666,
              "#ed7953"
             ],
             [
              0.7777777777777778,
              "#fb9f3a"
             ],
             [
              0.8888888888888888,
              "#fdca26"
             ],
             [
              1,
              "#f0f921"
             ]
            ],
            "type": "contour"
           }
          ],
          "contourcarpet": [
           {
            "colorbar": {
             "outlinewidth": 0,
             "ticks": ""
            },
            "type": "contourcarpet"
           }
          ],
          "heatmap": [
           {
            "colorbar": {
             "outlinewidth": 0,
             "ticks": ""
            },
            "colorscale": [
             [
              0,
              "#0d0887"
             ],
             [
              0.1111111111111111,
              "#46039f"
             ],
             [
              0.2222222222222222,
              "#7201a8"
             ],
             [
              0.3333333333333333,
              "#9c179e"
             ],
             [
              0.4444444444444444,
              "#bd3786"
             ],
             [
              0.5555555555555556,
              "#d8576b"
             ],
             [
              0.6666666666666666,
              "#ed7953"
             ],
             [
              0.7777777777777778,
              "#fb9f3a"
             ],
             [
              0.8888888888888888,
              "#fdca26"
             ],
             [
              1,
              "#f0f921"
             ]
            ],
            "type": "heatmap"
           }
          ],
          "heatmapgl": [
           {
            "colorbar": {
             "outlinewidth": 0,
             "ticks": ""
            },
            "colorscale": [
             [
              0,
              "#0d0887"
             ],
             [
              0.1111111111111111,
              "#46039f"
             ],
             [
              0.2222222222222222,
              "#7201a8"
             ],
             [
              0.3333333333333333,
              "#9c179e"
             ],
             [
              0.4444444444444444,
              "#bd3786"
             ],
             [
              0.5555555555555556,
              "#d8576b"
             ],
             [
              0.6666666666666666,
              "#ed7953"
             ],
             [
              0.7777777777777778,
              "#fb9f3a"
             ],
             [
              0.8888888888888888,
              "#fdca26"
             ],
             [
              1,
              "#f0f921"
             ]
            ],
            "type": "heatmapgl"
           }
          ],
          "histogram": [
           {
            "marker": {
             "pattern": {
              "fillmode": "overlay",
              "size": 10,
              "solidity": 0.2
             }
            },
            "type": "histogram"
           }
          ],
          "histogram2d": [
           {
            "colorbar": {
             "outlinewidth": 0,
             "ticks": ""
            },
            "colorscale": [
             [
              0,
              "#0d0887"
             ],
             [
              0.1111111111111111,
              "#46039f"
             ],
             [
              0.2222222222222222,
              "#7201a8"
             ],
             [
              0.3333333333333333,
              "#9c179e"
             ],
             [
              0.4444444444444444,
              "#bd3786"
             ],
             [
              0.5555555555555556,
              "#d8576b"
             ],
             [
              0.6666666666666666,
              "#ed7953"
             ],
             [
              0.7777777777777778,
              "#fb9f3a"
             ],
             [
              0.8888888888888888,
              "#fdca26"
             ],
             [
              1,
              "#f0f921"
             ]
            ],
            "type": "histogram2d"
           }
          ],
          "histogram2dcontour": [
           {
            "colorbar": {
             "outlinewidth": 0,
             "ticks": ""
            },
            "colorscale": [
             [
              0,
              "#0d0887"
             ],
             [
              0.1111111111111111,
              "#46039f"
             ],
             [
              0.2222222222222222,
              "#7201a8"
             ],
             [
              0.3333333333333333,
              "#9c179e"
             ],
             [
              0.4444444444444444,
              "#bd3786"
             ],
             [
              0.5555555555555556,
              "#d8576b"
             ],
             [
              0.6666666666666666,
              "#ed7953"
             ],
             [
              0.7777777777777778,
              "#fb9f3a"
             ],
             [
              0.8888888888888888,
              "#fdca26"
             ],
             [
              1,
              "#f0f921"
             ]
            ],
            "type": "histogram2dcontour"
           }
          ],
          "mesh3d": [
           {
            "colorbar": {
             "outlinewidth": 0,
             "ticks": ""
            },
            "type": "mesh3d"
           }
          ],
          "parcoords": [
           {
            "line": {
             "colorbar": {
              "outlinewidth": 0,
              "ticks": ""
             }
            },
            "type": "parcoords"
           }
          ],
          "pie": [
           {
            "automargin": true,
            "type": "pie"
           }
          ],
          "scatter": [
           {
            "marker": {
             "colorbar": {
              "outlinewidth": 0,
              "ticks": ""
             }
            },
            "type": "scatter"
           }
          ],
          "scatter3d": [
           {
            "line": {
             "colorbar": {
              "outlinewidth": 0,
              "ticks": ""
             }
            },
            "marker": {
             "colorbar": {
              "outlinewidth": 0,
              "ticks": ""
             }
            },
            "type": "scatter3d"
           }
          ],
          "scattercarpet": [
           {
            "marker": {
             "colorbar": {
              "outlinewidth": 0,
              "ticks": ""
             }
            },
            "type": "scattercarpet"
           }
          ],
          "scattergeo": [
           {
            "marker": {
             "colorbar": {
              "outlinewidth": 0,
              "ticks": ""
             }
            },
            "type": "scattergeo"
           }
          ],
          "scattergl": [
           {
            "marker": {
             "colorbar": {
              "outlinewidth": 0,
              "ticks": ""
             }
            },
            "type": "scattergl"
           }
          ],
          "scattermapbox": [
           {
            "marker": {
             "colorbar": {
              "outlinewidth": 0,
              "ticks": ""
             }
            },
            "type": "scattermapbox"
           }
          ],
          "scatterpolar": [
           {
            "marker": {
             "colorbar": {
              "outlinewidth": 0,
              "ticks": ""
             }
            },
            "type": "scatterpolar"
           }
          ],
          "scatterpolargl": [
           {
            "marker": {
             "colorbar": {
              "outlinewidth": 0,
              "ticks": ""
             }
            },
            "type": "scatterpolargl"
           }
          ],
          "scatterternary": [
           {
            "marker": {
             "colorbar": {
              "outlinewidth": 0,
              "ticks": ""
             }
            },
            "type": "scatterternary"
           }
          ],
          "surface": [
           {
            "colorbar": {
             "outlinewidth": 0,
             "ticks": ""
            },
            "colorscale": [
             [
              0,
              "#0d0887"
             ],
             [
              0.1111111111111111,
              "#46039f"
             ],
             [
              0.2222222222222222,
              "#7201a8"
             ],
             [
              0.3333333333333333,
              "#9c179e"
             ],
             [
              0.4444444444444444,
              "#bd3786"
             ],
             [
              0.5555555555555556,
              "#d8576b"
             ],
             [
              0.6666666666666666,
              "#ed7953"
             ],
             [
              0.7777777777777778,
              "#fb9f3a"
             ],
             [
              0.8888888888888888,
              "#fdca26"
             ],
             [
              1,
              "#f0f921"
             ]
            ],
            "type": "surface"
           }
          ],
          "table": [
           {
            "cells": {
             "fill": {
              "color": "#EBF0F8"
             },
             "line": {
              "color": "white"
             }
            },
            "header": {
             "fill": {
              "color": "#C8D4E3"
             },
             "line": {
              "color": "white"
             }
            },
            "type": "table"
           }
          ]
         },
         "layout": {
          "annotationdefaults": {
           "arrowcolor": "#2a3f5f",
           "arrowhead": 0,
           "arrowwidth": 1
          },
          "autotypenumbers": "strict",
          "coloraxis": {
           "colorbar": {
            "outlinewidth": 0,
            "ticks": ""
           }
          },
          "colorscale": {
           "diverging": [
            [
             0,
             "#8e0152"
            ],
            [
             0.1,
             "#c51b7d"
            ],
            [
             0.2,
             "#de77ae"
            ],
            [
             0.3,
             "#f1b6da"
            ],
            [
             0.4,
             "#fde0ef"
            ],
            [
             0.5,
             "#f7f7f7"
            ],
            [
             0.6,
             "#e6f5d0"
            ],
            [
             0.7,
             "#b8e186"
            ],
            [
             0.8,
             "#7fbc41"
            ],
            [
             0.9,
             "#4d9221"
            ],
            [
             1,
             "#276419"
            ]
           ],
           "sequential": [
            [
             0,
             "#0d0887"
            ],
            [
             0.1111111111111111,
             "#46039f"
            ],
            [
             0.2222222222222222,
             "#7201a8"
            ],
            [
             0.3333333333333333,
             "#9c179e"
            ],
            [
             0.4444444444444444,
             "#bd3786"
            ],
            [
             0.5555555555555556,
             "#d8576b"
            ],
            [
             0.6666666666666666,
             "#ed7953"
            ],
            [
             0.7777777777777778,
             "#fb9f3a"
            ],
            [
             0.8888888888888888,
             "#fdca26"
            ],
            [
             1,
             "#f0f921"
            ]
           ],
           "sequentialminus": [
            [
             0,
             "#0d0887"
            ],
            [
             0.1111111111111111,
             "#46039f"
            ],
            [
             0.2222222222222222,
             "#7201a8"
            ],
            [
             0.3333333333333333,
             "#9c179e"
            ],
            [
             0.4444444444444444,
             "#bd3786"
            ],
            [
             0.5555555555555556,
             "#d8576b"
            ],
            [
             0.6666666666666666,
             "#ed7953"
            ],
            [
             0.7777777777777778,
             "#fb9f3a"
            ],
            [
             0.8888888888888888,
             "#fdca26"
            ],
            [
             1,
             "#f0f921"
            ]
           ]
          },
          "colorway": [
           "#636efa",
           "#EF553B",
           "#00cc96",
           "#ab63fa",
           "#FFA15A",
           "#19d3f3",
           "#FF6692",
           "#B6E880",
           "#FF97FF",
           "#FECB52"
          ],
          "font": {
           "color": "#2a3f5f"
          },
          "geo": {
           "bgcolor": "white",
           "lakecolor": "white",
           "landcolor": "#E5ECF6",
           "showlakes": true,
           "showland": true,
           "subunitcolor": "white"
          },
          "hoverlabel": {
           "align": "left"
          },
          "hovermode": "closest",
          "mapbox": {
           "style": "light"
          },
          "paper_bgcolor": "white",
          "plot_bgcolor": "#E5ECF6",
          "polar": {
           "angularaxis": {
            "gridcolor": "white",
            "linecolor": "white",
            "ticks": ""
           },
           "bgcolor": "#E5ECF6",
           "radialaxis": {
            "gridcolor": "white",
            "linecolor": "white",
            "ticks": ""
           }
          },
          "scene": {
           "xaxis": {
            "backgroundcolor": "#E5ECF6",
            "gridcolor": "white",
            "gridwidth": 2,
            "linecolor": "white",
            "showbackground": true,
            "ticks": "",
            "zerolinecolor": "white"
           },
           "yaxis": {
            "backgroundcolor": "#E5ECF6",
            "gridcolor": "white",
            "gridwidth": 2,
            "linecolor": "white",
            "showbackground": true,
            "ticks": "",
            "zerolinecolor": "white"
           },
           "zaxis": {
            "backgroundcolor": "#E5ECF6",
            "gridcolor": "white",
            "gridwidth": 2,
            "linecolor": "white",
            "showbackground": true,
            "ticks": "",
            "zerolinecolor": "white"
           }
          },
          "shapedefaults": {
           "line": {
            "color": "#2a3f5f"
           }
          },
          "ternary": {
           "aaxis": {
            "gridcolor": "white",
            "linecolor": "white",
            "ticks": ""
           },
           "baxis": {
            "gridcolor": "white",
            "linecolor": "white",
            "ticks": ""
           },
           "bgcolor": "#E5ECF6",
           "caxis": {
            "gridcolor": "white",
            "linecolor": "white",
            "ticks": ""
           }
          },
          "title": {
           "x": 0.05
          },
          "xaxis": {
           "automargin": true,
           "gridcolor": "white",
           "linecolor": "white",
           "ticks": "",
           "title": {
            "standoff": 15
           },
           "zerolinecolor": "white",
           "zerolinewidth": 2
          },
          "yaxis": {
           "automargin": true,
           "gridcolor": "white",
           "linecolor": "white",
           "ticks": "",
           "title": {
            "standoff": 15
           },
           "zerolinecolor": "white",
           "zerolinewidth": 2
          }
         }
        }
       }
      },
      "text/html": [
       "<div>                            <div id=\"669ca26e-e695-46de-8e63-a2107712246b\" class=\"plotly-graph-div\" style=\"height:525px; width:100%;\"></div>            <script type=\"text/javascript\">                require([\"plotly\"], function(Plotly) {                    window.PLOTLYENV=window.PLOTLYENV || {};                                    if (document.getElementById(\"669ca26e-e695-46de-8e63-a2107712246b\")) {                    Plotly.newPlot(                        \"669ca26e-e695-46de-8e63-a2107712246b\",                        [{\"geo\":\"geo\",\"hovertemplate\":\"lat=%{lat}<br>lon=%{lon}<extra></extra>\",\"lat\":[\"48.7748156\",\"48.7423285\",\"49.1388695\",\"48.8918624\",\"48.52035445\",\"48.52035445\",\"48.8969913\",\"47.996169550000005\",\"49.0096898\",\"48.3984345\",\"48.491315\",\"48.703135950000004\",\"48.1682676\",\"48.799638\"],\"legendgroup\":\"\",\"locationmode\":\"country names\",\"lon\":[\"9.1774918\",\"9.3079301\",\"9.2186679\",\"8.69733\",\"9.053101781543864\",\"9.053101781543864\",\"9.1909981\",\"7.849596929638556\",\"8.4020536\",\"9.9937028\",\"9.2142546\",\"9.65411582933139\",\"8.6269453\",\"9.7977189\"],\"marker\":{\"color\":\"#636efa\",\"symbol\":\"circle\"},\"mode\":\"markers\",\"name\":\"\",\"showlegend\":false,\"type\":\"scattergeo\"}],                        {\"template\":{\"data\":{\"bar\":[{\"error_x\":{\"color\":\"#2a3f5f\"},\"error_y\":{\"color\":\"#2a3f5f\"},\"marker\":{\"line\":{\"color\":\"#E5ECF6\",\"width\":0.5},\"pattern\":{\"fillmode\":\"overlay\",\"size\":10,\"solidity\":0.2}},\"type\":\"bar\"}],\"barpolar\":[{\"marker\":{\"line\":{\"color\":\"#E5ECF6\",\"width\":0.5},\"pattern\":{\"fillmode\":\"overlay\",\"size\":10,\"solidity\":0.2}},\"type\":\"barpolar\"}],\"carpet\":[{\"aaxis\":{\"endlinecolor\":\"#2a3f5f\",\"gridcolor\":\"white\",\"linecolor\":\"white\",\"minorgridcolor\":\"white\",\"startlinecolor\":\"#2a3f5f\"},\"baxis\":{\"endlinecolor\":\"#2a3f5f\",\"gridcolor\":\"white\",\"linecolor\":\"white\",\"minorgridcolor\":\"white\",\"startlinecolor\":\"#2a3f5f\"},\"type\":\"carpet\"}],\"choropleth\":[{\"colorbar\":{\"outlinewidth\":0,\"ticks\":\"\"},\"type\":\"choropleth\"}],\"contour\":[{\"colorbar\":{\"outlinewidth\":0,\"ticks\":\"\"},\"colorscale\":[[0.0,\"#0d0887\"],[0.1111111111111111,\"#46039f\"],[0.2222222222222222,\"#7201a8\"],[0.3333333333333333,\"#9c179e\"],[0.4444444444444444,\"#bd3786\"],[0.5555555555555556,\"#d8576b\"],[0.6666666666666666,\"#ed7953\"],[0.7777777777777778,\"#fb9f3a\"],[0.8888888888888888,\"#fdca26\"],[1.0,\"#f0f921\"]],\"type\":\"contour\"}],\"contourcarpet\":[{\"colorbar\":{\"outlinewidth\":0,\"ticks\":\"\"},\"type\":\"contourcarpet\"}],\"heatmap\":[{\"colorbar\":{\"outlinewidth\":0,\"ticks\":\"\"},\"colorscale\":[[0.0,\"#0d0887\"],[0.1111111111111111,\"#46039f\"],[0.2222222222222222,\"#7201a8\"],[0.3333333333333333,\"#9c179e\"],[0.4444444444444444,\"#bd3786\"],[0.5555555555555556,\"#d8576b\"],[0.6666666666666666,\"#ed7953\"],[0.7777777777777778,\"#fb9f3a\"],[0.8888888888888888,\"#fdca26\"],[1.0,\"#f0f921\"]],\"type\":\"heatmap\"}],\"heatmapgl\":[{\"colorbar\":{\"outlinewidth\":0,\"ticks\":\"\"},\"colorscale\":[[0.0,\"#0d0887\"],[0.1111111111111111,\"#46039f\"],[0.2222222222222222,\"#7201a8\"],[0.3333333333333333,\"#9c179e\"],[0.4444444444444444,\"#bd3786\"],[0.5555555555555556,\"#d8576b\"],[0.6666666666666666,\"#ed7953\"],[0.7777777777777778,\"#fb9f3a\"],[0.8888888888888888,\"#fdca26\"],[1.0,\"#f0f921\"]],\"type\":\"heatmapgl\"}],\"histogram\":[{\"marker\":{\"pattern\":{\"fillmode\":\"overlay\",\"size\":10,\"solidity\":0.2}},\"type\":\"histogram\"}],\"histogram2d\":[{\"colorbar\":{\"outlinewidth\":0,\"ticks\":\"\"},\"colorscale\":[[0.0,\"#0d0887\"],[0.1111111111111111,\"#46039f\"],[0.2222222222222222,\"#7201a8\"],[0.3333333333333333,\"#9c179e\"],[0.4444444444444444,\"#bd3786\"],[0.5555555555555556,\"#d8576b\"],[0.6666666666666666,\"#ed7953\"],[0.7777777777777778,\"#fb9f3a\"],[0.8888888888888888,\"#fdca26\"],[1.0,\"#f0f921\"]],\"type\":\"histogram2d\"}],\"histogram2dcontour\":[{\"colorbar\":{\"outlinewidth\":0,\"ticks\":\"\"},\"colorscale\":[[0.0,\"#0d0887\"],[0.1111111111111111,\"#46039f\"],[0.2222222222222222,\"#7201a8\"],[0.3333333333333333,\"#9c179e\"],[0.4444444444444444,\"#bd3786\"],[0.5555555555555556,\"#d8576b\"],[0.6666666666666666,\"#ed7953\"],[0.7777777777777778,\"#fb9f3a\"],[0.8888888888888888,\"#fdca26\"],[1.0,\"#f0f921\"]],\"type\":\"histogram2dcontour\"}],\"mesh3d\":[{\"colorbar\":{\"outlinewidth\":0,\"ticks\":\"\"},\"type\":\"mesh3d\"}],\"parcoords\":[{\"line\":{\"colorbar\":{\"outlinewidth\":0,\"ticks\":\"\"}},\"type\":\"parcoords\"}],\"pie\":[{\"automargin\":true,\"type\":\"pie\"}],\"scatter\":[{\"marker\":{\"colorbar\":{\"outlinewidth\":0,\"ticks\":\"\"}},\"type\":\"scatter\"}],\"scatter3d\":[{\"line\":{\"colorbar\":{\"outlinewidth\":0,\"ticks\":\"\"}},\"marker\":{\"colorbar\":{\"outlinewidth\":0,\"ticks\":\"\"}},\"type\":\"scatter3d\"}],\"scattercarpet\":[{\"marker\":{\"colorbar\":{\"outlinewidth\":0,\"ticks\":\"\"}},\"type\":\"scattercarpet\"}],\"scattergeo\":[{\"marker\":{\"colorbar\":{\"outlinewidth\":0,\"ticks\":\"\"}},\"type\":\"scattergeo\"}],\"scattergl\":[{\"marker\":{\"colorbar\":{\"outlinewidth\":0,\"ticks\":\"\"}},\"type\":\"scattergl\"}],\"scattermapbox\":[{\"marker\":{\"colorbar\":{\"outlinewidth\":0,\"ticks\":\"\"}},\"type\":\"scattermapbox\"}],\"scatterpolar\":[{\"marker\":{\"colorbar\":{\"outlinewidth\":0,\"ticks\":\"\"}},\"type\":\"scatterpolar\"}],\"scatterpolargl\":[{\"marker\":{\"colorbar\":{\"outlinewidth\":0,\"ticks\":\"\"}},\"type\":\"scatterpolargl\"}],\"scatterternary\":[{\"marker\":{\"colorbar\":{\"outlinewidth\":0,\"ticks\":\"\"}},\"type\":\"scatterternary\"}],\"surface\":[{\"colorbar\":{\"outlinewidth\":0,\"ticks\":\"\"},\"colorscale\":[[0.0,\"#0d0887\"],[0.1111111111111111,\"#46039f\"],[0.2222222222222222,\"#7201a8\"],[0.3333333333333333,\"#9c179e\"],[0.4444444444444444,\"#bd3786\"],[0.5555555555555556,\"#d8576b\"],[0.6666666666666666,\"#ed7953\"],[0.7777777777777778,\"#fb9f3a\"],[0.8888888888888888,\"#fdca26\"],[1.0,\"#f0f921\"]],\"type\":\"surface\"}],\"table\":[{\"cells\":{\"fill\":{\"color\":\"#EBF0F8\"},\"line\":{\"color\":\"white\"}},\"header\":{\"fill\":{\"color\":\"#C8D4E3\"},\"line\":{\"color\":\"white\"}},\"type\":\"table\"}]},\"layout\":{\"annotationdefaults\":{\"arrowcolor\":\"#2a3f5f\",\"arrowhead\":0,\"arrowwidth\":1},\"autotypenumbers\":\"strict\",\"coloraxis\":{\"colorbar\":{\"outlinewidth\":0,\"ticks\":\"\"}},\"colorscale\":{\"diverging\":[[0,\"#8e0152\"],[0.1,\"#c51b7d\"],[0.2,\"#de77ae\"],[0.3,\"#f1b6da\"],[0.4,\"#fde0ef\"],[0.5,\"#f7f7f7\"],[0.6,\"#e6f5d0\"],[0.7,\"#b8e186\"],[0.8,\"#7fbc41\"],[0.9,\"#4d9221\"],[1,\"#276419\"]],\"sequential\":[[0.0,\"#0d0887\"],[0.1111111111111111,\"#46039f\"],[0.2222222222222222,\"#7201a8\"],[0.3333333333333333,\"#9c179e\"],[0.4444444444444444,\"#bd3786\"],[0.5555555555555556,\"#d8576b\"],[0.6666666666666666,\"#ed7953\"],[0.7777777777777778,\"#fb9f3a\"],[0.8888888888888888,\"#fdca26\"],[1.0,\"#f0f921\"]],\"sequentialminus\":[[0.0,\"#0d0887\"],[0.1111111111111111,\"#46039f\"],[0.2222222222222222,\"#7201a8\"],[0.3333333333333333,\"#9c179e\"],[0.4444444444444444,\"#bd3786\"],[0.5555555555555556,\"#d8576b\"],[0.6666666666666666,\"#ed7953\"],[0.7777777777777778,\"#fb9f3a\"],[0.8888888888888888,\"#fdca26\"],[1.0,\"#f0f921\"]]},\"colorway\":[\"#636efa\",\"#EF553B\",\"#00cc96\",\"#ab63fa\",\"#FFA15A\",\"#19d3f3\",\"#FF6692\",\"#B6E880\",\"#FF97FF\",\"#FECB52\"],\"font\":{\"color\":\"#2a3f5f\"},\"geo\":{\"bgcolor\":\"white\",\"lakecolor\":\"white\",\"landcolor\":\"#E5ECF6\",\"showlakes\":true,\"showland\":true,\"subunitcolor\":\"white\"},\"hoverlabel\":{\"align\":\"left\"},\"hovermode\":\"closest\",\"mapbox\":{\"style\":\"light\"},\"paper_bgcolor\":\"white\",\"plot_bgcolor\":\"#E5ECF6\",\"polar\":{\"angularaxis\":{\"gridcolor\":\"white\",\"linecolor\":\"white\",\"ticks\":\"\"},\"bgcolor\":\"#E5ECF6\",\"radialaxis\":{\"gridcolor\":\"white\",\"linecolor\":\"white\",\"ticks\":\"\"}},\"scene\":{\"xaxis\":{\"backgroundcolor\":\"#E5ECF6\",\"gridcolor\":\"white\",\"gridwidth\":2,\"linecolor\":\"white\",\"showbackground\":true,\"ticks\":\"\",\"zerolinecolor\":\"white\"},\"yaxis\":{\"backgroundcolor\":\"#E5ECF6\",\"gridcolor\":\"white\",\"gridwidth\":2,\"linecolor\":\"white\",\"showbackground\":true,\"ticks\":\"\",\"zerolinecolor\":\"white\"},\"zaxis\":{\"backgroundcolor\":\"#E5ECF6\",\"gridcolor\":\"white\",\"gridwidth\":2,\"linecolor\":\"white\",\"showbackground\":true,\"ticks\":\"\",\"zerolinecolor\":\"white\"}},\"shapedefaults\":{\"line\":{\"color\":\"#2a3f5f\"}},\"ternary\":{\"aaxis\":{\"gridcolor\":\"white\",\"linecolor\":\"white\",\"ticks\":\"\"},\"baxis\":{\"gridcolor\":\"white\",\"linecolor\":\"white\",\"ticks\":\"\"},\"bgcolor\":\"#E5ECF6\",\"caxis\":{\"gridcolor\":\"white\",\"linecolor\":\"white\",\"ticks\":\"\"}},\"title\":{\"x\":0.05},\"xaxis\":{\"automargin\":true,\"gridcolor\":\"white\",\"linecolor\":\"white\",\"ticks\":\"\",\"title\":{\"standoff\":15},\"zerolinecolor\":\"white\",\"zerolinewidth\":2},\"yaxis\":{\"automargin\":true,\"gridcolor\":\"white\",\"linecolor\":\"white\",\"ticks\":\"\",\"title\":{\"standoff\":15},\"zerolinecolor\":\"white\",\"zerolinewidth\":2}}},\"geo\":{\"domain\":{\"x\":[0.0,1.0],\"y\":[0.0,1.0]},\"center\":{}},\"legend\":{\"tracegroupgap\":0},\"margin\":{\"t\":60}},                        {\"responsive\": true}                    ).then(function(){\n",
       "                            \n",
       "var gd = document.getElementById('669ca26e-e695-46de-8e63-a2107712246b');\n",
       "var x = new MutationObserver(function (mutations, observer) {{\n",
       "        var display = window.getComputedStyle(gd).display;\n",
       "        if (!display || display === 'none') {{\n",
       "            console.log([gd, 'removed!']);\n",
       "            Plotly.purge(gd);\n",
       "            observer.disconnect();\n",
       "        }}\n",
       "}});\n",
       "\n",
       "// Listen for the removal of the full notebook cells\n",
       "var notebookContainer = gd.closest('#notebook-container');\n",
       "if (notebookContainer) {{\n",
       "    x.observe(notebookContainer, {childList: true});\n",
       "}}\n",
       "\n",
       "// Listen for the clearing of the current output cell\n",
       "var outputEl = gd.closest('.output');\n",
       "if (outputEl) {{\n",
       "    x.observe(outputEl, {childList: true});\n",
       "}}\n",
       "\n",
       "                        })                };                });            </script>        </div>"
      ]
     },
     "metadata": {},
     "output_type": "display_data"
    }
   ],
   "source": [
    "#search for scatter_geo\n",
    "fig"
   ]
  },
  {
   "cell_type": "code",
   "execution_count": null,
   "metadata": {
    "id": "pLM6R8n9LhLa"
   },
   "outputs": [],
   "source": []
  }
 ],
 "metadata": {
  "colab": {
   "provenance": []
  },
  "kernelspec": {
   "display_name": "Python 3 (ipykernel)",
   "language": "python",
   "name": "python3"
  },
  "language_info": {
   "codemirror_mode": {
    "name": "ipython",
    "version": 3
   },
   "file_extension": ".py",
   "mimetype": "text/x-python",
   "name": "python",
   "nbconvert_exporter": "python",
   "pygments_lexer": "ipython3",
   "version": "3.9.12"
  }
 },
 "nbformat": 4,
 "nbformat_minor": 1
}
