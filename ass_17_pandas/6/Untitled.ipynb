{
 "cells": [
  {
   "cell_type": "code",
   "execution_count": 1,
   "id": "01040f28",
   "metadata": {},
   "outputs": [],
   "source": [
    "import pandas as pd"
   ]
  },
  {
   "cell_type": "code",
   "execution_count": 12,
   "id": "df9f34f1",
   "metadata": {},
   "outputs": [
    {
     "ename": "FileNotFoundError",
     "evalue": "[Errno 2] No such file or directory: '3.1-data-sheet-udemy-courses-web-development.csv'",
     "output_type": "error",
     "traceback": [
      "\u001b[1;31m---------------------------------------------------------------------------\u001b[0m",
      "\u001b[1;31mFileNotFoundError\u001b[0m                         Traceback (most recent call last)",
      "Input \u001b[1;32mIn [12]\u001b[0m, in \u001b[0;36m<cell line: 1>\u001b[1;34m()\u001b[0m\n\u001b[1;32m----> 1\u001b[0m df \u001b[38;5;241m=\u001b[39m \u001b[43mpd\u001b[49m\u001b[38;5;241;43m.\u001b[39;49m\u001b[43mread_csv\u001b[49m\u001b[43m(\u001b[49m\u001b[38;5;124;43m'\u001b[39;49m\u001b[38;5;124;43m3.1-data-sheet-udemy-courses-web-development.csv\u001b[39;49m\u001b[38;5;124;43m'\u001b[39;49m\u001b[43m)\u001b[49m\n",
      "File \u001b[1;32m~\\anaconda3\\lib\\site-packages\\pandas\\util\\_decorators.py:311\u001b[0m, in \u001b[0;36mdeprecate_nonkeyword_arguments.<locals>.decorate.<locals>.wrapper\u001b[1;34m(*args, **kwargs)\u001b[0m\n\u001b[0;32m    305\u001b[0m \u001b[38;5;28;01mif\u001b[39;00m \u001b[38;5;28mlen\u001b[39m(args) \u001b[38;5;241m>\u001b[39m num_allow_args:\n\u001b[0;32m    306\u001b[0m     warnings\u001b[38;5;241m.\u001b[39mwarn(\n\u001b[0;32m    307\u001b[0m         msg\u001b[38;5;241m.\u001b[39mformat(arguments\u001b[38;5;241m=\u001b[39marguments),\n\u001b[0;32m    308\u001b[0m         \u001b[38;5;167;01mFutureWarning\u001b[39;00m,\n\u001b[0;32m    309\u001b[0m         stacklevel\u001b[38;5;241m=\u001b[39mstacklevel,\n\u001b[0;32m    310\u001b[0m     )\n\u001b[1;32m--> 311\u001b[0m \u001b[38;5;28;01mreturn\u001b[39;00m func(\u001b[38;5;241m*\u001b[39margs, \u001b[38;5;241m*\u001b[39m\u001b[38;5;241m*\u001b[39mkwargs)\n",
      "File \u001b[1;32m~\\anaconda3\\lib\\site-packages\\pandas\\io\\parsers\\readers.py:680\u001b[0m, in \u001b[0;36mread_csv\u001b[1;34m(filepath_or_buffer, sep, delimiter, header, names, index_col, usecols, squeeze, prefix, mangle_dupe_cols, dtype, engine, converters, true_values, false_values, skipinitialspace, skiprows, skipfooter, nrows, na_values, keep_default_na, na_filter, verbose, skip_blank_lines, parse_dates, infer_datetime_format, keep_date_col, date_parser, dayfirst, cache_dates, iterator, chunksize, compression, thousands, decimal, lineterminator, quotechar, quoting, doublequote, escapechar, comment, encoding, encoding_errors, dialect, error_bad_lines, warn_bad_lines, on_bad_lines, delim_whitespace, low_memory, memory_map, float_precision, storage_options)\u001b[0m\n\u001b[0;32m    665\u001b[0m kwds_defaults \u001b[38;5;241m=\u001b[39m _refine_defaults_read(\n\u001b[0;32m    666\u001b[0m     dialect,\n\u001b[0;32m    667\u001b[0m     delimiter,\n\u001b[1;32m   (...)\u001b[0m\n\u001b[0;32m    676\u001b[0m     defaults\u001b[38;5;241m=\u001b[39m{\u001b[38;5;124m\"\u001b[39m\u001b[38;5;124mdelimiter\u001b[39m\u001b[38;5;124m\"\u001b[39m: \u001b[38;5;124m\"\u001b[39m\u001b[38;5;124m,\u001b[39m\u001b[38;5;124m\"\u001b[39m},\n\u001b[0;32m    677\u001b[0m )\n\u001b[0;32m    678\u001b[0m kwds\u001b[38;5;241m.\u001b[39mupdate(kwds_defaults)\n\u001b[1;32m--> 680\u001b[0m \u001b[38;5;28;01mreturn\u001b[39;00m \u001b[43m_read\u001b[49m\u001b[43m(\u001b[49m\u001b[43mfilepath_or_buffer\u001b[49m\u001b[43m,\u001b[49m\u001b[43m \u001b[49m\u001b[43mkwds\u001b[49m\u001b[43m)\u001b[49m\n",
      "File \u001b[1;32m~\\anaconda3\\lib\\site-packages\\pandas\\io\\parsers\\readers.py:575\u001b[0m, in \u001b[0;36m_read\u001b[1;34m(filepath_or_buffer, kwds)\u001b[0m\n\u001b[0;32m    572\u001b[0m _validate_names(kwds\u001b[38;5;241m.\u001b[39mget(\u001b[38;5;124m\"\u001b[39m\u001b[38;5;124mnames\u001b[39m\u001b[38;5;124m\"\u001b[39m, \u001b[38;5;28;01mNone\u001b[39;00m))\n\u001b[0;32m    574\u001b[0m \u001b[38;5;66;03m# Create the parser.\u001b[39;00m\n\u001b[1;32m--> 575\u001b[0m parser \u001b[38;5;241m=\u001b[39m TextFileReader(filepath_or_buffer, \u001b[38;5;241m*\u001b[39m\u001b[38;5;241m*\u001b[39mkwds)\n\u001b[0;32m    577\u001b[0m \u001b[38;5;28;01mif\u001b[39;00m chunksize \u001b[38;5;129;01mor\u001b[39;00m iterator:\n\u001b[0;32m    578\u001b[0m     \u001b[38;5;28;01mreturn\u001b[39;00m parser\n",
      "File \u001b[1;32m~\\anaconda3\\lib\\site-packages\\pandas\\io\\parsers\\readers.py:933\u001b[0m, in \u001b[0;36mTextFileReader.__init__\u001b[1;34m(self, f, engine, **kwds)\u001b[0m\n\u001b[0;32m    930\u001b[0m     \u001b[38;5;28mself\u001b[39m\u001b[38;5;241m.\u001b[39moptions[\u001b[38;5;124m\"\u001b[39m\u001b[38;5;124mhas_index_names\u001b[39m\u001b[38;5;124m\"\u001b[39m] \u001b[38;5;241m=\u001b[39m kwds[\u001b[38;5;124m\"\u001b[39m\u001b[38;5;124mhas_index_names\u001b[39m\u001b[38;5;124m\"\u001b[39m]\n\u001b[0;32m    932\u001b[0m \u001b[38;5;28mself\u001b[39m\u001b[38;5;241m.\u001b[39mhandles: IOHandles \u001b[38;5;241m|\u001b[39m \u001b[38;5;28;01mNone\u001b[39;00m \u001b[38;5;241m=\u001b[39m \u001b[38;5;28;01mNone\u001b[39;00m\n\u001b[1;32m--> 933\u001b[0m \u001b[38;5;28mself\u001b[39m\u001b[38;5;241m.\u001b[39m_engine \u001b[38;5;241m=\u001b[39m \u001b[38;5;28;43mself\u001b[39;49m\u001b[38;5;241;43m.\u001b[39;49m\u001b[43m_make_engine\u001b[49m\u001b[43m(\u001b[49m\u001b[43mf\u001b[49m\u001b[43m,\u001b[49m\u001b[43m \u001b[49m\u001b[38;5;28;43mself\u001b[39;49m\u001b[38;5;241;43m.\u001b[39;49m\u001b[43mengine\u001b[49m\u001b[43m)\u001b[49m\n",
      "File \u001b[1;32m~\\anaconda3\\lib\\site-packages\\pandas\\io\\parsers\\readers.py:1217\u001b[0m, in \u001b[0;36mTextFileReader._make_engine\u001b[1;34m(self, f, engine)\u001b[0m\n\u001b[0;32m   1213\u001b[0m     mode \u001b[38;5;241m=\u001b[39m \u001b[38;5;124m\"\u001b[39m\u001b[38;5;124mrb\u001b[39m\u001b[38;5;124m\"\u001b[39m\n\u001b[0;32m   1214\u001b[0m \u001b[38;5;66;03m# error: No overload variant of \"get_handle\" matches argument types\u001b[39;00m\n\u001b[0;32m   1215\u001b[0m \u001b[38;5;66;03m# \"Union[str, PathLike[str], ReadCsvBuffer[bytes], ReadCsvBuffer[str]]\"\u001b[39;00m\n\u001b[0;32m   1216\u001b[0m \u001b[38;5;66;03m# , \"str\", \"bool\", \"Any\", \"Any\", \"Any\", \"Any\", \"Any\"\u001b[39;00m\n\u001b[1;32m-> 1217\u001b[0m \u001b[38;5;28mself\u001b[39m\u001b[38;5;241m.\u001b[39mhandles \u001b[38;5;241m=\u001b[39m \u001b[43mget_handle\u001b[49m\u001b[43m(\u001b[49m\u001b[43m  \u001b[49m\u001b[38;5;66;43;03m# type: ignore[call-overload]\u001b[39;49;00m\n\u001b[0;32m   1218\u001b[0m \u001b[43m    \u001b[49m\u001b[43mf\u001b[49m\u001b[43m,\u001b[49m\n\u001b[0;32m   1219\u001b[0m \u001b[43m    \u001b[49m\u001b[43mmode\u001b[49m\u001b[43m,\u001b[49m\n\u001b[0;32m   1220\u001b[0m \u001b[43m    \u001b[49m\u001b[43mencoding\u001b[49m\u001b[38;5;241;43m=\u001b[39;49m\u001b[38;5;28;43mself\u001b[39;49m\u001b[38;5;241;43m.\u001b[39;49m\u001b[43moptions\u001b[49m\u001b[38;5;241;43m.\u001b[39;49m\u001b[43mget\u001b[49m\u001b[43m(\u001b[49m\u001b[38;5;124;43m\"\u001b[39;49m\u001b[38;5;124;43mencoding\u001b[39;49m\u001b[38;5;124;43m\"\u001b[39;49m\u001b[43m,\u001b[49m\u001b[43m \u001b[49m\u001b[38;5;28;43;01mNone\u001b[39;49;00m\u001b[43m)\u001b[49m\u001b[43m,\u001b[49m\n\u001b[0;32m   1221\u001b[0m \u001b[43m    \u001b[49m\u001b[43mcompression\u001b[49m\u001b[38;5;241;43m=\u001b[39;49m\u001b[38;5;28;43mself\u001b[39;49m\u001b[38;5;241;43m.\u001b[39;49m\u001b[43moptions\u001b[49m\u001b[38;5;241;43m.\u001b[39;49m\u001b[43mget\u001b[49m\u001b[43m(\u001b[49m\u001b[38;5;124;43m\"\u001b[39;49m\u001b[38;5;124;43mcompression\u001b[39;49m\u001b[38;5;124;43m\"\u001b[39;49m\u001b[43m,\u001b[49m\u001b[43m \u001b[49m\u001b[38;5;28;43;01mNone\u001b[39;49;00m\u001b[43m)\u001b[49m\u001b[43m,\u001b[49m\n\u001b[0;32m   1222\u001b[0m \u001b[43m    \u001b[49m\u001b[43mmemory_map\u001b[49m\u001b[38;5;241;43m=\u001b[39;49m\u001b[38;5;28;43mself\u001b[39;49m\u001b[38;5;241;43m.\u001b[39;49m\u001b[43moptions\u001b[49m\u001b[38;5;241;43m.\u001b[39;49m\u001b[43mget\u001b[49m\u001b[43m(\u001b[49m\u001b[38;5;124;43m\"\u001b[39;49m\u001b[38;5;124;43mmemory_map\u001b[39;49m\u001b[38;5;124;43m\"\u001b[39;49m\u001b[43m,\u001b[49m\u001b[43m \u001b[49m\u001b[38;5;28;43;01mFalse\u001b[39;49;00m\u001b[43m)\u001b[49m\u001b[43m,\u001b[49m\n\u001b[0;32m   1223\u001b[0m \u001b[43m    \u001b[49m\u001b[43mis_text\u001b[49m\u001b[38;5;241;43m=\u001b[39;49m\u001b[43mis_text\u001b[49m\u001b[43m,\u001b[49m\n\u001b[0;32m   1224\u001b[0m \u001b[43m    \u001b[49m\u001b[43merrors\u001b[49m\u001b[38;5;241;43m=\u001b[39;49m\u001b[38;5;28;43mself\u001b[39;49m\u001b[38;5;241;43m.\u001b[39;49m\u001b[43moptions\u001b[49m\u001b[38;5;241;43m.\u001b[39;49m\u001b[43mget\u001b[49m\u001b[43m(\u001b[49m\u001b[38;5;124;43m\"\u001b[39;49m\u001b[38;5;124;43mencoding_errors\u001b[39;49m\u001b[38;5;124;43m\"\u001b[39;49m\u001b[43m,\u001b[49m\u001b[43m \u001b[49m\u001b[38;5;124;43m\"\u001b[39;49m\u001b[38;5;124;43mstrict\u001b[39;49m\u001b[38;5;124;43m\"\u001b[39;49m\u001b[43m)\u001b[49m\u001b[43m,\u001b[49m\n\u001b[0;32m   1225\u001b[0m \u001b[43m    \u001b[49m\u001b[43mstorage_options\u001b[49m\u001b[38;5;241;43m=\u001b[39;49m\u001b[38;5;28;43mself\u001b[39;49m\u001b[38;5;241;43m.\u001b[39;49m\u001b[43moptions\u001b[49m\u001b[38;5;241;43m.\u001b[39;49m\u001b[43mget\u001b[49m\u001b[43m(\u001b[49m\u001b[38;5;124;43m\"\u001b[39;49m\u001b[38;5;124;43mstorage_options\u001b[39;49m\u001b[38;5;124;43m\"\u001b[39;49m\u001b[43m,\u001b[49m\u001b[43m \u001b[49m\u001b[38;5;28;43;01mNone\u001b[39;49;00m\u001b[43m)\u001b[49m\u001b[43m,\u001b[49m\n\u001b[0;32m   1226\u001b[0m \u001b[43m\u001b[49m\u001b[43m)\u001b[49m\n\u001b[0;32m   1227\u001b[0m \u001b[38;5;28;01massert\u001b[39;00m \u001b[38;5;28mself\u001b[39m\u001b[38;5;241m.\u001b[39mhandles \u001b[38;5;129;01mis\u001b[39;00m \u001b[38;5;129;01mnot\u001b[39;00m \u001b[38;5;28;01mNone\u001b[39;00m\n\u001b[0;32m   1228\u001b[0m f \u001b[38;5;241m=\u001b[39m \u001b[38;5;28mself\u001b[39m\u001b[38;5;241m.\u001b[39mhandles\u001b[38;5;241m.\u001b[39mhandle\n",
      "File \u001b[1;32m~\\anaconda3\\lib\\site-packages\\pandas\\io\\common.py:789\u001b[0m, in \u001b[0;36mget_handle\u001b[1;34m(path_or_buf, mode, encoding, compression, memory_map, is_text, errors, storage_options)\u001b[0m\n\u001b[0;32m    784\u001b[0m \u001b[38;5;28;01melif\u001b[39;00m \u001b[38;5;28misinstance\u001b[39m(handle, \u001b[38;5;28mstr\u001b[39m):\n\u001b[0;32m    785\u001b[0m     \u001b[38;5;66;03m# Check whether the filename is to be opened in binary mode.\u001b[39;00m\n\u001b[0;32m    786\u001b[0m     \u001b[38;5;66;03m# Binary mode does not support 'encoding' and 'newline'.\u001b[39;00m\n\u001b[0;32m    787\u001b[0m     \u001b[38;5;28;01mif\u001b[39;00m ioargs\u001b[38;5;241m.\u001b[39mencoding \u001b[38;5;129;01mand\u001b[39;00m \u001b[38;5;124m\"\u001b[39m\u001b[38;5;124mb\u001b[39m\u001b[38;5;124m\"\u001b[39m \u001b[38;5;129;01mnot\u001b[39;00m \u001b[38;5;129;01min\u001b[39;00m ioargs\u001b[38;5;241m.\u001b[39mmode:\n\u001b[0;32m    788\u001b[0m         \u001b[38;5;66;03m# Encoding\u001b[39;00m\n\u001b[1;32m--> 789\u001b[0m         handle \u001b[38;5;241m=\u001b[39m \u001b[38;5;28;43mopen\u001b[39;49m\u001b[43m(\u001b[49m\n\u001b[0;32m    790\u001b[0m \u001b[43m            \u001b[49m\u001b[43mhandle\u001b[49m\u001b[43m,\u001b[49m\n\u001b[0;32m    791\u001b[0m \u001b[43m            \u001b[49m\u001b[43mioargs\u001b[49m\u001b[38;5;241;43m.\u001b[39;49m\u001b[43mmode\u001b[49m\u001b[43m,\u001b[49m\n\u001b[0;32m    792\u001b[0m \u001b[43m            \u001b[49m\u001b[43mencoding\u001b[49m\u001b[38;5;241;43m=\u001b[39;49m\u001b[43mioargs\u001b[49m\u001b[38;5;241;43m.\u001b[39;49m\u001b[43mencoding\u001b[49m\u001b[43m,\u001b[49m\n\u001b[0;32m    793\u001b[0m \u001b[43m            \u001b[49m\u001b[43merrors\u001b[49m\u001b[38;5;241;43m=\u001b[39;49m\u001b[43merrors\u001b[49m\u001b[43m,\u001b[49m\n\u001b[0;32m    794\u001b[0m \u001b[43m            \u001b[49m\u001b[43mnewline\u001b[49m\u001b[38;5;241;43m=\u001b[39;49m\u001b[38;5;124;43m\"\u001b[39;49m\u001b[38;5;124;43m\"\u001b[39;49m\u001b[43m,\u001b[49m\n\u001b[0;32m    795\u001b[0m \u001b[43m        \u001b[49m\u001b[43m)\u001b[49m\n\u001b[0;32m    796\u001b[0m     \u001b[38;5;28;01melse\u001b[39;00m:\n\u001b[0;32m    797\u001b[0m         \u001b[38;5;66;03m# Binary mode\u001b[39;00m\n\u001b[0;32m    798\u001b[0m         handle \u001b[38;5;241m=\u001b[39m \u001b[38;5;28mopen\u001b[39m(handle, ioargs\u001b[38;5;241m.\u001b[39mmode)\n",
      "\u001b[1;31mFileNotFoundError\u001b[0m: [Errno 2] No such file or directory: '3.1-data-sheet-udemy-courses-web-development.csv'"
     ]
    }
   ],
   "source": [
    "df = pd.read_csv('3.1-data-sheet-udemy-courses-web-development.csv')"
   ]
  },
  {
   "cell_type": "code",
   "execution_count": 11,
   "id": "fd2553ac",
   "metadata": {},
   "outputs": [
    {
     "data": {
      "text/html": [
       "<div>\n",
       "<style scoped>\n",
       "    .dataframe tbody tr th:only-of-type {\n",
       "        vertical-align: middle;\n",
       "    }\n",
       "\n",
       "    .dataframe tbody tr th {\n",
       "        vertical-align: top;\n",
       "    }\n",
       "\n",
       "    .dataframe thead th {\n",
       "        text-align: right;\n",
       "    }\n",
       "</style>\n",
       "<table border=\"1\" class=\"dataframe\">\n",
       "  <thead>\n",
       "    <tr style=\"text-align: right;\">\n",
       "      <th></th>\n",
       "      <th>date</th>\n",
       "      <th>open</th>\n",
       "      <th>high</th>\n",
       "      <th>low</th>\n",
       "      <th>close</th>\n",
       "      <th>volume</th>\n",
       "      <th>profit or not</th>\n",
       "    </tr>\n",
       "  </thead>\n",
       "  <tbody>\n",
       "    <tr>\n",
       "      <th>0</th>\n",
       "      <td>12-12-1980</td>\n",
       "      <td>0.1003</td>\n",
       "      <td>0.1007</td>\n",
       "      <td>0.1003</td>\n",
       "      <td>0.1003</td>\n",
       "      <td>469033600</td>\n",
       "      <td>0</td>\n",
       "    </tr>\n",
       "    <tr>\n",
       "      <th>1</th>\n",
       "      <td>15-12-1980</td>\n",
       "      <td>0.0955</td>\n",
       "      <td>0.0955</td>\n",
       "      <td>0.0951</td>\n",
       "      <td>0.0951</td>\n",
       "      <td>175884800</td>\n",
       "      <td>1</td>\n",
       "    </tr>\n",
       "    <tr>\n",
       "      <th>2</th>\n",
       "      <td>16-12-1980</td>\n",
       "      <td>0.0885</td>\n",
       "      <td>0.0885</td>\n",
       "      <td>0.0881</td>\n",
       "      <td>0.0881</td>\n",
       "      <td>105728000</td>\n",
       "      <td>1</td>\n",
       "    </tr>\n",
       "    <tr>\n",
       "      <th>3</th>\n",
       "      <td>17-12-1980</td>\n",
       "      <td>0.0902</td>\n",
       "      <td>0.0907</td>\n",
       "      <td>0.0902</td>\n",
       "      <td>0.0902</td>\n",
       "      <td>86441600</td>\n",
       "      <td>0</td>\n",
       "    </tr>\n",
       "    <tr>\n",
       "      <th>4</th>\n",
       "      <td>18-12-1980</td>\n",
       "      <td>0.0929</td>\n",
       "      <td>0.0933</td>\n",
       "      <td>0.0929</td>\n",
       "      <td>0.0929</td>\n",
       "      <td>73449600</td>\n",
       "      <td>0</td>\n",
       "    </tr>\n",
       "  </tbody>\n",
       "</table>\n",
       "</div>"
      ],
      "text/plain": [
       "         date    open    high     low   close     volume  profit or not\n",
       "0  12-12-1980  0.1003  0.1007  0.1003  0.1003  469033600              0\n",
       "1  15-12-1980  0.0955  0.0955  0.0951  0.0951  175884800              1\n",
       "2  16-12-1980  0.0885  0.0885  0.0881  0.0881  105728000              1\n",
       "3  17-12-1980  0.0902  0.0907  0.0902  0.0902   86441600              0\n",
       "4  18-12-1980  0.0929  0.0933  0.0929  0.0929   73449600              0"
      ]
     },
     "execution_count": 11,
     "metadata": {},
     "output_type": "execute_result"
    }
   ],
   "source": [
    "df.head()"
   ]
  },
  {
   "cell_type": "code",
   "execution_count": 7,
   "id": "48af044c",
   "metadata": {},
   "outputs": [
    {
     "data": {
      "text/plain": [
       "array([      nan, 1.838e+01, 9.216e+02, 3.233e+04, 3.133e+04, 7.373e+02,\n",
       "       4.716e+02, 4.394e+03, 8.064e+02, 1.670e+02, 5.888e+02, 7.219e+02,\n",
       "       3.271e+04, 3.333e+03, 2.818e+04, 1.837e+02, 8.448e+03, 3.124e+04,\n",
       "       8.641e+01, 7.680e+02, 5.834e+03, 1.647e+03, 5.215e+03, 5.095e+03,\n",
       "       3.888e+01, 1.413e+04, 6.912e+02, 5.530e+02, 9.331e+03, 6.836e+01,\n",
       "       2.230e+04, 3.331e+03, 9.101e+03, 2.515e+02, 3.341e+01, 1.874e+01,\n",
       "       2.820e+03, 5.699e+03, 1.509e+04, 1.536e+03, 8.192e+03, 8.909e+03,\n",
       "       1.766e+03, 8.018e+03, 8.138e+03, 6.083e+03, 2.936e+01, 2.255e+03,\n",
       "       1.913e+01, 1.677e+02, 2.253e+03, 1.951e+04, 6.832e+01, 1.655e+01,\n",
       "       7.728e+02, 1.032e+04, 9.769e+03, 4.785e+03, 2.074e+04, 1.248e+03,\n",
       "       4.874e+03, 2.961e+03, 3.942e+03, 5.728e+03, 1.211e+03, 1.174e+02,\n",
       "       1.887e+03, 9.216e+03, 1.386e+02, 4.860e+01, 1.597e+04, 1.715e+02,\n",
       "       3.674e+01, 2.777e+04, 5.702e+02, 2.970e+03, 1.917e+04, 1.024e+03,\n",
       "       1.762e+01, 2.115e+03, 4.096e+03, 1.290e+04, 2.304e+03, 1.475e+04,\n",
       "       4.762e+03, 1.002e+01, 6.513e+04, 1.905e+04, 1.536e+02, 1.071e+03,\n",
       "       8.640e+02, 3.290e+03, 1.843e+03, 7.797e+04, 1.559e+03, 1.060e+04,\n",
       "       2.875e+04, 1.849e+03, 6.149e+01, 3.723e+03, 2.458e+04, 4.648e+01,\n",
       "       2.571e+04, 3.297e+03, 2.048e+04, 1.279e+02, 1.393e+03, 1.255e+02,\n",
       "       6.144e+03, 7.688e+02, 4.329e+03, 1.898e+01, 3.664e+03, 2.175e+04,\n",
       "       1.289e+04, 1.535e+04, 1.424e+04, 1.690e+03, 2.496e+02, 7.864e+02,\n",
       "       2.106e+03, 1.244e+04, 3.492e+03, 1.097e+03, 6.400e+03, 2.189e+03,\n",
       "       2.688e+04, 1.246e+01, 3.584e+03, 5.530e+03, 4.000e+04, 1.613e+03,\n",
       "       4.399e+03, 2.309e+01, 2.150e+03, 2.986e+01, 1.530e+04, 4.608e+03,\n",
       "       2.419e+03, 4.608e+02, 5.557e+04, 1.092e+04, 1.371e+03, 1.792e+04,\n",
       "       1.080e+04, 4.963e+03, 2.980e+04, 1.493e+04, 1.346e+02, 2.458e+03,\n",
       "       4.147e+04, 2.643e+04, 1.186e+02, 1.898e+04, 3.558e+04, 7.603e+03,\n",
       "       1.683e+02, 2.588e+03, 8.678e+03, 9.265e+03, 1.012e+02, 2.430e+01,\n",
       "       1.327e+04, 5.645e+03, 8.396e+03, 8.448e+02, 1.198e+04, 6.129e+03,\n",
       "       2.826e+04, 7.311e+03, 5.682e+03, 7.450e+02, 1.868e+01, 2.429e+04,\n",
       "       3.456e+02, 2.690e+04, 5.972e+01, 1.438e+04, 7.526e+02, 5.914e+03,\n",
       "       1.974e+02, 6.877e+01, 4.032e+02, 1.039e+04, 8.912e+01, 2.748e+04,\n",
       "       2.150e+04, 9.846e+03, 9.224e+02, 3.686e+03, 4.570e+03, 6.871e+01,\n",
       "       1.865e+04, 3.530e+03, 3.476e+03, 3.656e+03, 3.892e+03, 6.680e+01,\n",
       "       2.621e+04, 3.332e+04, 2.642e+04, 6.534e+02, 1.792e+02, 1.121e+03,\n",
       "       6.175e+03, 7.296e+02, 2.611e+04, 1.691e+03, 1.151e+03, 1.166e+04,\n",
       "       2.960e+01, 1.005e+04, 9.574e+03, 1.398e+02, 2.977e+04, 1.436e+04,\n",
       "       1.872e+04, 2.462e+03, 2.089e+04, 3.973e+03, 5.259e+03, 4.940e+03,\n",
       "       3.482e+03, 3.643e+01, 2.816e+03, 6.569e+03, 4.736e+01, 2.460e+03,\n",
       "       2.067e+04, 2.867e+03, 1.183e+04, 1.306e+03, 6.528e+02, 7.987e+03,\n",
       "       5.700e+03, 2.405e+04, 6.144e+02, 7.795e+02, 1.792e+01, 1.846e+05,\n",
       "       6.359e+03, 5.000e+03, 3.262e+04, 1.214e+01, 5.967e+03, 4.608e+04,\n",
       "       1.521e+04, 2.949e+04, 2.109e+04, 9.984e+02, 3.152e+04, 3.379e+03,\n",
       "       2.910e+01, 9.638e+01, 1.772e+02, 1.966e+03, 2.611e+03, 7.168e+03,\n",
       "       7.862e+01, 2.192e+03, 1.341e+04, 2.166e+01, 1.590e+04, 3.960e+03,\n",
       "       1.638e+04, 8.202e+03, 2.122e+04, 2.212e+04, 1.247e+03, 1.274e+04,\n",
       "       1.812e+04, 3.226e+03, 5.069e+03, 1.348e+03, 2.986e+04, 2.560e+03,\n",
       "       2.014e+04, 8.602e+03, 3.461e+01, 1.385e+03, 5.100e+03, 1.010e+02,\n",
       "       4.489e+03, 1.658e+03, 8.013e+03, 1.045e+04, 8.826e+01, 6.636e+03,\n",
       "       2.533e+04, 1.240e+03, 1.585e+04, 1.040e+02, 1.094e+04, 3.252e+02,\n",
       "       1.037e+04, 6.075e+03, 1.733e+04, 1.225e+01, 4.320e+02, 2.058e+04,\n",
       "       3.763e+03, 2.056e+03, 2.028e+04, 1.087e+04, 1.659e+04, 2.995e+03,\n",
       "       1.313e+03, 3.903e+03, 8.832e+03, 1.858e+03, 6.205e+03, 3.523e+03,\n",
       "       1.500e+03, 1.387e+02, 1.620e+04, 7.537e+03, 8.464e+02, 5.299e+03,\n",
       "       1.321e+04, 1.053e+02, 2.682e+04, 8.456e+02, 2.278e+01, 5.920e+01,\n",
       "       1.898e+02, 3.648e+02, 3.410e+04, 8.288e+01, 4.322e+03, 1.331e+03,\n",
       "       3.098e+01, 3.968e+03, 6.390e+03, 3.774e+04, 6.001e+03, 4.915e+03,\n",
       "       1.278e+04, 1.792e+03, 7.119e+03, 3.857e+01, 2.031e+04, 5.107e+03,\n",
       "       2.227e+01, 1.505e+03])"
      ]
     },
     "execution_count": 7,
     "metadata": {},
     "output_type": "execute_result"
    }
   ],
   "source": [
    "df['FP16 GFLOPS'].unique()"
   ]
  },
  {
   "cell_type": "code",
   "execution_count": null,
   "id": "3504b05e",
   "metadata": {},
   "outputs": [],
   "source": []
  },
  {
   "cell_type": "code",
   "execution_count": null,
   "id": "139bac3b",
   "metadata": {},
   "outputs": [],
   "source": []
  },
  {
   "cell_type": "code",
   "execution_count": null,
   "id": "483fed9e",
   "metadata": {},
   "outputs": [],
   "source": []
  }
 ],
 "metadata": {
  "kernelspec": {
   "display_name": "Python 3 (ipykernel)",
   "language": "python",
   "name": "python3"
  },
  "language_info": {
   "codemirror_mode": {
    "name": "ipython",
    "version": 3
   },
   "file_extension": ".py",
   "mimetype": "text/x-python",
   "name": "python",
   "nbconvert_exporter": "python",
   "pygments_lexer": "ipython3",
   "version": "3.9.12"
  }
 },
 "nbformat": 4,
 "nbformat_minor": 5
}
