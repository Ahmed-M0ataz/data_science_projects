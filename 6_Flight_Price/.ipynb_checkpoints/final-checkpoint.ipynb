{
 "cells": [
  {
   "cell_type": "code",
   "execution_count": 1,
   "id": "c297249e",
   "metadata": {},
   "outputs": [
    {
     "name": "stderr",
     "output_type": "stream",
     "text": [
      "C:\\Users\\Ahmed_Moataz\\anaconda3\\lib\\site-packages\\scipy\\__init__.py:146: UserWarning: A NumPy version >=1.16.5 and <1.23.0 is required for this version of SciPy (detected version 1.23.4\n",
      "  warnings.warn(f\"A NumPy version >={np_minversion} and <{np_maxversion}\"\n"
     ]
    }
   ],
   "source": [
    "import pandas as pd\n",
    "import numpy as np\n",
    "import plotly.express as px\n",
    "from sklearn.model_selection import train_test_split\n",
    "from category_encoders import OneHotEncoder\n",
    "from category_encoders import BinaryEncoder\n",
    "\n",
    "from sklearn.neighbors import KNeighborsClassifier\n",
    "\n",
    "from sklearn.model_selection import GridSearchCV\n",
    "from sklearn.linear_model import LinearRegression, Ridge, Lasso\n",
    "from sklearn.tree import DecisionTreeRegressor\n",
    "from sklearn.svm import SVR\n",
    "from sklearn.ensemble import RandomForestRegressor\n",
    "from sklearn.metrics import r2_score ,accuracy_score\n"
   ]
  },
  {
   "cell_type": "code",
   "execution_count": 2,
   "id": "fd63ac77",
   "metadata": {},
   "outputs": [],
   "source": [
    "def wrangle(link):\n",
    "    df = pd.read_excel(link)\n",
    "    df.dropna(inplace = True)    \n",
    "    \n",
    "    # get arrived time by hour\n",
    "    df[\"Arrival_Time_hour\"] = pd.to_datetime(df[\"Arrival_Time\"].str.split(\" \", expand = True)[0]).dt.time\n",
    "    df[\"Dep_Time\"] = pd.to_datetime(df[\"Dep_Time\"]).dt.hour\n",
    "    \n",
    "#     get duration integer by hour from Duration\n",
    "    df['hours'] = df[\"Duration\"].str.split(\" \",expand = True,)[0].str[:-1].astype(int)\n",
    "    df[\"min\"] = df[\"Duration\"].str.split(\" \",expand = True)[1].str[:-1]\n",
    "    # fill NaN values with 0\n",
    "\n",
    "    df['min'].fillna(0, inplace=True)\n",
    "    df['min'] = df['min'].astype(int)\n",
    "    # combine hours and minutes into a single column\n",
    "    df['duration'] = df.apply(lambda x: x['hours'] + x['min'] / 60, axis=1)\n",
    "\n",
    "    # drop original columns\n",
    "    df.drop(['hours', 'min','Arrival_Time',\"Duration\"], axis=1, inplace=True)\n",
    "    \n",
    "    # edit in total stops non-stop to 0 stop\n",
    "    index_non_stop  = df[df['Total_Stops'] == 'non-stop'].index\n",
    "    df.loc[index_non_stop,\"Total_Stops\"] = \"0 stops\"\n",
    "    \n",
    "    # make total stops numbers\n",
    "    df['Total_Stops'] = df['Total_Stops'].str.split(\" \",expand = True)[0].astype(int)\n",
    "    \n",
    "    #drop Additional_Info becouse no info most the column\n",
    "    df.drop(['Additional_Info'], axis=1, inplace=True)\n",
    "    #drop Route not intersted\n",
    "    df.drop(['Route'], axis=1, inplace=True)\n",
    "    # handle date of journy i found the year  just 2019 and the months 3,5,6,4 and that is unusfull not good\n",
    "    df.drop(['Date_of_Journey'], axis=1, inplace=True)\n",
    "    \n",
    "    # handle Dep_Time to make parts in day\n",
    "    def get_part_of_day(hour):\n",
    "        if 5 <= hour < 12:\n",
    "            return 'morning'\n",
    "        elif 12 <= hour < 17:\n",
    "            return 'afternoon'\n",
    "        elif 17 <= hour < 21:\n",
    "            return 'evening'\n",
    "        else:\n",
    "            return 'night'\n",
    "\n",
    "    # apply function to datetime column and create new column for part of day\n",
    "    df['part_of_day'] = df['Dep_Time'].apply(lambda x: get_part_of_day(x))\n",
    "    \n",
    "    df.drop(['Dep_Time','Arrival_Time_hour'], axis=1, inplace=True)\n",
    "    return df"
   ]
  },
  {
   "cell_type": "code",
   "execution_count": 3,
   "id": "987bce4c",
   "metadata": {},
   "outputs": [],
   "source": [
    "df = wrangle(\"Data_Train.xlsx\")"
   ]
  },
  {
   "cell_type": "code",
   "execution_count": 4,
   "id": "b2cc3c4f",
   "metadata": {},
   "outputs": [
    {
     "data": {
      "text/html": [
       "<div>\n",
       "<style scoped>\n",
       "    .dataframe tbody tr th:only-of-type {\n",
       "        vertical-align: middle;\n",
       "    }\n",
       "\n",
       "    .dataframe tbody tr th {\n",
       "        vertical-align: top;\n",
       "    }\n",
       "\n",
       "    .dataframe thead th {\n",
       "        text-align: right;\n",
       "    }\n",
       "</style>\n",
       "<table border=\"1\" class=\"dataframe\">\n",
       "  <thead>\n",
       "    <tr style=\"text-align: right;\">\n",
       "      <th></th>\n",
       "      <th>Airline</th>\n",
       "      <th>Source</th>\n",
       "      <th>Destination</th>\n",
       "      <th>Total_Stops</th>\n",
       "      <th>Price</th>\n",
       "      <th>duration</th>\n",
       "      <th>part_of_day</th>\n",
       "    </tr>\n",
       "  </thead>\n",
       "  <tbody>\n",
       "    <tr>\n",
       "      <th>0</th>\n",
       "      <td>IndiGo</td>\n",
       "      <td>Banglore</td>\n",
       "      <td>New Delhi</td>\n",
       "      <td>0</td>\n",
       "      <td>3897</td>\n",
       "      <td>2.833333</td>\n",
       "      <td>night</td>\n",
       "    </tr>\n",
       "    <tr>\n",
       "      <th>1</th>\n",
       "      <td>Air India</td>\n",
       "      <td>Kolkata</td>\n",
       "      <td>Banglore</td>\n",
       "      <td>2</td>\n",
       "      <td>7662</td>\n",
       "      <td>7.416667</td>\n",
       "      <td>morning</td>\n",
       "    </tr>\n",
       "    <tr>\n",
       "      <th>2</th>\n",
       "      <td>Jet Airways</td>\n",
       "      <td>Delhi</td>\n",
       "      <td>Cochin</td>\n",
       "      <td>2</td>\n",
       "      <td>13882</td>\n",
       "      <td>19.000000</td>\n",
       "      <td>morning</td>\n",
       "    </tr>\n",
       "    <tr>\n",
       "      <th>3</th>\n",
       "      <td>IndiGo</td>\n",
       "      <td>Kolkata</td>\n",
       "      <td>Banglore</td>\n",
       "      <td>1</td>\n",
       "      <td>6218</td>\n",
       "      <td>5.416667</td>\n",
       "      <td>evening</td>\n",
       "    </tr>\n",
       "    <tr>\n",
       "      <th>4</th>\n",
       "      <td>IndiGo</td>\n",
       "      <td>Banglore</td>\n",
       "      <td>New Delhi</td>\n",
       "      <td>1</td>\n",
       "      <td>13302</td>\n",
       "      <td>4.750000</td>\n",
       "      <td>afternoon</td>\n",
       "    </tr>\n",
       "  </tbody>\n",
       "</table>\n",
       "</div>"
      ],
      "text/plain": [
       "       Airline    Source Destination  Total_Stops  Price   duration  \\\n",
       "0       IndiGo  Banglore   New Delhi            0   3897   2.833333   \n",
       "1    Air India   Kolkata    Banglore            2   7662   7.416667   \n",
       "2  Jet Airways     Delhi      Cochin            2  13882  19.000000   \n",
       "3       IndiGo   Kolkata    Banglore            1   6218   5.416667   \n",
       "4       IndiGo  Banglore   New Delhi            1  13302   4.750000   \n",
       "\n",
       "  part_of_day  \n",
       "0       night  \n",
       "1     morning  \n",
       "2     morning  \n",
       "3     evening  \n",
       "4   afternoon  "
      ]
     },
     "execution_count": 4,
     "metadata": {},
     "output_type": "execute_result"
    }
   ],
   "source": [
    "df.head()"
   ]
  },
  {
   "cell_type": "code",
   "execution_count": 5,
   "id": "40edb844",
   "metadata": {},
   "outputs": [
    {
     "name": "stdout",
     "output_type": "stream",
     "text": [
      "<class 'pandas.core.frame.DataFrame'>\n",
      "Int64Index: 10682 entries, 0 to 10682\n",
      "Data columns (total 7 columns):\n",
      " #   Column       Non-Null Count  Dtype  \n",
      "---  ------       --------------  -----  \n",
      " 0   Airline      10682 non-null  object \n",
      " 1   Source       10682 non-null  object \n",
      " 2   Destination  10682 non-null  object \n",
      " 3   Total_Stops  10682 non-null  int32  \n",
      " 4   Price        10682 non-null  int64  \n",
      " 5   duration     10682 non-null  float64\n",
      " 6   part_of_day  10682 non-null  object \n",
      "dtypes: float64(1), int32(1), int64(1), object(4)\n",
      "memory usage: 883.9+ KB\n"
     ]
    }
   ],
   "source": [
    "df.info()"
   ]
  },
  {
   "cell_type": "code",
   "execution_count": 6,
   "id": "b3244395",
   "metadata": {},
   "outputs": [],
   "source": [
    "def get_best_regression_model(df):\n",
    "   \n",
    "    #encoding\n",
    "    cat_df = df.select_dtypes(\"object\") \n",
    "    \n",
    "    ohe = OneHotEncoder()\n",
    "    ohe.fit(cat_df)\n",
    "    cat_df_trans = ohe.transform(cat_df)\n",
    "        \n",
    "    df.drop(columns =cat_df.columns, inplace = True)\n",
    "    \n",
    "    df = pd.concat([cat_df_trans,df],axis=1) \n",
    "     # split\n",
    "    X = df.drop(columns = ['Price'])\n",
    "    y = df[\"Price\"]\n",
    "    # Split the dataset into training and testing sets\n",
    "    X_train, X_test, y_train, y_test = train_test_split(X, y, test_size=0.2, random_state=42)\n",
    "    \n",
    "    # Define a list of regression models to evaluate\n",
    "    models = [\n",
    "        LinearRegression(),\n",
    "        DecisionTreeRegressor(),\n",
    "        Ridge(),\n",
    "        Lasso(),\n",
    "        SVR(),\n",
    "        RandomForestRegressor()\n",
    "    ]\n",
    "    \n",
    "    # Train and evaluate each model\n",
    "    best_model = None\n",
    "    best_score = -float('inf')\n",
    "    for model in models:\n",
    "        model.fit(X_train, y_train)\n",
    "        y_pred = model.predict(X_test)\n",
    "        score = r2_score(y_test, y_pred)\n",
    "        print(f\"{type(model).__name__} Accuracy: {score}\")\n",
    "        \n",
    "        if score > best_score:\n",
    "            best_score = score\n",
    "            best_model = model\n",
    "    \n",
    "    print(f\"\\nBest model: {type(best_model).__name__} with accuracy {best_score}\")\n",
    "    return best_model"
   ]
  },
  {
   "cell_type": "code",
   "execution_count": 7,
   "id": "067d8112",
   "metadata": {},
   "outputs": [
    {
     "name": "stdout",
     "output_type": "stream",
     "text": [
      "LinearRegression Accuracy: 0.5909845227454431\n",
      "DecisionTreeRegressor Accuracy: 0.5798649236683693\n",
      "Ridge Accuracy: 0.5903908741165337\n"
     ]
    },
    {
     "name": "stderr",
     "output_type": "stream",
     "text": [
      "C:\\Users\\Ahmed_Moataz\\anaconda3\\lib\\site-packages\\category_encoders\\one_hot.py:145: FutureWarning: iteritems is deprecated and will be removed in a future version. Use .items instead.\n",
      "  for cat_name, class_ in values.iteritems():\n",
      "C:\\Users\\Ahmed_Moataz\\anaconda3\\lib\\site-packages\\category_encoders\\one_hot.py:145: FutureWarning: iteritems is deprecated and will be removed in a future version. Use .items instead.\n",
      "  for cat_name, class_ in values.iteritems():\n",
      "C:\\Users\\Ahmed_Moataz\\anaconda3\\lib\\site-packages\\category_encoders\\one_hot.py:145: FutureWarning: iteritems is deprecated and will be removed in a future version. Use .items instead.\n",
      "  for cat_name, class_ in values.iteritems():\n",
      "C:\\Users\\Ahmed_Moataz\\anaconda3\\lib\\site-packages\\category_encoders\\one_hot.py:145: FutureWarning: iteritems is deprecated and will be removed in a future version. Use .items instead.\n",
      "  for cat_name, class_ in values.iteritems():\n",
      "C:\\Users\\Ahmed_Moataz\\anaconda3\\lib\\site-packages\\sklearn\\linear_model\\_coordinate_descent.py:647: ConvergenceWarning: Objective did not converge. You might want to increase the number of iterations, check the scale of the features or consider increasing regularisation. Duality gap: 2.006e+07, tolerance: 1.811e+07\n",
      "  model = cd_fast.enet_coordinate_descent(\n"
     ]
    },
    {
     "name": "stdout",
     "output_type": "stream",
     "text": [
      "Lasso Accuracy: 0.5907440286353451\n",
      "SVR Accuracy: 0.1561416646647359\n",
      "RandomForestRegressor Accuracy: 0.586595784231161\n",
      "\n",
      "Best model: LinearRegression with accuracy 0.5909845227454431\n"
     ]
    },
    {
     "data": {
      "text/plain": [
       "LinearRegression()"
      ]
     },
     "execution_count": 7,
     "metadata": {},
     "output_type": "execute_result"
    }
   ],
   "source": [
    "get_best_regression_model(df)"
   ]
  },
  {
   "cell_type": "code",
   "execution_count": null,
   "id": "d2e03a22",
   "metadata": {},
   "outputs": [],
   "source": []
  }
 ],
 "metadata": {
  "kernelspec": {
   "display_name": "Python 3 (ipykernel)",
   "language": "python",
   "name": "python3"
  },
  "language_info": {
   "codemirror_mode": {
    "name": "ipython",
    "version": 3
   },
   "file_extension": ".py",
   "mimetype": "text/x-python",
   "name": "python",
   "nbconvert_exporter": "python",
   "pygments_lexer": "ipython3",
   "version": "3.9.12"
  }
 },
 "nbformat": 4,
 "nbformat_minor": 5
}
