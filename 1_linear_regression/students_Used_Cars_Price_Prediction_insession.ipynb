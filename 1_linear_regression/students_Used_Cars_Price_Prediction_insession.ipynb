{
 "cells": [
  {
   "cell_type": "markdown",
   "id": "99f6df16",
   "metadata": {
    "id": "99f6df16"
   },
   "source": [
    "# Outlines \n",
    "#### 1. Data cleaning \n",
    "#### 2. feature engineering \n",
    "#### 3. Getting more insights \n",
    "#### 4. Data Pre-processing\n",
    "      - Splitting  \n",
    "      - fearure transformation \n",
    "#### 5. modeling \n",
    "#### 6. evalution "
   ]
  },
  {
   "cell_type": "code",
   "execution_count": 1,
   "id": "c2912e5d",
   "metadata": {
    "id": "c2912e5d"
   },
   "outputs": [],
   "source": [
    "# Importings\n",
    "import pandas as pd\n",
    "import plotly.express as px\n",
    "import matplotlib.pyplot as plt\n",
    "from sklearn.linear_model import LinearRegression\n",
    "\n",
    "import seaborn as sns\n",
    "from datasist.structdata import detect_outliers\n",
    "from category_encoders import OneHotEncoder, BinaryEncoder\n",
    "from sklearn.model_selection import train_test_split\n",
    "from sklearn.metrics import mean_absolute_error"
   ]
  },
  {
   "cell_type": "code",
   "execution_count": 2,
   "id": "7ea39d9f",
   "metadata": {
    "id": "7ea39d9f"
   },
   "outputs": [],
   "source": [
    "#read data\n",
    "df = pd.read_csv('train.csv')"
   ]
  },
  {
   "cell_type": "markdown",
   "id": "4b3cf38d",
   "metadata": {
    "id": "4b3cf38d"
   },
   "source": [
    "# 1. Data cleaning \n"
   ]
  },
  {
   "cell_type": "markdown",
   "id": "d47b30df",
   "metadata": {
    "id": "d47b30df"
   },
   "source": [
    "### 1.1 Investegation "
   ]
  },
  {
   "cell_type": "code",
   "execution_count": null,
   "id": "5551d048",
   "metadata": {
    "id": "5551d048",
    "scrolled": true
   },
   "outputs": [],
   "source": []
  },
  {
   "cell_type": "code",
   "execution_count": null,
   "id": "d9c3282a",
   "metadata": {
    "id": "d9c3282a",
    "scrolled": false
   },
   "outputs": [],
   "source": []
  },
  {
   "cell_type": "code",
   "execution_count": null,
   "id": "a274e878",
   "metadata": {
    "id": "a274e878"
   },
   "outputs": [],
   "source": []
  },
  {
   "cell_type": "markdown",
   "id": "9712eb61",
   "metadata": {
    "id": "9712eb61"
   },
   "source": [
    "#### Notes \n",
    "- Numerical values mixed with text in (Mileage, Engine, Power) columns. \n",
    "    - in Milage column we have 2 units (kmpl & km/kg)\n",
    "- Most of New_Price Column is null values (so, we have 2 solution.) \n",
    "    - remove it or scrap some data to fill it. \n",
    "- Null values values in other columns \n",
    "- Seats columns have some values with Zero !! \n",
    "- duplicated rows founded \n",
    "- Power column have values \"null bhp\" "
   ]
  },
  {
   "cell_type": "markdown",
   "id": "830aeaec",
   "metadata": {
    "id": "830aeaec"
   },
   "source": [
    "###  1.2 Working with data issues "
   ]
  },
  {
   "cell_type": "markdown",
   "id": "04f9b3c1",
   "metadata": {
    "id": "04f9b3c1"
   },
   "source": [
    "> Dropping duplicated columns "
   ]
  },
  {
   "cell_type": "code",
   "execution_count": null,
   "id": "9820e5e9",
   "metadata": {
    "id": "9820e5e9"
   },
   "outputs": [],
   "source": []
  },
  {
   "cell_type": "markdown",
   "id": "166cde13",
   "metadata": {
    "id": "166cde13"
   },
   "source": [
    "> Drop \"New_Price\" column because most of them is null \n"
   ]
  },
  {
   "cell_type": "code",
   "execution_count": null,
   "id": "57feb81f",
   "metadata": {
    "id": "57feb81f"
   },
   "outputs": [],
   "source": []
  },
  {
   "cell_type": "markdown",
   "id": "71e86dac",
   "metadata": {
    "id": "71e86dac"
   },
   "source": [
    "> Why did I choose to remove Null values and not to replace it ? \n",
    "- That's simply because this columns need to be fixed and we cannot calculate any value before we fix it. \n",
    "- another solution is to make a place holder and replace it after fixing data, (Your desicion id depende on the time) "
   ]
  },
  {
   "cell_type": "code",
   "execution_count": null,
   "id": "fa1652a0",
   "metadata": {
    "id": "fa1652a0"
   },
   "outputs": [],
   "source": []
  },
  {
   "cell_type": "code",
   "execution_count": null,
   "id": "0eefd813",
   "metadata": {
    "id": "0eefd813"
   },
   "outputs": [],
   "source": []
  },
  {
   "cell_type": "code",
   "execution_count": null,
   "id": "62761d9e",
   "metadata": {
    "id": "62761d9e"
   },
   "outputs": [],
   "source": []
  },
  {
   "cell_type": "code",
   "execution_count": null,
   "id": "ce335b4a",
   "metadata": {
    "id": "ce335b4a"
   },
   "outputs": [],
   "source": []
  },
  {
   "cell_type": "markdown",
   "id": "990d8647",
   "metadata": {
    "id": "990d8647"
   },
   "source": [
    "- (KMPL) is refered to Kilometers Per Litre\n",
    "- (km/kg) is refered to kilometers Per kilogram\n",
    "> 1 liter  = 1 kilogram \n",
    "- Reference : https://en.wikipedia.org/wiki/Litre"
   ]
  },
  {
   "cell_type": "code",
   "execution_count": null,
   "id": "32db913b",
   "metadata": {
    "id": "32db913b"
   },
   "outputs": [],
   "source": []
  },
  {
   "cell_type": "code",
   "execution_count": null,
   "id": "e89a5306",
   "metadata": {
    "id": "e89a5306"
   },
   "outputs": [],
   "source": []
  },
  {
   "cell_type": "markdown",
   "id": "2b92bf9a",
   "metadata": {
    "id": "2b92bf9a"
   },
   "source": [
    "#### values health checking "
   ]
  },
  {
   "cell_type": "code",
   "execution_count": null,
   "id": "5a1d70ae",
   "metadata": {
    "id": "5a1d70ae"
   },
   "outputs": [],
   "source": []
  },
  {
   "cell_type": "code",
   "execution_count": null,
   "id": "e820a5e3",
   "metadata": {
    "id": "e820a5e3"
   },
   "outputs": [],
   "source": []
  },
  {
   "cell_type": "markdown",
   "id": "17cf3106",
   "metadata": {
    "id": "17cf3106"
   },
   "source": [
    "___________________________________"
   ]
  },
  {
   "cell_type": "markdown",
   "id": "9747fb98",
   "metadata": {
    "id": "9747fb98"
   },
   "source": [
    "# 2. Feature Engineering"
   ]
  },
  {
   "cell_type": "code",
   "execution_count": null,
   "id": "e72feae8",
   "metadata": {
    "id": "e72feae8"
   },
   "outputs": [],
   "source": [
    "# Check Name column uniques \n"
   ]
  },
  {
   "cell_type": "code",
   "execution_count": null,
   "id": "fc3a8c83",
   "metadata": {
    "id": "fc3a8c83"
   },
   "outputs": [],
   "source": []
  },
  {
   "cell_type": "markdown",
   "id": "2dac0238",
   "metadata": {
    "id": "2dac0238"
   },
   "source": [
    ">  \"Name\" feature has no affect that's because it has so many unique values \n",
    "- So let's make it useful and impactful "
   ]
  },
  {
   "cell_type": "code",
   "execution_count": null,
   "id": "82a8c777",
   "metadata": {
    "id": "82a8c777"
   },
   "outputs": [],
   "source": []
  },
  {
   "cell_type": "markdown",
   "id": "01a1c4e8",
   "metadata": {
    "id": "01a1c4e8"
   },
   "source": [
    "> We can notice that the first word of the name is (Brand), so let's get it "
   ]
  },
  {
   "cell_type": "code",
   "execution_count": null,
   "id": "f1842d86",
   "metadata": {
    "id": "f1842d86"
   },
   "outputs": [],
   "source": []
  },
  {
   "cell_type": "code",
   "execution_count": null,
   "id": "624eeaa7",
   "metadata": {
    "id": "624eeaa7"
   },
   "outputs": [],
   "source": []
  },
  {
   "cell_type": "markdown",
   "id": "11b0c18b",
   "metadata": {
    "id": "11b0c18b"
   },
   "source": [
    "- A huge difference here, From this columns we can make a big affect. "
   ]
  },
  {
   "cell_type": "markdown",
   "id": "ac38cfa9",
   "metadata": {
    "id": "ac38cfa9"
   },
   "source": [
    "> Another observation that first two word can express wich car we want. \n",
    "- So, let's change name column with just first 2 words. "
   ]
  },
  {
   "cell_type": "code",
   "execution_count": null,
   "id": "313e74dc",
   "metadata": {
    "id": "313e74dc"
   },
   "outputs": [],
   "source": []
  },
  {
   "cell_type": "code",
   "execution_count": null,
   "id": "5ade2072",
   "metadata": {
    "id": "5ade2072"
   },
   "outputs": [],
   "source": []
  },
  {
   "cell_type": "markdown",
   "id": "f34a15fd",
   "metadata": {
    "id": "f34a15fd"
   },
   "source": [
    "- That's great, Now we can make an affect with name column. "
   ]
  },
  {
   "cell_type": "code",
   "execution_count": null,
   "id": "675b772d",
   "metadata": {
    "id": "675b772d"
   },
   "outputs": [],
   "source": []
  },
  {
   "cell_type": "markdown",
   "id": "866595bd",
   "metadata": {
    "id": "866595bd"
   },
   "source": [
    "________________________"
   ]
  },
  {
   "cell_type": "code",
   "execution_count": null,
   "id": "7c49fcb1",
   "metadata": {
    "id": "7c49fcb1"
   },
   "outputs": [],
   "source": []
  },
  {
   "cell_type": "code",
   "execution_count": null,
   "id": "995ab2b8",
   "metadata": {
    "id": "995ab2b8"
   },
   "outputs": [],
   "source": []
  },
  {
   "cell_type": "code",
   "execution_count": null,
   "id": "6d666058",
   "metadata": {
    "id": "6d666058"
   },
   "outputs": [],
   "source": []
  },
  {
   "cell_type": "markdown",
   "id": "00764606",
   "metadata": {
    "id": "00764606"
   },
   "source": [
    "________________________"
   ]
  },
  {
   "cell_type": "markdown",
   "id": "8ba07123",
   "metadata": {
    "id": "8ba07123"
   },
   "source": [
    "# 3. Data understanding "
   ]
  },
  {
   "cell_type": "markdown",
   "id": "b30029b6",
   "metadata": {
    "id": "b30029b6"
   },
   "source": [
    "### 3.1 Univariate analysis "
   ]
  },
  {
   "cell_type": "code",
   "execution_count": null,
   "id": "a34a01a1",
   "metadata": {
    "id": "a34a01a1"
   },
   "outputs": [],
   "source": []
  },
  {
   "cell_type": "code",
   "execution_count": null,
   "id": "255e1e29",
   "metadata": {
    "id": "255e1e29"
   },
   "outputs": [],
   "source": []
  },
  {
   "cell_type": "code",
   "execution_count": null,
   "id": "e7151f82",
   "metadata": {
    "id": "e7151f82"
   },
   "outputs": [],
   "source": []
  },
  {
   "cell_type": "code",
   "execution_count": null,
   "id": "8735624b",
   "metadata": {
    "id": "8735624b"
   },
   "outputs": [],
   "source": []
  },
  {
   "cell_type": "code",
   "execution_count": null,
   "id": "4622f384",
   "metadata": {
    "id": "4622f384"
   },
   "outputs": [],
   "source": []
  },
  {
   "cell_type": "markdown",
   "id": "f946b79e",
   "metadata": {
    "id": "f946b79e"
   },
   "source": [
    "# Remove Outliers to check data distribution "
   ]
  },
  {
   "cell_type": "code",
   "execution_count": null,
   "id": "a34813ba",
   "metadata": {
    "id": "a34813ba"
   },
   "outputs": [],
   "source": []
  },
  {
   "cell_type": "code",
   "execution_count": null,
   "id": "eb0532de",
   "metadata": {
    "id": "eb0532de"
   },
   "outputs": [],
   "source": []
  },
  {
   "cell_type": "code",
   "execution_count": null,
   "id": "b04eac86",
   "metadata": {
    "id": "b04eac86"
   },
   "outputs": [],
   "source": []
  },
  {
   "cell_type": "code",
   "execution_count": null,
   "id": "604f45e3",
   "metadata": {
    "id": "604f45e3"
   },
   "outputs": [],
   "source": []
  },
  {
   "cell_type": "code",
   "execution_count": null,
   "id": "98defa16",
   "metadata": {
    "id": "98defa16"
   },
   "outputs": [],
   "source": []
  },
  {
   "cell_type": "code",
   "execution_count": null,
   "id": "bb9f57d0",
   "metadata": {
    "id": "bb9f57d0"
   },
   "outputs": [],
   "source": []
  },
  {
   "cell_type": "code",
   "execution_count": null,
   "id": "8016e813",
   "metadata": {
    "id": "8016e813"
   },
   "outputs": [],
   "source": []
  },
  {
   "cell_type": "code",
   "execution_count": null,
   "id": "d43b1231",
   "metadata": {
    "id": "d43b1231"
   },
   "outputs": [],
   "source": []
  },
  {
   "cell_type": "markdown",
   "id": "a805b96f",
   "metadata": {
    "id": "a805b96f"
   },
   "source": [
    "### 3.2 Univariate analysis "
   ]
  },
  {
   "cell_type": "markdown",
   "id": "4a7a4a8c",
   "metadata": {
    "id": "4a7a4a8c"
   },
   "source": [
    "- year\n",
    "- kilometers \n",
    "- transmission \n",
    "- brand "
   ]
  },
  {
   "cell_type": "markdown",
   "id": "e4557af4",
   "metadata": {
    "id": "e4557af4"
   },
   "source": [
    "## Data summery : \n",
    "    - Numerical columns follow the gussian distribution, but have Outliers \n",
    "    (My desicion is not to remove it,because it will ne useful)\n",
    "    - The countrt with the most sales spread is `Mumbai` and the least is `Ahmedabad`\n",
    "    - Most of cars is form 2010 and 2015"
   ]
  },
  {
   "cell_type": "code",
   "execution_count": null,
   "id": "9e026c93",
   "metadata": {
    "id": "9e026c93"
   },
   "outputs": [],
   "source": []
  },
  {
   "cell_type": "markdown",
   "id": "6875c168",
   "metadata": {
    "id": "6875c168"
   },
   "source": [
    "________________________"
   ]
  },
  {
   "cell_type": "markdown",
   "id": "ccbbd097",
   "metadata": {
    "id": "ccbbd097"
   },
   "source": [
    "# 4. Data pre-processing"
   ]
  },
  {
   "cell_type": "markdown",
   "id": "3136ee74",
   "metadata": {
    "id": "3136ee74"
   },
   "source": [
    "### 4.1 Data splitting "
   ]
  },
  {
   "cell_type": "code",
   "execution_count": null,
   "id": "4a995b57",
   "metadata": {
    "id": "4a995b57"
   },
   "outputs": [],
   "source": []
  },
  {
   "cell_type": "code",
   "execution_count": null,
   "id": "a4241386",
   "metadata": {
    "id": "a4241386",
    "scrolled": true
   },
   "outputs": [],
   "source": []
  },
  {
   "cell_type": "code",
   "execution_count": null,
   "id": "b8f16b78",
   "metadata": {
    "id": "b8f16b78"
   },
   "outputs": [],
   "source": []
  },
  {
   "cell_type": "markdown",
   "id": "945ebace",
   "metadata": {
    "id": "945ebace"
   },
   "source": [
    "> Why I have started with splliting data  ?\n",
    "- That's to avoid data leakage problem. "
   ]
  },
  {
   "cell_type": "markdown",
   "id": "6a19117b",
   "metadata": {
    "id": "6a19117b"
   },
   "source": [
    "### 4.2 Data transformation "
   ]
  },
  {
   "cell_type": "markdown",
   "id": "757a6686",
   "metadata": {
    "id": "757a6686"
   },
   "source": [
    "#### 4.2.1 Numerical transformation "
   ]
  },
  {
   "cell_type": "code",
   "execution_count": null,
   "id": "3c6bb271",
   "metadata": {
    "id": "3c6bb271"
   },
   "outputs": [],
   "source": []
  },
  {
   "cell_type": "code",
   "execution_count": null,
   "id": "b89eb5fc",
   "metadata": {
    "id": "b89eb5fc"
   },
   "outputs": [],
   "source": []
  },
  {
   "cell_type": "code",
   "execution_count": null,
   "id": "7a6be193",
   "metadata": {
    "id": "7a6be193"
   },
   "outputs": [],
   "source": []
  },
  {
   "cell_type": "code",
   "execution_count": null,
   "id": "c29265f4",
   "metadata": {
    "id": "c29265f4"
   },
   "outputs": [],
   "source": []
  },
  {
   "cell_type": "code",
   "execution_count": null,
   "id": "6b7ca519",
   "metadata": {
    "id": "6b7ca519"
   },
   "outputs": [],
   "source": []
  },
  {
   "cell_type": "markdown",
   "id": "edd92963",
   "metadata": {
    "id": "edd92963"
   },
   "source": [
    "#### 4.2.1 Catogerical transformation"
   ]
  },
  {
   "cell_type": "code",
   "execution_count": null,
   "id": "46b2ae36",
   "metadata": {
    "id": "46b2ae36"
   },
   "outputs": [],
   "source": []
  },
  {
   "cell_type": "markdown",
   "id": "ece235c6",
   "metadata": {
    "id": "ece235c6"
   },
   "source": [
    "##### 4.2.1.1 ordinal transformation"
   ]
  },
  {
   "cell_type": "markdown",
   "id": "960a74e0",
   "metadata": {
    "id": "960a74e0"
   },
   "source": [
    "> The best case of owner type is (First), Of course the worst is Fourth & Above"
   ]
  },
  {
   "cell_type": "code",
   "execution_count": null,
   "id": "b531c396",
   "metadata": {
    "id": "b531c396"
   },
   "outputs": [],
   "source": []
  },
  {
   "cell_type": "code",
   "execution_count": null,
   "id": "de2df571",
   "metadata": {
    "id": "de2df571"
   },
   "outputs": [],
   "source": []
  },
  {
   "cell_type": "code",
   "execution_count": null,
   "id": "10cd18ec",
   "metadata": {
    "id": "10cd18ec"
   },
   "outputs": [],
   "source": []
  },
  {
   "cell_type": "code",
   "execution_count": null,
   "id": "4311e44d",
   "metadata": {
    "id": "4311e44d"
   },
   "outputs": [],
   "source": []
  },
  {
   "cell_type": "markdown",
   "id": "52a7d0df",
   "metadata": {
    "id": "52a7d0df"
   },
   "source": [
    "##### 4.2.1.2 Nominal transformation\n"
   ]
  },
  {
   "cell_type": "code",
   "execution_count": null,
   "id": "8c03f25c",
   "metadata": {
    "id": "8c03f25c"
   },
   "outputs": [],
   "source": []
  },
  {
   "cell_type": "code",
   "execution_count": null,
   "id": "a3409909",
   "metadata": {
    "id": "a3409909"
   },
   "outputs": [],
   "source": []
  },
  {
   "cell_type": "code",
   "execution_count": null,
   "id": "a6e289cc",
   "metadata": {
    "id": "a6e289cc"
   },
   "outputs": [],
   "source": []
  },
  {
   "cell_type": "code",
   "execution_count": null,
   "id": "955001e9",
   "metadata": {
    "id": "955001e9"
   },
   "outputs": [],
   "source": []
  },
  {
   "cell_type": "code",
   "execution_count": null,
   "id": "d102b84c",
   "metadata": {
    "id": "d102b84c"
   },
   "outputs": [],
   "source": []
  },
  {
   "cell_type": "markdown",
   "id": "876e37fd",
   "metadata": {
    "id": "876e37fd"
   },
   "source": [
    "# 5.0 Modeling "
   ]
  },
  {
   "cell_type": "markdown",
   "id": "2eac86ed",
   "metadata": {
    "id": "2eac86ed"
   },
   "source": [
    "### 5.1 Linear regression (OLS method)"
   ]
  },
  {
   "cell_type": "code",
   "execution_count": null,
   "id": "e96ddb49",
   "metadata": {
    "id": "e96ddb49"
   },
   "outputs": [],
   "source": []
  }
 ],
 "metadata": {
  "colab": {
   "provenance": []
  },
  "kernelspec": {
   "display_name": "Python 3 (ipykernel)",
   "language": "python",
   "name": "python3"
  },
  "language_info": {
   "codemirror_mode": {
    "name": "ipython",
    "version": 3
   },
   "file_extension": ".py",
   "mimetype": "text/x-python",
   "name": "python",
   "nbconvert_exporter": "python",
   "pygments_lexer": "ipython3",
   "version": "3.9.12"
  }
 },
 "nbformat": 4,
 "nbformat_minor": 5
}
