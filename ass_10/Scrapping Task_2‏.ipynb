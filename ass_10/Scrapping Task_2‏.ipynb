{
 "cells": [
  {
   "cell_type": "code",
   "execution_count": 11,
   "id": "381a30f4",
   "metadata": {},
   "outputs": [],
   "source": [
    "import requests\n",
    "from bs4 import BeautifulSoup\n",
    "\n"
   ]
  },
  {
   "cell_type": "code",
   "execution_count": 12,
   "id": "b85fc3e5",
   "metadata": {},
   "outputs": [],
   "source": [
    "response = requests.get('https://weather.com/weather/tenday/l/New+Cairo+Cairo+Egypt?canonicalCityId=1488e78d022ec6352ccdd806c2eb8aef53b1ad74ec6dee870c009b2640efd6f4')\n",
    "soup = BeautifulSoup(response.content, \"html.parser\")\n"
   ]
  },
  {
   "cell_type": "code",
   "execution_count": 13,
   "id": "f935cc74",
   "metadata": {},
   "outputs": [],
   "source": [
    "weather = soup.find_all('div', {'data-testid': 'DetailsSummary'})"
   ]
  },
  {
   "cell_type": "code",
   "execution_count": 14,
   "id": "916d7186",
   "metadata": {},
   "outputs": [
    {
     "name": "stdout",
     "output_type": "stream",
     "text": [
      "in Sun 11 temp is  35.0\n",
      "in Mon 12 temp is  35.0\n",
      "in Tue 13 temp is  34.0\n",
      "in Wed 14 temp is  33.0\n",
      "in Thu 15 temp is  31.0\n",
      "in Fri 16 temp is  32.0\n",
      "in Sat 17 temp is  33.0\n",
      "in Sun 18 temp is  34.0\n",
      "in Mon 19 temp is  35.0\n",
      "in Tue 20 temp is  35.0\n",
      "in Wed 21 temp is  34.0\n",
      "in Thu 22 temp is  33.0\n",
      "in Fri 23 temp is  31.0\n",
      "in Sat 24 temp is  31.0\n"
     ]
    }
   ],
   "source": [
    "import csv\n",
    "with open('temp.csv','w') as csv_file:\n",
    "    writer = csv.DictWriter(csv_file,fieldnames=['day','temp'])\n",
    "    writer.writeheader()\n",
    "    for days in weather[1:]:\n",
    "        day = days.find('h3').text\n",
    "        temp = (days.find('span', {'data-testid': 'TemperatureValue','class': 'DetailsSummary--highTempValue--3Oteu'}).text)\n",
    "        print('in',day, 'temp is ', (int(temp[:-1])-32)//1.8)\n",
    "        #******************************write in csv***************************************************\n",
    "        writer.writerow({'day':day, 'temp': (int(temp[:-1])-32)//1.8 })"
   ]
  },
  {
   "cell_type": "code",
   "execution_count": null,
   "id": "4987239e",
   "metadata": {},
   "outputs": [],
   "source": []
  }
 ],
 "metadata": {
  "kernelspec": {
   "display_name": "Python 3 (ipykernel)",
   "language": "python",
   "name": "python3"
  },
  "language_info": {
   "codemirror_mode": {
    "name": "ipython",
    "version": 3
   },
   "file_extension": ".py",
   "mimetype": "text/x-python",
   "name": "python",
   "nbconvert_exporter": "python",
   "pygments_lexer": "ipython3",
   "version": "3.9.12"
  }
 },
 "nbformat": 4,
 "nbformat_minor": 5
}
