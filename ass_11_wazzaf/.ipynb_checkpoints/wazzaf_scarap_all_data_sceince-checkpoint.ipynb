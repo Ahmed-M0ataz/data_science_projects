{
 "cells": [
  {
   "cell_type": "code",
   "execution_count": 21,
   "id": "55b11802",
   "metadata": {},
   "outputs": [],
   "source": [
    "import requests\n",
    "from bs4 import BeautifulSoup\n",
    "\n",
    "response  = requests.get('https://wuzzuf.net/search/jobs/?a=navbl&q=data%20science%20jobs&start=50')\n",
    "soup = BeautifulSoup(response.content,'html.parser')\n"
   ]
  },
  {
   "cell_type": "code",
   "execution_count": 29,
   "id": "435e1a9b",
   "metadata": {},
   "outputs": [
    {
     "name": "stdout",
     "output_type": "stream",
     "text": [
      "<Response [200]>     1\n",
      "<Response [200]>     2\n",
      "<Response [200]>     3\n",
      "<Response [200]>     4\n",
      "<Response [200]>     5\n",
      "<Response [200]>     6\n",
      "<Response [200]>     7\n",
      "<Response [200]>     8\n",
      "<Response [200]>     9\n",
      "<Response [200]>     10\n",
      "<Response [200]>     11\n",
      "<Response [200]>     12\n",
      "<Response [200]>     13\n",
      "<Response [200]>     14\n",
      "<Response [200]>     15\n",
      "<Response [200]>     16\n",
      "<Response [200]>     17\n",
      "<Response [200]>     18\n",
      "<Response [200]>     19\n",
      "<Response [200]>     20\n",
      "<Response [200]>     21\n",
      "<Response [200]>     22\n",
      "<Response [200]>     23\n",
      "<Response [200]>     24\n",
      "<Response [200]>     25\n",
      "<Response [200]>     26\n",
      "<Response [200]>     27\n",
      "<Response [200]>     28\n",
      "<Response [200]>     29\n",
      "<Response [200]>     30\n",
      "<Response [200]>     31\n",
      "<Response [200]>     32\n",
      "<Response [200]>     33\n",
      "<Response [200]>     34\n",
      "<Response [200]>     35\n",
      "<Response [200]>     36\n",
      "<Response [200]>     37\n",
      "<Response [200]>     38\n",
      "<Response [200]>     39\n",
      "<Response [200]>     40\n",
      "<Response [200]>     41\n",
      "<Response [200]>     42\n",
      "<Response [200]>     43\n",
      "<Response [200]>     44\n",
      "<Response [200]>     45\n",
      "done\n"
     ]
    }
   ],
   "source": [
    "import csv\n",
    "with open('wazzaf.csv','w',newline='',encoding='utf-8-sig') as csv_file:\n",
    "    writer = csv.DictWriter(csv_file,fieldnames=['title','company_name','location','description','link'])\n",
    "    writer.writeheader()\n",
    "    page = 0\n",
    "    while True:\n",
    "        response  = requests.get(f'https://wuzzuf.net/search/jobs/?a=navbl&q=data%20science%20jobs&start={page}')\n",
    "        soup = BeautifulSoup(response.content,'html.parser')\n",
    "        contaner= soup.find_all('div',{'class':'css-pkv5jc'})\n",
    "        page += 1\n",
    "        print(response ,'   ',page)\n",
    "        try:\n",
    "            contaner[-1].find('a',{'class':'css-o171kl'}).get('href') \n",
    "        except:\n",
    "            break\n",
    "        else:\n",
    "            for jop in contaner:\n",
    "\n",
    "                link = 'https://wuzzuf.net'+jop.find('a',{'class':'css-o171kl'}).get('href')\n",
    "                title = jop.find('a',{'class':'css-o171kl'}).text\n",
    "                location = jop.find('span',{'class':'css-5wys0k'}).text\n",
    "                description = jop.find('div',{'class':'css-y4udm8'}).text\n",
    "                company_name = jop.find('a',{'class':'css-17s97q8'}).text\n",
    "                writer.writerow({'title': title,'company_name': company_name, 'location':location,'description':description,'link':link})\n",
    "\n",
    "print('done')      "
   ]
  },
  {
   "cell_type": "code",
   "execution_count": null,
   "id": "e06453a5",
   "metadata": {},
   "outputs": [],
   "source": []
  }
 ],
 "metadata": {
  "kernelspec": {
   "display_name": "Python 3 (ipykernel)",
   "language": "python",
   "name": "python3"
  },
  "language_info": {
   "codemirror_mode": {
    "name": "ipython",
    "version": 3
   },
   "file_extension": ".py",
   "mimetype": "text/x-python",
   "name": "python",
   "nbconvert_exporter": "python",
   "pygments_lexer": "ipython3",
   "version": "3.9.12"
  }
 },
 "nbformat": 4,
 "nbformat_minor": 5
}
